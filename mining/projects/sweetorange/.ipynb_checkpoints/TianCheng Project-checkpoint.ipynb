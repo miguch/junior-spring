{
 "cells": [
  {
   "cell_type": "code",
   "execution_count": 1,
   "metadata": {},
   "outputs": [],
   "source": [
    "import numpy as np\n",
    "import pandas as pd"
   ]
  },
  {
   "cell_type": "code",
   "execution_count": 62,
   "metadata": {},
   "outputs": [],
   "source": [
    "feature_path ='./feature/'\n",
    "res_path = './res/'\n",
    "data_path = './data/'\n",
    "second_round_path = './second round/'"
   ]
  },
  {
   "cell_type": "code",
   "execution_count": 63,
   "metadata": {},
   "outputs": [
    {
     "name": "stderr",
     "output_type": "stream",
     "text": [
      "/usr/local/lib/python3.7/site-packages/IPython/core/interactiveshell.py:3044: DtypeWarning: Columns (8) have mixed types. Specify dtype option on import or set low_memory=False.\n",
      "  interactivity=interactivity, compiler=compiler, result=result)\n"
     ]
    }
   ],
   "source": [
    "transaction_df = pd.read_csv(data_path+'transaction_train_new.csv')\n",
    "operation_df =  pd.read_csv(data_path+'operation_train_new.csv')\n",
    "label = pd.read_csv(data_path+'tag_train_new.csv')\n",
    "\n",
    "transaction_test = pd.read_csv(data_path+'transaction_round1_new.csv')\n",
    "operation_test = pd.read_csv(data_path+'operation_round1_new.csv')\n",
    "\n",
    "# transaction_test = pd.read_csv(second_round_path+'test_transaction_round2.csv')\n",
    "# operation_test = pd.read_csv(second_round_path+'test_operation_round2.csv')"
   ]
  },
  {
   "cell_type": "code",
   "execution_count": 350,
   "metadata": {},
   "outputs": [],
   "source": [
    "def merge_count(df1,df2,columns,value,cname):\n",
    "    add = df1.groupby(columns)[value].count().reset_index().rename(columns = {value:cname})\n",
    "    df2=df2.merge(add,on=columns,how=\"left\")\n",
    "    del add\n",
    "    return df2\n",
    "\n",
    "def merge_nunique(df1,df2,columns,value,cname):\n",
    "    add = df1.groupby(columns)[value].nunique().reset_index().rename(columns = {value:cname})\n",
    "    df2=df2.merge(add,on=columns,how=\"left\")\n",
    "    del add\n",
    "    return df2\n",
    "\n",
    "def merge_value_count(df1,df2,col, name=None, divisor=None):\n",
    "    if name is None:\n",
    "        name = col[1]\n",
    "    tmp = df1.groupby(col).size().reset_index().rename(columns = {0:'cnt'})\n",
    "    df = tmp.pivot(index=col[0],columns=col[1],values='cnt').reset_index()\n",
    "    if divisor is not None:\n",
    "        df = df.apply(lambda x: x.iloc[1:] / size[x.iloc[0]], axis=1)\n",
    "    cname = [col[0]]\n",
    "    for index in range(1,len(df.columns)):\n",
    "        cname.append(str(name)+'_'+str(df.columns[index]))\n",
    "    df.columns=cname\n",
    "    df = df.fillna(0)\n",
    "    df2 = df2.merge(df,on=str(col[0]),how='left')\n",
    "    del df,df1\n",
    "    return df2"
   ]
  },
  {
   "cell_type": "code",
   "execution_count": 351,
   "metadata": {},
   "outputs": [],
   "source": [
    "import geohash\n",
    "def get_op_fea(operation_df):\n",
    "    op_counts = operation_df.groupby('UID').size()\n",
    "    \n",
    "    #op_day\n",
    "    op_fea = operation_df[['UID']].drop_duplicates()\n",
    "    tmp = operation_df.groupby('UID')['day'].agg([max,min,np.mean]).reset_index()\n",
    "    tmp.columns=['UID','op_day_max','op_day_min','op_day_mean']\n",
    "    op_fea = pd.merge(op_fea,tmp,on='UID',how='left')\n",
    "    \n",
    "    #Geo info\n",
    "    geo = operation_df['geo_code'].apply(lambda x: ((x, x) if pd.isna(x) else geohash.decode(x)))\n",
    "    operation_df['latitude'] = geo.apply(lambda x: x[0])\n",
    "    operation_df['longtitude'] = geo.apply(lambda x: x[1])\n",
    "    tmp = operation_df.groupby('UID')['latitude'].agg([max,min,np.mean]).reset_index()\n",
    "    tmp.columns = ['UID', 'op_latitude_max', 'op_latitude_min', 'op_latitude_mean']\n",
    "    op_fea = pd.merge(op_fea, tmp, on='UID', how='left')\n",
    "    tmp = operation_df.groupby('UID')['longtitude'].agg([max,min,np.mean]).reset_index()\n",
    "    tmp.columns = ['UID', 'op_longtitude_max', 'op_longtitude_min', 'op_longtitude_mean']\n",
    "    op_fea = pd.merge(op_fea, tmp, on='UID', how='left')\n",
    "    #op_mode count\n",
    "    op_fea = merge_count(operation_df,op_fea,'UID','mode','op_cnt')\n",
    "    op_fea = merge_nunique(operation_df,op_fea,'UID','mode','op_mode_nunique')\n",
    "    #success count\n",
    "    op_fea = merge_count(operation_df[operation_df.success==0],op_fea,'UID','mode','op_fail_cnt')\n",
    "    op_fea = merge_count(operation_df[operation_df.success==1],op_fea,'UID','mode','op_success_cnt')\n",
    "    op_fea['op_fail_cnt'] = op_fea['op_fail_cnt'].fillna(0)\n",
    "    op_fea['op_success_cnt'] = op_fea['op_success_cnt'].fillna(0)\n",
    "    \n",
    "    op_fea = merge_value_count(operation_df,op_fea,['UID','day'],'op_days', divisor=op_counts)\n",
    "    #op_time\n",
    "    operation_df['op_hour'] = operation_df['time'].apply(lambda x:int(x.split(':')[0]))\n",
    "    tmp = operation_df.groupby('UID')['op_hour'].agg([max,min,np.mean]).reset_index()\n",
    "    tmp.columns=['UID','op_hour_max','op_hour_min','op_hour_mean']\n",
    "    op_fea = pd.merge(op_fea,tmp,on='UID',how='left')\n",
    "    op_fea = merge_value_count(operation_df,op_fea,['UID','op_hour'], divisor=op_counts)\n",
    "    \n",
    "    #op_os\n",
    "    for col in ['os','version','device1','device2','device_code1','device_code2','mac1','ip1','ip2','device_code3','mac2','wifi','ip1_sub','ip2_sub']:\n",
    "        op_fea = merge_nunique(operation_df,op_fea,'UID',col,'op_'+col+'_nunique')\n",
    "    return op_fea\n",
    "\n",
    "def get_trans_fea(transaction_df):\n",
    "    trans_counts = transaction_df.groupby('UID').size()\n",
    "    \n",
    "    trans_fea = transaction_df[['UID']].drop_duplicates()\n",
    "    #trans_channel\n",
    "    trans_fea = merge_value_count(transaction_df,trans_fea,['UID','channel'], 'trans_channel', divisor=trans_counts)\n",
    "    trans_fea = merge_count(transaction_df,trans_fea,'UID','channel','trans_cnt')\n",
    "    trans_fea = merge_nunique(transaction_df,trans_fea,'UID','channel','trans_channel_nunique')\n",
    "    \n",
    "    # Days\n",
    "    trans_fea = merge_value_count(transaction_df,trans_fea,['UID','day'],'trans_day', divisor=trans_counts)\n",
    "    \n",
    "    geo = transaction_df['geo_code'].apply(lambda x: ((x, x) if pd.isna(x) else geohash.decode(x)))\n",
    "    transaction_df['latitude'] = geo.apply(lambda x: x[0])\n",
    "    transaction_df['longtitude'] = geo.apply(lambda x: x[1])\n",
    "    tmp = transaction_df.groupby('UID')['latitude'].agg([max,min,np.mean]).reset_index()\n",
    "    tmp.columns = ['UID', 'trans_latitude_max', 'trans_latitude_min', 'trans_latitude_mean']\n",
    "    trans_fea = pd.merge(trans_fea, tmp, on='UID', how='left')\n",
    "    tmp = transaction_df.groupby('UID')['longtitude'].agg([max,min,np.mean]).reset_index()\n",
    "    tmp.columns = ['UID', 'trans_longtitude_max', 'trans_longtitude_min', 'trans_longtitude_mean']\n",
    "    trans_fea = pd.merge(trans_fea, tmp, on='UID', how='left')\n",
    "    \n",
    "    #trans time\n",
    "    transaction_df['trans_hour'] = transaction_df['time'].apply(lambda x:int(x.split(':')[0]))\n",
    "    tmp = transaction_df.groupby('UID')['trans_hour'].agg([max,min,np.mean]).reset_index()\n",
    "    tmp.columns=['UID','trans_hour_max','trans_hour_min','trans_hour_mean']\n",
    "    trans_fea = pd.merge(trans_fea,tmp,on='UID',how='left')\n",
    "    trans_fea = merge_value_count(transaction_df,trans_fea,['UID','trans_hour'], divisor=trans_counts)\n",
    "\n",
    "    for col in ['trans_type2','market_type']:\n",
    "        trans_fea = merge_value_count(transaction_df,trans_fea,['UID',col], 'trans_%s'%col, divisor=trans_counts)\n",
    "        trans_fea = merge_nunique(transaction_df,trans_fea,'UID',col,'trans_'+col+'_nunique')\n",
    "    for col in ['trans_type1','merchant','code1','code2','acc_id1','device_code1','device_code2','device_code3','device1','device2','mac1','ip1','acc_id2','acc_id3','market_code','ip1_sub']:\n",
    "        trans_fea = merge_nunique(transaction_df,trans_fea,'UID',col,'trans_'+col+'_nunique')\n",
    "    return trans_fea\n"
   ]
  },
  {
   "cell_type": "code",
   "execution_count": 352,
   "metadata": {},
   "outputs": [
    {
     "ename": "KeyboardInterrupt",
     "evalue": "",
     "output_type": "error",
     "traceback": [
      "\u001b[0;31m---------------------------------------------------------------------------\u001b[0m",
      "\u001b[0;31mKeyboardInterrupt\u001b[0m                         Traceback (most recent call last)",
      "\u001b[0;32m<ipython-input-352-f0e6c6301e97>\u001b[0m in \u001b[0;36m<module>\u001b[0;34m\u001b[0m\n\u001b[0;32m----> 1\u001b[0;31m \u001b[0moperation_features\u001b[0m \u001b[0;34m=\u001b[0m \u001b[0mget_op_fea\u001b[0m\u001b[0;34m(\u001b[0m\u001b[0moperation_df\u001b[0m\u001b[0;34m)\u001b[0m\u001b[0;34m\u001b[0m\u001b[0;34m\u001b[0m\u001b[0m\n\u001b[0m\u001b[1;32m      2\u001b[0m \u001b[0mtransaction_features\u001b[0m \u001b[0;34m=\u001b[0m \u001b[0mget_trans_fea\u001b[0m\u001b[0;34m(\u001b[0m\u001b[0mtransaction_df\u001b[0m\u001b[0;34m)\u001b[0m\u001b[0;34m\u001b[0m\u001b[0;34m\u001b[0m\u001b[0m\n",
      "\u001b[0;32m<ipython-input-351-d32ba5af16dd>\u001b[0m in \u001b[0;36mget_op_fea\u001b[0;34m(operation_df)\u001b[0m\n\u001b[1;32m     28\u001b[0m     \u001b[0mop_fea\u001b[0m\u001b[0;34m[\u001b[0m\u001b[0;34m'op_success_cnt'\u001b[0m\u001b[0;34m]\u001b[0m \u001b[0;34m=\u001b[0m \u001b[0mop_fea\u001b[0m\u001b[0;34m[\u001b[0m\u001b[0;34m'op_success_cnt'\u001b[0m\u001b[0;34m]\u001b[0m\u001b[0;34m.\u001b[0m\u001b[0mfillna\u001b[0m\u001b[0;34m(\u001b[0m\u001b[0;36m0\u001b[0m\u001b[0;34m)\u001b[0m\u001b[0;34m\u001b[0m\u001b[0;34m\u001b[0m\u001b[0m\n\u001b[1;32m     29\u001b[0m \u001b[0;34m\u001b[0m\u001b[0m\n\u001b[0;32m---> 30\u001b[0;31m     \u001b[0mop_fea\u001b[0m \u001b[0;34m=\u001b[0m \u001b[0mmerge_value_count\u001b[0m\u001b[0;34m(\u001b[0m\u001b[0moperation_df\u001b[0m\u001b[0;34m,\u001b[0m\u001b[0mop_fea\u001b[0m\u001b[0;34m,\u001b[0m\u001b[0;34m[\u001b[0m\u001b[0;34m'UID'\u001b[0m\u001b[0;34m,\u001b[0m\u001b[0;34m'day'\u001b[0m\u001b[0;34m]\u001b[0m\u001b[0;34m,\u001b[0m\u001b[0;34m'op_days'\u001b[0m\u001b[0;34m,\u001b[0m \u001b[0mdivisor\u001b[0m\u001b[0;34m=\u001b[0m\u001b[0mop_counts\u001b[0m\u001b[0;34m)\u001b[0m\u001b[0;34m\u001b[0m\u001b[0;34m\u001b[0m\u001b[0m\n\u001b[0m\u001b[1;32m     31\u001b[0m     \u001b[0;31m#op_time\u001b[0m\u001b[0;34m\u001b[0m\u001b[0;34m\u001b[0m\u001b[0;34m\u001b[0m\u001b[0m\n\u001b[1;32m     32\u001b[0m     \u001b[0moperation_df\u001b[0m\u001b[0;34m[\u001b[0m\u001b[0;34m'op_hour'\u001b[0m\u001b[0;34m]\u001b[0m \u001b[0;34m=\u001b[0m \u001b[0moperation_df\u001b[0m\u001b[0;34m[\u001b[0m\u001b[0;34m'time'\u001b[0m\u001b[0;34m]\u001b[0m\u001b[0;34m.\u001b[0m\u001b[0mapply\u001b[0m\u001b[0;34m(\u001b[0m\u001b[0;32mlambda\u001b[0m \u001b[0mx\u001b[0m\u001b[0;34m:\u001b[0m\u001b[0mint\u001b[0m\u001b[0;34m(\u001b[0m\u001b[0mx\u001b[0m\u001b[0;34m.\u001b[0m\u001b[0msplit\u001b[0m\u001b[0;34m(\u001b[0m\u001b[0;34m':'\u001b[0m\u001b[0;34m)\u001b[0m\u001b[0;34m[\u001b[0m\u001b[0;36m0\u001b[0m\u001b[0;34m]\u001b[0m\u001b[0;34m)\u001b[0m\u001b[0;34m)\u001b[0m\u001b[0;34m\u001b[0m\u001b[0;34m\u001b[0m\u001b[0m\n",
      "\u001b[0;32m<ipython-input-350-3a3aad5f3c02>\u001b[0m in \u001b[0;36mmerge_value_count\u001b[0;34m(df1, df2, col, name, divisor)\u001b[0m\n\u001b[1;32m     18\u001b[0m     \u001b[0;32mif\u001b[0m \u001b[0mdivisor\u001b[0m \u001b[0;32mis\u001b[0m \u001b[0;32mnot\u001b[0m \u001b[0;32mNone\u001b[0m\u001b[0;34m:\u001b[0m\u001b[0;34m\u001b[0m\u001b[0;34m\u001b[0m\u001b[0m\n\u001b[1;32m     19\u001b[0m         \u001b[0;32mfor\u001b[0m \u001b[0mi\u001b[0m \u001b[0;32min\u001b[0m \u001b[0mrange\u001b[0m\u001b[0;34m(\u001b[0m\u001b[0;36m0\u001b[0m\u001b[0;34m,\u001b[0m \u001b[0mdf\u001b[0m\u001b[0;34m.\u001b[0m\u001b[0mshape\u001b[0m\u001b[0;34m[\u001b[0m\u001b[0;36m0\u001b[0m\u001b[0;34m]\u001b[0m\u001b[0;34m)\u001b[0m\u001b[0;34m:\u001b[0m\u001b[0;34m\u001b[0m\u001b[0;34m\u001b[0m\u001b[0m\n\u001b[0;32m---> 20\u001b[0;31m             \u001b[0mdf\u001b[0m\u001b[0;34m.\u001b[0m\u001b[0miloc\u001b[0m\u001b[0;34m[\u001b[0m\u001b[0mi\u001b[0m\u001b[0;34m,\u001b[0m \u001b[0;36m1\u001b[0m\u001b[0;34m:\u001b[0m\u001b[0;34m]\u001b[0m \u001b[0;34m/=\u001b[0m \u001b[0mdivisor\u001b[0m\u001b[0;34m.\u001b[0m\u001b[0mloc\u001b[0m\u001b[0;34m[\u001b[0m\u001b[0mdf\u001b[0m\u001b[0;34m.\u001b[0m\u001b[0miloc\u001b[0m\u001b[0;34m[\u001b[0m\u001b[0mi\u001b[0m\u001b[0;34m,\u001b[0m \u001b[0;36m0\u001b[0m\u001b[0;34m]\u001b[0m\u001b[0;34m]\u001b[0m\u001b[0;34m\u001b[0m\u001b[0;34m\u001b[0m\u001b[0m\n\u001b[0m\u001b[1;32m     21\u001b[0m     \u001b[0mcname\u001b[0m \u001b[0;34m=\u001b[0m \u001b[0;34m[\u001b[0m\u001b[0mcol\u001b[0m\u001b[0;34m[\u001b[0m\u001b[0;36m0\u001b[0m\u001b[0;34m]\u001b[0m\u001b[0;34m]\u001b[0m\u001b[0;34m\u001b[0m\u001b[0;34m\u001b[0m\u001b[0m\n\u001b[1;32m     22\u001b[0m     \u001b[0;32mfor\u001b[0m \u001b[0mindex\u001b[0m \u001b[0;32min\u001b[0m \u001b[0mrange\u001b[0m\u001b[0;34m(\u001b[0m\u001b[0;36m1\u001b[0m\u001b[0;34m,\u001b[0m\u001b[0mlen\u001b[0m\u001b[0;34m(\u001b[0m\u001b[0mdf\u001b[0m\u001b[0;34m.\u001b[0m\u001b[0mcolumns\u001b[0m\u001b[0;34m)\u001b[0m\u001b[0;34m)\u001b[0m\u001b[0;34m:\u001b[0m\u001b[0;34m\u001b[0m\u001b[0;34m\u001b[0m\u001b[0m\n",
      "\u001b[0;32m/usr/local/lib/python3.7/site-packages/pandas/core/indexing.py\u001b[0m in \u001b[0;36m__setitem__\u001b[0;34m(self, key, value)\u001b[0m\n\u001b[1;32m    188\u001b[0m             \u001b[0mkey\u001b[0m \u001b[0;34m=\u001b[0m \u001b[0mcom\u001b[0m\u001b[0;34m.\u001b[0m\u001b[0mapply_if_callable\u001b[0m\u001b[0;34m(\u001b[0m\u001b[0mkey\u001b[0m\u001b[0;34m,\u001b[0m \u001b[0mself\u001b[0m\u001b[0;34m.\u001b[0m\u001b[0mobj\u001b[0m\u001b[0;34m)\u001b[0m\u001b[0;34m\u001b[0m\u001b[0;34m\u001b[0m\u001b[0m\n\u001b[1;32m    189\u001b[0m         \u001b[0mindexer\u001b[0m \u001b[0;34m=\u001b[0m \u001b[0mself\u001b[0m\u001b[0;34m.\u001b[0m\u001b[0m_get_setitem_indexer\u001b[0m\u001b[0;34m(\u001b[0m\u001b[0mkey\u001b[0m\u001b[0;34m)\u001b[0m\u001b[0;34m\u001b[0m\u001b[0;34m\u001b[0m\u001b[0m\n\u001b[0;32m--> 190\u001b[0;31m         \u001b[0mself\u001b[0m\u001b[0;34m.\u001b[0m\u001b[0m_setitem_with_indexer\u001b[0m\u001b[0;34m(\u001b[0m\u001b[0mindexer\u001b[0m\u001b[0;34m,\u001b[0m \u001b[0mvalue\u001b[0m\u001b[0;34m)\u001b[0m\u001b[0;34m\u001b[0m\u001b[0;34m\u001b[0m\u001b[0m\n\u001b[0m\u001b[1;32m    191\u001b[0m \u001b[0;34m\u001b[0m\u001b[0m\n\u001b[1;32m    192\u001b[0m     \u001b[0;32mdef\u001b[0m \u001b[0m_validate_key\u001b[0m\u001b[0;34m(\u001b[0m\u001b[0mself\u001b[0m\u001b[0;34m,\u001b[0m \u001b[0mkey\u001b[0m\u001b[0;34m,\u001b[0m \u001b[0maxis\u001b[0m\u001b[0;34m)\u001b[0m\u001b[0;34m:\u001b[0m\u001b[0;34m\u001b[0m\u001b[0;34m\u001b[0m\u001b[0m\n",
      "\u001b[0;32m/usr/local/lib/python3.7/site-packages/pandas/core/indexing.py\u001b[0m in \u001b[0;36m_setitem_with_indexer\u001b[0;34m(self, indexer, value)\u001b[0m\n\u001b[1;32m    613\u001b[0m \u001b[0;34m\u001b[0m\u001b[0m\n\u001b[1;32m    614\u001b[0m                     \u001b[0;32mfor\u001b[0m \u001b[0mitem\u001b[0m\u001b[0;34m,\u001b[0m \u001b[0mv\u001b[0m \u001b[0;32min\u001b[0m \u001b[0mzip\u001b[0m\u001b[0;34m(\u001b[0m\u001b[0mlabels\u001b[0m\u001b[0;34m,\u001b[0m \u001b[0mvalue\u001b[0m\u001b[0;34m)\u001b[0m\u001b[0;34m:\u001b[0m\u001b[0;34m\u001b[0m\u001b[0;34m\u001b[0m\u001b[0m\n\u001b[0;32m--> 615\u001b[0;31m                         \u001b[0msetter\u001b[0m\u001b[0;34m(\u001b[0m\u001b[0mitem\u001b[0m\u001b[0;34m,\u001b[0m \u001b[0mv\u001b[0m\u001b[0;34m)\u001b[0m\u001b[0;34m\u001b[0m\u001b[0;34m\u001b[0m\u001b[0m\n\u001b[0m\u001b[1;32m    616\u001b[0m             \u001b[0;32melse\u001b[0m\u001b[0;34m:\u001b[0m\u001b[0;34m\u001b[0m\u001b[0;34m\u001b[0m\u001b[0m\n\u001b[1;32m    617\u001b[0m \u001b[0;34m\u001b[0m\u001b[0m\n",
      "\u001b[0;32m/usr/local/lib/python3.7/site-packages/pandas/core/indexing.py\u001b[0m in \u001b[0;36msetter\u001b[0;34m(item, v)\u001b[0m\n\u001b[1;32m    537\u001b[0m                     \u001b[0ms\u001b[0m\u001b[0;34m.\u001b[0m\u001b[0m_consolidate_inplace\u001b[0m\u001b[0;34m(\u001b[0m\u001b[0;34m)\u001b[0m\u001b[0;34m\u001b[0m\u001b[0;34m\u001b[0m\u001b[0m\n\u001b[1;32m    538\u001b[0m                     \u001b[0ms\u001b[0m \u001b[0;34m=\u001b[0m \u001b[0ms\u001b[0m\u001b[0;34m.\u001b[0m\u001b[0mcopy\u001b[0m\u001b[0;34m(\u001b[0m\u001b[0;34m)\u001b[0m\u001b[0;34m\u001b[0m\u001b[0;34m\u001b[0m\u001b[0m\n\u001b[0;32m--> 539\u001b[0;31m                     \u001b[0ms\u001b[0m\u001b[0;34m.\u001b[0m\u001b[0m_data\u001b[0m \u001b[0;34m=\u001b[0m \u001b[0ms\u001b[0m\u001b[0;34m.\u001b[0m\u001b[0m_data\u001b[0m\u001b[0;34m.\u001b[0m\u001b[0msetitem\u001b[0m\u001b[0;34m(\u001b[0m\u001b[0mindexer\u001b[0m\u001b[0;34m=\u001b[0m\u001b[0mpi\u001b[0m\u001b[0;34m,\u001b[0m \u001b[0mvalue\u001b[0m\u001b[0;34m=\u001b[0m\u001b[0mv\u001b[0m\u001b[0;34m)\u001b[0m\u001b[0;34m\u001b[0m\u001b[0;34m\u001b[0m\u001b[0m\n\u001b[0m\u001b[1;32m    540\u001b[0m                     \u001b[0ms\u001b[0m\u001b[0;34m.\u001b[0m\u001b[0m_maybe_update_cacher\u001b[0m\u001b[0;34m(\u001b[0m\u001b[0mclear\u001b[0m\u001b[0;34m=\u001b[0m\u001b[0;32mTrue\u001b[0m\u001b[0;34m)\u001b[0m\u001b[0;34m\u001b[0m\u001b[0;34m\u001b[0m\u001b[0m\n\u001b[1;32m    541\u001b[0m \u001b[0;34m\u001b[0m\u001b[0m\n",
      "\u001b[0;32m/usr/local/lib/python3.7/site-packages/pandas/core/internals/managers.py\u001b[0m in \u001b[0;36msetitem\u001b[0;34m(self, **kwargs)\u001b[0m\n\u001b[1;32m    508\u001b[0m \u001b[0;34m\u001b[0m\u001b[0m\n\u001b[1;32m    509\u001b[0m     \u001b[0;32mdef\u001b[0m \u001b[0msetitem\u001b[0m\u001b[0;34m(\u001b[0m\u001b[0mself\u001b[0m\u001b[0;34m,\u001b[0m \u001b[0;34m**\u001b[0m\u001b[0mkwargs\u001b[0m\u001b[0;34m)\u001b[0m\u001b[0;34m:\u001b[0m\u001b[0;34m\u001b[0m\u001b[0;34m\u001b[0m\u001b[0m\n\u001b[0;32m--> 510\u001b[0;31m         \u001b[0;32mreturn\u001b[0m \u001b[0mself\u001b[0m\u001b[0;34m.\u001b[0m\u001b[0mapply\u001b[0m\u001b[0;34m(\u001b[0m\u001b[0;34m'setitem'\u001b[0m\u001b[0;34m,\u001b[0m \u001b[0;34m**\u001b[0m\u001b[0mkwargs\u001b[0m\u001b[0;34m)\u001b[0m\u001b[0;34m\u001b[0m\u001b[0;34m\u001b[0m\u001b[0m\n\u001b[0m\u001b[1;32m    511\u001b[0m \u001b[0;34m\u001b[0m\u001b[0m\n\u001b[1;32m    512\u001b[0m     \u001b[0;32mdef\u001b[0m \u001b[0mputmask\u001b[0m\u001b[0;34m(\u001b[0m\u001b[0mself\u001b[0m\u001b[0;34m,\u001b[0m \u001b[0;34m**\u001b[0m\u001b[0mkwargs\u001b[0m\u001b[0;34m)\u001b[0m\u001b[0;34m:\u001b[0m\u001b[0;34m\u001b[0m\u001b[0;34m\u001b[0m\u001b[0m\n",
      "\u001b[0;31mKeyboardInterrupt\u001b[0m: "
     ]
    }
   ],
   "source": [
    "operation_features = get_op_fea(operation_df)\n",
    "transaction_features = get_trans_fea(transaction_df)"
   ]
  },
  {
   "cell_type": "code",
   "execution_count": null,
   "metadata": {},
   "outputs": [],
   "source": [
    "operation_test_feat = get_op_fea(operation_test)\n",
    "transaction_test_feat = get_trans_fea(transaction_test)"
   ]
  },
  {
   "cell_type": "code",
   "execution_count": null,
   "metadata": {},
   "outputs": [],
   "source": []
  },
  {
   "cell_type": "code",
   "execution_count": 207,
   "metadata": {},
   "outputs": [],
   "source": [
    "train_features = operation_features.merge(transaction_features, on='UID', how='outer')\n",
    "train_data = train_features.merge(label,on='UID',how='left')\n",
    "train_data = train_data.drop('UID', axis=1)\n",
    "test_features = operation_test_feat.merge(transaction_test_feat, on='UID', how='outer').sort_values(['UID'])\n",
    "UIDs = test_features['UID']\n",
    "test_features = test_features.drop('UID', axis=1)\n",
    "\n",
    "columns_to_drop = [col for col in train_data.columns if col not in test_features.columns and col != 'Tag']\n",
    "train_data = train_data.drop(columns_to_drop, axis=1)\n",
    "columns_to_drop = [col for col in test_features.columns if col not in train_data.columns and col != 'Tag']\n",
    "test_features = test_features.drop(columns_to_drop, axis=1)"
   ]
  },
  {
   "cell_type": "code",
   "execution_count": 211,
   "metadata": {},
   "outputs": [],
   "source": [
    "import sklearn.preprocessing\n",
    "def preprocess(x):\n",
    "    scaler = sklearn.preprocessing.MinMaxScaler()\n",
    "    return scaler.fit_transform(x)"
   ]
  },
  {
   "cell_type": "code",
   "execution_count": 212,
   "metadata": {},
   "outputs": [],
   "source": [
    "def tpr_scorer(estimator, x, y_true):\n",
    "    y_predict = estimator.predict_proba(x)[:, 1]\n",
    "    d = pd.DataFrame()\n",
    "    d['prob'] = list(y_predict)\n",
    "    d['y'] = list(y_true)\n",
    "    d = d.sort_values(['prob'], ascending=[0])\n",
    "    y = d.y\n",
    "    \n",
    "    PosAll = pd.Series(y).value_counts()[1]\n",
    "    NegAll = pd.Series(y).value_counts()[0]\n",
    "    pCumsum = d['y'].cumsum()\n",
    "    nCumsum = np.arange(len(y)) - pCumsum + 1\n",
    "    pCumsumPer = pCumsum / PosAll\n",
    "    nCumsumPer = nCumsum / NegAll\n",
    "    TR1 = pCumsumPer[abs(nCumsumPer-0.001).idxmin()]\n",
    "    TR2 = pCumsumPer[abs(nCumsumPer-0.005).idxmin()]\n",
    "    TR3 = pCumsumPer[abs(nCumsumPer-0.01).idxmin()]\n",
    "    return 0.4 * TR1 + 0.3 * TR2 + 0.3 * TR3"
   ]
  },
  {
   "cell_type": "code",
   "execution_count": 213,
   "metadata": {},
   "outputs": [],
   "source": [
    "import sklearn.model_selection\n",
    "import sklearn.metrics\n",
    "import lightgbm as lgb\n",
    "# import xgboost as xgb\n",
    "def cv(x, y, params={}, splits=5):\n",
    "    clf = lgb.LGBMClassifier(**params)\n",
    "#     clf = xgb.XGBClassifier(**params)\n",
    "    kfold = sklearn.model_selection.StratifiedKFold(splits, shuffle=True)\n",
    "    cv_score = sklearn.model_selection.cross_validate(clf, x, y, cv=kfold, scoring={\n",
    "        'tpr': tpr_scorer,\n",
    "        'accuracy': 'accuracy',\n",
    "        'f1': 'f1_micro',\n",
    "        'roc_auc': 'roc_auc'\n",
    "    })\n",
    "    return cv_score"
   ]
  },
  {
   "cell_type": "code",
   "execution_count": 230,
   "metadata": {},
   "outputs": [
    {
     "name": "stdout",
     "output_type": "stream",
     "text": [
      "fit_time: [ 7.69233584 10.53647089  9.28075695  9.89615607 10.51249981]\n",
      "Average fit_time: 9.583644\n",
      "score_time: [0.77393508 0.77925777 0.78333902 0.81231403 0.7497673 ]\n",
      "Average score_time: 0.779723\n",
      "test_tpr: [0.74014002 0.76651109 0.74819137 0.75589265 0.71050175]\n",
      "Average test_tpr: 0.744247\n",
      "train_tpr: [0.99743291 0.99556593 0.9966161  0.99684947 0.99696616]\n",
      "Average train_tpr: 0.996686\n",
      "test_accuracy: [0.95894804 0.95798589 0.95686337 0.95237332 0.95589415]\n",
      "Average test_accuracy: 0.956413\n",
      "train_accuracy: [0.99571022 0.99558995 0.9957904  0.99587058 0.99599102]\n",
      "Average train_accuracy: 0.995790\n",
      "test_f1: [0.95894804 0.95798589 0.95686337 0.95237332 0.95589415]\n",
      "Average test_f1: 0.956413\n",
      "train_f1: [0.99571022 0.99558995 0.9957904  0.99587058 0.99599102]\n",
      "Average train_f1: 0.995790\n",
      "test_roc_auc: [0.96875723 0.96839746 0.96827956 0.96199903 0.96847088]\n",
      "Average test_roc_auc: 0.967181\n",
      "train_roc_auc: [0.99992804 0.99990758 0.99988904 0.99989541 0.99990425]\n",
      "Average train_roc_auc: 0.999905\n"
     ]
    }
   ],
   "source": [
    "params = {\n",
    "    'boosting_type': 'gbdt',\n",
    "    'objective': 'binary',\n",
    "#     'objective': 'binary:logistic',\n",
    "    'max_depth': 6,\n",
    "    'num_leaves': 50,\n",
    "#     'max_leaf_nodes': 50,\n",
    "    'min_child_samples': 650,\n",
    "    'n_estimators': 3000,\n",
    "    'learning_rate': 0.05,\n",
    "    'scale_pos_weight': float(label[label.Tag==0].shape[0]) / label[label.Tag==1].shape[0],\n",
    "    'boost_from_average': True,\n",
    "    'min_child_weight': 4,\n",
    "#     'gamma': 3,\n",
    "    'reg_alpha': 3,\n",
    "    'reg_lambda': 10,\n",
    "    'subsample': 0.7,\n",
    "    'colsample_bytree':0.7, \n",
    "    'subsample_freq': 1,\n",
    "    'n_jobs': -1,\n",
    "#     'booster':'gbtree',\n",
    "}\n",
    "cv_result = cv(train_data.drop('Tag', axis=1).values, train_data.loc[:, 'Tag'].values, params=params, splits=5)\n",
    "for scorer, score in cv_result.items():\n",
    "    print('%s: %s' % (scorer, score))\n",
    "    print('Average %s: %f' % (scorer, score.mean()))"
   ]
  },
  {
   "cell_type": "code",
   "execution_count": 224,
   "metadata": {},
   "outputs": [],
   "source": [
    "def train(x, y, params={}):\n",
    "    clf = lgb.LGBMClassifier(**params)\n",
    "#     clf = xgb.XGBClassifier(**params)\n",
    "    clf.fit(x, y)\n",
    "    return clf"
   ]
  },
  {
   "cell_type": "code",
   "execution_count": 225,
   "metadata": {},
   "outputs": [],
   "source": [
    "model = train(train_data.drop('Tag', axis=1).values, train_data.loc[:, 'Tag'].values, params=params)"
   ]
  },
  {
   "cell_type": "code",
   "execution_count": 226,
   "metadata": {},
   "outputs": [],
   "source": [
    "result = model.predict_proba(test_features.values)[:, 1]"
   ]
  },
  {
   "cell_type": "code",
   "execution_count": 227,
   "metadata": {},
   "outputs": [],
   "source": [
    "result_frame = pd.DataFrame()\n",
    "result_frame['UID'] = UIDs\n",
    "result_frame['Tag'] = result"
   ]
  },
  {
   "cell_type": "code",
   "execution_count": 228,
   "metadata": {},
   "outputs": [],
   "source": [
    "result_frame.to_csv(res_path + 'res.csv', index=False)"
   ]
  },
  {
   "cell_type": "code",
   "execution_count": 229,
   "metadata": {},
   "outputs": [
    {
     "data": {
      "text/plain": [
       "0.08644784922110392"
      ]
     },
     "execution_count": 229,
     "metadata": {},
     "output_type": "execute_result"
    }
   ],
   "source": [
    "(result > 0.5).sum() / len(result)"
   ]
  },
  {
   "cell_type": "code",
   "execution_count": 231,
   "metadata": {},
   "outputs": [
    {
     "data": {
      "text/plain": [
       "['UID',\n",
       " 'op_day_max',\n",
       " 'op_day_min',\n",
       " 'op_day_mean',\n",
       " 'op_latitude_max',\n",
       " 'op_latitude_min',\n",
       " 'op_latitude_mean',\n",
       " 'op_longtitude_max',\n",
       " 'op_longtitude_min',\n",
       " 'op_longtitude_mean',\n",
       " 'op_cnt',\n",
       " 'op_mode_nunique',\n",
       " 'op_fail_cnt',\n",
       " 'op_success_cnt',\n",
       " 'op_days_1',\n",
       " 'op_days_2',\n",
       " 'op_days_3',\n",
       " 'op_days_4',\n",
       " 'op_days_5',\n",
       " 'op_days_6',\n",
       " 'op_days_7',\n",
       " 'op_days_8',\n",
       " 'op_days_9',\n",
       " 'op_days_10',\n",
       " 'op_days_11',\n",
       " 'op_days_12',\n",
       " 'op_days_13',\n",
       " 'op_days_14',\n",
       " 'op_days_15',\n",
       " 'op_days_16',\n",
       " 'op_days_17',\n",
       " 'op_days_18',\n",
       " 'op_days_19',\n",
       " 'op_days_20',\n",
       " 'op_days_21',\n",
       " 'op_days_22',\n",
       " 'op_days_23',\n",
       " 'op_days_24',\n",
       " 'op_days_25',\n",
       " 'op_days_26',\n",
       " 'op_days_27',\n",
       " 'op_days_28',\n",
       " 'op_days_29',\n",
       " 'op_days_30',\n",
       " 'op_hour_max',\n",
       " 'op_hour_min',\n",
       " 'op_hour_mean',\n",
       " 'op_hour_0',\n",
       " 'op_hour_1',\n",
       " 'op_hour_2',\n",
       " 'op_hour_3',\n",
       " 'op_hour_4',\n",
       " 'op_hour_5',\n",
       " 'op_hour_6',\n",
       " 'op_hour_7',\n",
       " 'op_hour_8',\n",
       " 'op_hour_9',\n",
       " 'op_hour_10',\n",
       " 'op_hour_11',\n",
       " 'op_hour_12',\n",
       " 'op_hour_13',\n",
       " 'op_hour_14',\n",
       " 'op_hour_15',\n",
       " 'op_hour_16',\n",
       " 'op_hour_17',\n",
       " 'op_hour_18',\n",
       " 'op_hour_19',\n",
       " 'op_hour_20',\n",
       " 'op_hour_21',\n",
       " 'op_hour_22',\n",
       " 'op_hour_23',\n",
       " 'op_os_nunique',\n",
       " 'op_version_nunique',\n",
       " 'op_device1_nunique',\n",
       " 'op_device2_nunique',\n",
       " 'op_device_code1_nunique',\n",
       " 'op_device_code2_nunique',\n",
       " 'op_mac1_nunique',\n",
       " 'op_ip1_nunique',\n",
       " 'op_ip2_nunique',\n",
       " 'op_device_code3_nunique',\n",
       " 'op_mac2_nunique',\n",
       " 'op_wifi_nunique',\n",
       " 'op_ip1_sub_nunique',\n",
       " 'op_ip2_sub_nunique',\n",
       " 'trans_channel_102',\n",
       " 'trans_channel_106',\n",
       " 'trans_channel_118',\n",
       " 'trans_channel_119',\n",
       " 'trans_channel_140',\n",
       " 'trans_cnt',\n",
       " 'trans_channel_nunique',\n",
       " 'trans_day_1',\n",
       " 'trans_day_2',\n",
       " 'trans_day_3',\n",
       " 'trans_day_4',\n",
       " 'trans_day_5',\n",
       " 'trans_day_6',\n",
       " 'trans_day_7',\n",
       " 'trans_day_8',\n",
       " 'trans_day_9',\n",
       " 'trans_day_10',\n",
       " 'trans_day_11',\n",
       " 'trans_day_12',\n",
       " 'trans_day_13',\n",
       " 'trans_day_14',\n",
       " 'trans_day_15',\n",
       " 'trans_day_16',\n",
       " 'trans_day_17',\n",
       " 'trans_day_18',\n",
       " 'trans_day_19',\n",
       " 'trans_day_20',\n",
       " 'trans_day_21',\n",
       " 'trans_day_22',\n",
       " 'trans_day_23',\n",
       " 'trans_day_24',\n",
       " 'trans_day_25',\n",
       " 'trans_day_26',\n",
       " 'trans_day_27',\n",
       " 'trans_day_28',\n",
       " 'trans_day_29',\n",
       " 'trans_day_30',\n",
       " 'trans_latitude_max',\n",
       " 'trans_latitude_min',\n",
       " 'trans_latitude_mean',\n",
       " 'trans_longtitude_max',\n",
       " 'trans_longtitude_min',\n",
       " 'trans_longtitude_mean',\n",
       " 'trans_hour_max',\n",
       " 'trans_hour_min',\n",
       " 'trans_hour_mean',\n",
       " 'trans_hour_0',\n",
       " 'trans_hour_1',\n",
       " 'trans_hour_2',\n",
       " 'trans_hour_3',\n",
       " 'trans_hour_4',\n",
       " 'trans_hour_5',\n",
       " 'trans_hour_6',\n",
       " 'trans_hour_7',\n",
       " 'trans_hour_8',\n",
       " 'trans_hour_9',\n",
       " 'trans_hour_10',\n",
       " 'trans_hour_11',\n",
       " 'trans_hour_12',\n",
       " 'trans_hour_13',\n",
       " 'trans_hour_14',\n",
       " 'trans_hour_15',\n",
       " 'trans_hour_16',\n",
       " 'trans_hour_17',\n",
       " 'trans_hour_18',\n",
       " 'trans_hour_19',\n",
       " 'trans_hour_20',\n",
       " 'trans_hour_21',\n",
       " 'trans_hour_22',\n",
       " 'trans_hour_23',\n",
       " 'trans_trans_type2_102.0',\n",
       " 'trans_trans_type2_103.0',\n",
       " 'trans_trans_type2_104.0',\n",
       " 'trans_trans_type2_105.0',\n",
       " 'trans_trans_type2_nunique',\n",
       " 'trans_market_type_1.0',\n",
       " 'trans_market_type_2.0',\n",
       " 'trans_market_type_nunique',\n",
       " 'trans_trans_type1_nunique',\n",
       " 'trans_merchant_nunique',\n",
       " 'trans_code1_nunique',\n",
       " 'trans_code2_nunique',\n",
       " 'trans_acc_id1_nunique',\n",
       " 'trans_device_code1_nunique',\n",
       " 'trans_device_code2_nunique',\n",
       " 'trans_device_code3_nunique',\n",
       " 'trans_device1_nunique',\n",
       " 'trans_device2_nunique',\n",
       " 'trans_mac1_nunique',\n",
       " 'trans_ip1_nunique',\n",
       " 'trans_acc_id2_nunique',\n",
       " 'trans_acc_id3_nunique',\n",
       " 'trans_market_code_nunique',\n",
       " 'trans_ip1_sub_nunique']"
      ]
     },
     "execution_count": 231,
     "metadata": {},
     "output_type": "execute_result"
    }
   ],
   "source": [
    "list(train_features.columns)"
   ]
  },
  {
   "cell_type": "code",
   "execution_count": 345,
   "metadata": {},
   "outputs": [],
   "source": [
    "res.iloc[2, 1:] = res.iloc[2, 1:] / size[res.iloc[2, 0]]"
   ]
  },
  {
   "cell_type": "code",
   "execution_count": 362,
   "metadata": {},
   "outputs": [
    {
     "data": {
      "text/plain": [
       "0        [1111.111111111111, nan, nan, nan, nan, nan, n...\n",
       "1        [149.26865671641792, nan, 0.16417910447761194,...\n",
       "2        [909.2727272727273, nan, nan, nan, nan, nan, n...\n",
       "3        [666.8666666666667, nan, nan, nan, nan, nan, n...\n",
       "4        [294.2352941176471, 0.11764705882352941, nan, ...\n",
       "5        [1429.4285714285713, nan, nan, nan, nan, nan, ...\n",
       "6        [769.7692307692307, nan, nan, nan, nan, nan, n...\n",
       "7        [333.6, nan, nan, 0.4, nan, nan, nan, nan, nan...\n",
       "8        [834.0833333333334, nan, nan, nan, nan, nan, 0...\n",
       "9        [1251.25, nan, nan, nan, nan, nan, nan, nan, n...\n",
       "10       [1251.375, nan, nan, nan, nan, nan, nan, 0.375...\n",
       "11       [156.4375, nan, nan, nan, nan, nan, nan, nan, ...\n",
       "12       [333.8, nan, nan, nan, 0.2, 0.1, 0.06666666666...\n",
       "13       [370.962962962963, 0.48148148148148145, nan, n...\n",
       "14       [256.84615384615387, nan, 0.3076923076923077, ...\n",
       "15       [435.5652173913044, nan, nan, nan, nan, nan, n...\n",
       "16       [1001.9, 0.4, nan, nan, nan, nan, 0.1, nan, na...\n",
       "17       [556.6666666666666, nan, nan, nan, nan, nan, n...\n",
       "18       [52.46596858638743, nan, 0.02617801047120419, ...\n",
       "19       [501.1, nan, nan, nan, nan, nan, nan, nan, nan...\n",
       "20       [1431.857142857143, nan, nan, nan, nan, nan, n...\n",
       "21       [1432.0, nan, nan, nan, nan, nan, nan, nan, na...\n",
       "22       [149.62686567164178, nan, 0.16417910447761194,...\n",
       "23       [626.625, nan, 0.0625, nan, nan, nan, nan, nan...\n",
       "24       [401.12, nan, 0.68, nan, nan, nan, 0.16, nan, ...\n",
       "25       [1002.9, nan, nan, nan, nan, nan, nan, nan, na...\n",
       "26       [911.8181818181819, nan, nan, nan, nan, nan, n...\n",
       "27       [2006.2, nan, nan, nan, nan, nan, nan, nan, na...\n",
       "28       [501.6, nan, 0.05, nan, 0.2, 0.15, nan, nan, n...\n",
       "29       [371.5925925925926, nan, nan, nan, nan, nan, n...\n",
       "                               ...                        \n",
       "29698    [3564.5789473684213, nan, nan, nan, nan, nan, ...\n",
       "29699    [313.55555555555554, nan, 0.05092592592592592,...\n",
       "29700    [2709.16, 0.4, nan, 0.08, nan, nan, 0.08, nan,...\n",
       "29701    [6157.272727272727, nan, nan, nan, nan, nan, n...\n",
       "29702    [1188.2631578947369, 0.24561403508771928, nan,...\n",
       "29703    [3564.842105263158, nan, nan, nan, nan, nan, n...\n",
       "29704    [2052.5151515151515, nan, nan, nan, nan, nan, ...\n",
       "29705    [1278.0, nan, nan, nan, nan, nan, nan, nan, 0....\n",
       "29706    [418.11728395061726, 0.22839506172839505, nan,...\n",
       "29707    [4515.733333333334, nan, nan, nan, nan, nan, n...\n",
       "29708    [1612.7857142857142, nan, nan, nan, nan, nan, ...\n",
       "29709    [4233.625, nan, nan, 0.25, 0.125, nan, nan, na...\n",
       "29710    [2116.84375, nan, nan, nan, nan, nan, nan, nan...\n",
       "29711    [1652.1951219512196, 0.2682926829268293, 0.121...\n",
       "29712    [940.8472222222222, 0.09722222222222222, nan, ...\n",
       "29713    [2185.2258064516127, 0.0967741935483871, nan, ...\n",
       "29714    [2185.2580645161293, nan, nan, nan, nan, nan, ...\n",
       "29715    [3225.904761904762, 0.09523809523809523, nan, ...\n",
       "29716    [2419.464285714286, nan, nan, nan, nan, nan, n...\n",
       "29717    [7527.333333333333, 0.4444444444444444, nan, n...\n",
       "29718    [967.8142857142857, 0.05714285714285714, 0.042...\n",
       "29719    [7527.555555555556, nan, nan, nan, nan, nan, n...\n",
       "29720    [4516.6, nan, nan, nan, nan, nan, nan, nan, na...\n",
       "29721    [1575.5813953488373, nan, 0.46511627906976744,...\n",
       "29722    [6775.1, nan, nan, nan, nan, nan, nan, 0.3, na...\n",
       "29723    [1472.8695652173913, nan, nan, nan, nan, nan, ...\n",
       "29724    [3985.470588235294, nan, 0.23529411764705882, ...\n",
       "29725    [7528.222222222223, nan, nan, nan, 0.444444444...\n",
       "29726    [3985.5882352941176, nan, nan, nan, nan, nan, ...\n",
       "29727    [2258.5333333333333, nan, nan, nan, nan, nan, ...\n",
       "Length: 29728, dtype: object"
      ]
     },
     "execution_count": 362,
     "metadata": {},
     "output_type": "execute_result"
    }
   ],
   "source": [
    "res.apply(lambda x: [x.iloc[0], *x.iloc[1:]] / size[x.iloc[0]], axis=1)"
   ]
  },
  {
   "cell_type": "code",
   "execution_count": 363,
   "metadata": {},
   "outputs": [
    {
     "ename": "NameError",
     "evalue": "name 'ressssss' is not defined",
     "output_type": "error",
     "traceback": [
      "\u001b[0;31m---------------------------------------------------------------------------\u001b[0m",
      "\u001b[0;31mNameError\u001b[0m                                 Traceback (most recent call last)",
      "\u001b[0;32m<ipython-input-363-8f48e56a7adc>\u001b[0m in \u001b[0;36m<module>\u001b[0;34m\u001b[0m\n\u001b[0;32m----> 1\u001b[0;31m \u001b[0mressssss\u001b[0m\u001b[0;34m\u001b[0m\u001b[0;34m\u001b[0m\u001b[0m\n\u001b[0m",
      "\u001b[0;31mNameError\u001b[0m: name 'ressssss' is not defined"
     ]
    }
   ],
   "source": [
    "ressssss"
   ]
  },
  {
   "cell_type": "code",
   "execution_count": null,
   "metadata": {},
   "outputs": [],
   "source": []
  },
  {
   "cell_type": "code",
   "execution_count": null,
   "metadata": {},
   "outputs": [],
   "source": []
  },
  {
   "cell_type": "code",
   "execution_count": null,
   "metadata": {},
   "outputs": [],
   "source": []
  }
 ],
 "metadata": {
  "kernelspec": {
   "display_name": "Python 3",
   "language": "python",
   "name": "python3"
  },
  "language_info": {
   "codemirror_mode": {
    "name": "ipython",
    "version": 3
   },
   "file_extension": ".py",
   "mimetype": "text/x-python",
   "name": "python",
   "nbconvert_exporter": "python",
   "pygments_lexer": "ipython3",
   "version": "3.7.2"
  }
 },
 "nbformat": 4,
 "nbformat_minor": 2
}
