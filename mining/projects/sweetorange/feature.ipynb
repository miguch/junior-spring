{
 "cells": [
  {
   "cell_type": "code",
   "execution_count": 1,
   "metadata": {},
   "outputs": [],
   "source": [
    "import pandas as pd\n",
    "import math\n",
    "import numpy as np\n",
    "import copy\n",
    "import warnings\n",
    "import gc\n",
    "from sklearn import preprocessing\n",
    "warnings.filterwarnings('ignore')\n",
    "feature_path ='./feature/'\n",
    "res_path = './res/'\n",
    "data_path = './data/'\n",
    "second_round_path = './second round/'"
   ]
  },
  {
   "cell_type": "code",
   "execution_count": 2,
   "metadata": {},
   "outputs": [],
   "source": [
    "transaction_df = pd.read_csv(data_path+'transaction_train_new.csv')\n",
    "operation_df =  pd.read_csv(data_path+'operation_train_new.csv')\n",
    "label= pd.read_csv(data_path+'tag_train_new.csv')\n",
    "\n",
    "# transaction_test = pd.read_csv(data_path+'transaction_round1_new.csv')\n",
    "# operation_test = pd.read_csv(data_path+'operation_round1_new.csv')\n",
    "transaction_test = pd.read_csv(second_round_path+'test_transaction_round2.csv')\n",
    "operation_test = pd.read_csv(second_round_path+'test_operation_round2.csv')\n",
    "sample = pd.read_csv(data_path+'sample.csv')\n",
    "# operation_df = pd.merge(operation_df,label,on = 'UID',how='left')"
   ]
  },
  {
   "cell_type": "code",
   "execution_count": 3,
   "metadata": {},
   "outputs": [],
   "source": [
    "def merge_count(df1,df2,columns,value,cname):\n",
    "    add = df1.groupby(columns)[value].count().reset_index().rename(columns = {value:cname})\n",
    "    df2=df2.merge(add,on=columns,how=\"left\")\n",
    "    del add\n",
    "    gc.collect()\n",
    "    return df2\n",
    "\n",
    "def merge_nunique(df1,df2,columns,value,cname):\n",
    "    add = df1.groupby(columns)[value].nunique().reset_index().rename(columns = {value:cname})\n",
    "    df2=df2.merge(add,on=columns,how=\"left\")\n",
    "    del add\n",
    "    gc.collect()\n",
    "    return df2\n",
    "\n",
    "def merge_value_count(df1,df2,col,value):\n",
    "    tmp = df1.groupby(col)[value].count().reset_index().rename(columns = {value:'cnt'})\n",
    "    df = tmp.pivot(index=col[0],columns=col[1],values='cnt').reset_index()\n",
    "    cname = [col[0]]\n",
    "    for index in range(1,len(df.columns)):\n",
    "        cname.append(str(col[1])+'_'+str(df.columns[index]))\n",
    "    df.columns=cname\n",
    "    df = df.fillna(0)\n",
    "    df2 = df2.merge(df,on=str(col[0]),how='left')\n",
    "    del df,df1\n",
    "    gc.collect()\n",
    "    return df2"
   ]
  },
  {
   "cell_type": "code",
   "execution_count": 4,
   "metadata": {},
   "outputs": [],
   "source": [
    "def get_tag_rate(df,columns,cname):\n",
    "    op_train = pd.merge(df, label, on = 'UID', how = 'left')\n",
    "    t_op_data = op_train[op_train['Tag'] == 0]\n",
    "    f_op_data = op_train[op_train['Tag'] == 1]\n",
    "    t_op_sample = t_op_data.sample(frac = 0.2, random_state = 88)\n",
    "    f_op_sample = f_op_data.sample(frac = 0.2, random_state = 88)\n",
    "    sample_data = pd.concat([t_op_sample,f_op_sample])\n",
    "    t_rate_op = sample_data.groupby(columns)['Tag'].mean().reset_index().rename(columns = {'Tag': cname})\n",
    "    t_rate_op[cname] = (t_rate_op[cname]*100).astype(int)\n",
    "    \n",
    "#     t_rate_op[cname] = pd.cut(t_rate_op[cname],bins = [-1,0,1,2,9,14,20,35,50,100],labels = False)\n",
    "    gc.collect()\n",
    "    return t_rate_op\n",
    "\n",
    "mode_tag_rate = get_tag_rate(operation_df,'mode','mode_Tag_rate')"
   ]
  },
  {
   "cell_type": "code",
   "execution_count": 5,
   "metadata": {
    "scrolled": true
   },
   "outputs": [],
   "source": [
    "# add = operation_df.groupby('mode')['Tag'].mean().reset_index().rename(columns = {'Tag':'mode_Tag_rate'})\n",
    "# add.mode_Tag_rate = (add.mode_Tag_rate*100).astype(int)\n",
    "# add.mode_Tag_rate = pd.cut(add.mode_Tag_rate,bins = [-1,0,1,2,9,14,20,35,50,100],labels = False)\n",
    "op_df = operation_df.merge(mode_tag_rate,on='mode',how=\"left\")\n",
    "op_test = operation_test.merge(mode_tag_rate,on='mode',how=\"left\")"
   ]
  },
  {
   "cell_type": "code",
   "execution_count": 6,
   "metadata": {},
   "outputs": [],
   "source": [
    "op_train = pd.merge(operation_df, label, on = 'UID', how = 'left')\n",
    "add = op_train.groupby('day')['Tag'].mean().reset_index().rename(columns = {'Tag':'day_Tag_rate'})\n",
    "add.day_Tag_rate = (add.day_Tag_rate*100).astype(int)\n",
    "#add.day_Tag_rate = pd.cut(add.day_Tag_rate,bins = [-1,6,11,13,100],labels = False)\n"
   ]
  },
  {
   "cell_type": "code",
   "execution_count": 7,
   "metadata": {},
   "outputs": [],
   "source": [
    "operation_df = operation_df.merge(add,on='day',how=\"left\")\n",
    "operation_test = operation_test.merge(add,on='day',how=\"left\")"
   ]
  },
  {
   "cell_type": "code",
   "execution_count": 8,
   "metadata": {
    "scrolled": true
   },
   "outputs": [
    {
     "data": {
      "text/plain": [
       "(array([469869., 157750.,  19769., 635007.,  39241.,  23851.,  34534.,\n",
       "         36195.,      0.,  44627.]),\n",
       " array([ 4. ,  6.3,  8.6, 10.9, 13.2, 15.5, 17.8, 20.1, 22.4, 24.7, 27. ]),\n",
       " <a list of 10 Patch objects>)"
      ]
     },
     "execution_count": 8,
     "metadata": {},
     "output_type": "execute_result"
    },
    {
     "data": {
      "image/png": "[encoded data removed]",
      "text/plain": [
       "<Figure size 432x288 with 1 Axes>"
      ]
     },
     "metadata": {
      "needs_background": "light"
     },
     "output_type": "display_data"
    }
   ],
   "source": [
    "import matplotlib.pyplot as plt\n",
    "%matplotlib inline\n",
    "plt.hist(operation_df.day_Tag_rate)"
   ]
  },
  {
   "cell_type": "code",
   "execution_count": 9,
   "metadata": {
    "scrolled": true
   },
   "outputs": [
    {
     "data": {
      "text/plain": [
       "(29728, 31)"
      ]
     },
     "execution_count": 9,
     "metadata": {},
     "output_type": "execute_result"
    }
   ],
   "source": [
    "operation_df.groupby('UID')['day'].value_counts().unstack().reset_index().shape"
   ]
  },
  {
   "cell_type": "code",
   "execution_count": 10,
   "metadata": {},
   "outputs": [],
   "source": [
    "def get_rate(df,columns,cname,bins=[-1,0,8,20,30,40,50,60,70,80,90,99,100]):\n",
    "    tt_train = pd.merge(df, label, on = 'UID', how = 'left')\n",
    "    rate = tt_train.groupby(columns)['Tag'].mean().reset_index().rename(columns = {'Tag':cname})\n",
    "    rate[cname] = pd.cut((rate[cname]*100).astype(int),bins,labels=False)\n",
    "    gc.collect()\n",
    "    return rate\n",
    "merchant_tag_rate = get_rate(transaction_df,'merchant','merchant_Tag_rate',bins=[-1,0,8,20,30,40,50,60,70,80,90,99,100])\n",
    "transaction_df = transaction_df.merge(merchant_tag_rate,on='merchant',how=\"left\")\n",
    "transaction_test = transaction_test.merge(merchant_tag_rate,on='merchant',how=\"left\")    "
   ]
  },
  {
   "cell_type": "code",
   "execution_count": 11,
   "metadata": {},
   "outputs": [],
   "source": [
    "def cut_day2week(df,cname,bins = [0,7,14,21,28,31]):\n",
    "    df[cname] = pd.cut(df['day'],bins,labels=False)\n",
    "    return df\n",
    "tr_df = cut_day2week(transaction_df,'week',bins = [0,7,14,21,28,31])\n",
    "tr_test = cut_day2week(transaction_test,'week',bins = [0,5,12,19,26,31])  "
   ]
  },
  {
   "cell_type": "code",
   "execution_count": 12,
   "metadata": {},
   "outputs": [],
   "source": [
    "def get_op_fea(operation_df):\n",
    "    #op_day\n",
    "    op_fea = operation_df[['UID']].drop_duplicates()\n",
    "    tmp = operation_df.groupby('UID')['day'].agg([max,min,np.mean]).reset_index()\n",
    "    tmp.columns=['UID','op_day_max','op_day_min','op_day_mean']\n",
    "    op_fea = pd.merge(op_fea,tmp,on='UID',how='left')\n",
    "    op_fea = merge_count(operation_df,op_fea,'UID','day','op_cnt')\n",
    "    \n",
    "# #     #1104,1\n",
    "#     tmp1 = operation_df.groupby('UID')['day'].value_counts().rename('day_counts').reset_index()\n",
    "#     tmp = tmp1.groupby('UID').day_counts.agg([max,min,np.mean,np.std]).reset_index()\n",
    "#     tmp.columns=['UID','op_day_counts_max','op_day_counts_min','op_day_counts_mean','op_day_counts_std']\n",
    "#     op_fea = pd.merge(op_fea,tmp,on='UID',how='left')\n",
    "#     del tmp1\n",
    "    \n",
    "#     1104,1 \n",
    "#     tmp1 = tmp['UID']\n",
    "#     tmp = (tmp[['op_day_counts_max','op_day_counts_min']]*100).\\\n",
    "#             apply(lambda x: x/operation_df.groupby('UID').day.count().values,axis=0)\n",
    "#     tmp['UID'] = tmp1\n",
    "#     tmp.columns=['UID','op_day_counts_max_r','op_day_counts_min_r']\n",
    "#     op_fea = pd.merge(op_fea,tmp,on='UID',how='left')\n",
    "    \n",
    "#     op_fea = merge_nunique(operation_df,op_fea,'UID','day','op_day_nunique')\n",
    "#     op_fea['day_variety/sum'] = op_fea.op_day_nunique*100/op_fea.op_cnt\n",
    "#     #1205，1\n",
    "#     op_fea['op_day_counts_max-min'] = op_fea.op_day_counts_max-op_fea.op_day_counts_min\n",
    "    \n",
    "    #op_mode count\n",
    "    #op_fea = merge_count(operation_df,op_fea,'UID','mode','op_cnt')\n",
    "    op_fea = merge_nunique(operation_df,op_fea,'UID','mode','op_mode_nunique')\n",
    "    #1104，1\n",
    "    op_fea['mode_variety/sum'] = op_fea.op_mode_nunique*100/op_fea.op_cnt\n",
    "    \n",
    "    #success count\n",
    "    op_fea = merge_count(operation_df[operation_df.success==0],op_fea,'UID','mode','op_fail_cnt')\n",
    "    op_fea = merge_count(operation_df[operation_df.success==1],op_fea,'UID','mode','op_success_cnt')\n",
    "    op_fea['op_fail_cnt'] = op_fea['op_fail_cnt'].fillna(0)\n",
    "    op_fea['op_success_cnt'] = op_fea['op_success_cnt'].fillna(0)\n",
    "    1104,1\n",
    "    op_fea['op_success_rate'] = op_fea.op_success_cnt*100/op_fea.op_cnt\n",
    "    \n",
    "    #op_time\n",
    "    operation_df['op_hour'] = operation_df['time'].apply(lambda x:int(x.split(':')[0]))\n",
    "    tmp = operation_df.groupby('UID')['op_hour'].agg([max,min,np.mean]).reset_index()\n",
    "    tmp.columns=['UID','op_hour_max','op_hour_min','op_hour_mean']\n",
    "    op_fea = pd.merge(op_fea,tmp,on='UID',how='left')\n",
    "#     '''1104,2'''\n",
    "    tmp1 = operation_df.groupby('UID')['op_hour'].value_counts().rename('hour_counts').reset_index()\n",
    "    tmp = tmp1.groupby('UID').hour_counts.agg([max,min,np.mean,np.std]).reset_index()\n",
    "    tmp.columns=['UID','op_hour_counts_max','op_hour_counts_min','op_hour_counts_mean','op_hour_counts_std']\n",
    "    op_fea = pd.merge(op_fea,tmp,on='UID',how='left')\n",
    "    \n",
    "    \n",
    "\n",
    "    \n",
    "    #op_device1\n",
    "    for col in ['os','version','device1','device2','device_code1','device_code2','mac1','ip1','ip2',\\\n",
    "                'device_code3','mac2','wifi','geo_code','ip1_sub','ip2_sub']:\n",
    "        op_fea = merge_nunique(operation_df,op_fea,'UID',col,'op_'+col+'_nunique')\n",
    "\n",
    "    #op_os\n",
    "#     1104,2有效\n",
    "    op_fea['op_cnt/nunique'] = 1.0*op_fea.op_cnt/op_fea.op_os_nunique\n",
    "                \n",
    "    #1205，1\n",
    "    op_fea['op_ip1/device1'] = 100*op_fea.op_ip1_nunique/op_fea.op_device1_nunique\n",
    "    op_fea['op_device1/device_code1'] = 100*op_fea.op_device1_nunique/op_fea.op_device_code1_nunique\n",
    "    \n",
    "    '''1205,2'''\n",
    "    tmp = operation_df.groupby('UID')['mode_Tag_rate'].value_counts().unstack().reset_index()\n",
    "    tmp.fillna(0,inplace=True)\n",
    "    op_fea = pd.merge(op_fea,tmp,on='UID',how='left')\n",
    "#     op_fea = pd.merge(op_fea,operation_df.groupby('UID')['os'].value_counts().\\\n",
    "#                       unstack().reset_index(),on='UID',how='left')\n",
    "# '''day_rate无效'''\n",
    "#     tmp = operation_df.groupby('UID')['day_Tag_rate'].value_counts().unstack().reset_index()\n",
    "#     tmp.fillna(0,inplace=True)\n",
    "#     op_fea = pd.merge(op_fea,tmp,on='UID',how='left')\n",
    "    \n",
    "##     '''1106,1'''\n",
    "    \n",
    "#     tmp1 = operation_df.groupby('UID')['mode'].value_counts().rename('mode_counts').reset_index()\n",
    "#     tmp = tmp1.groupby('UID').mode_counts.agg([max,min,np.mean,np.std]).reset_index()\n",
    "#     tmp.columns=['UID','op_mode_counts_max','op_mode_counts_min','op_mode_counts_mean','op_mode_counts_std']\n",
    "#     op_fea = pd.merge(op_fea,tmp,on='UID',how='left')\n",
    "    gc.collect()\n",
    "    return op_fea"
   ]
  },
  {
   "cell_type": "code",
   "execution_count": 13,
   "metadata": {},
   "outputs": [],
   "source": [
    "def get_trans_fea(transaction_df):\n",
    "    trans_fea = transaction_df[['UID']].drop_duplicates()\n",
    "    #trans_channel\n",
    "    trans_fea = merge_value_count(transaction_df,trans_fea,['UID','channel'],'day')\n",
    "    trans_fea = merge_count(transaction_df,trans_fea,'UID','channel','trans_cnt')\n",
    "    trans_fea = merge_nunique(transaction_df,trans_fea,'UID','channel','trans_channel_nunique')\n",
    "    \n",
    "    #day\n",
    "    tmp = transaction_df.groupby('UID')['day'].agg([max,min,np.mean]).reset_index()\n",
    "    tmp.columns=['UID','transaction_day_max','transaction_day_min','transaction_day_mean']\n",
    "    trans_fea = pd.merge(trans_fea,tmp,on='UID',how='left')\n",
    "    \n",
    "#     #1105,2\n",
    "#     tmp1 = transaction_df.groupby('UID')['day'].value_counts().rename('day_counts').reset_index()\n",
    "#     tmp = tmp1.groupby('UID').day_counts.agg([max,min,np.mean,np.std]).reset_index()\n",
    "#     tmp.columns=['UID','trans_day_counts_max','trans_day_counts_min','trans_day_counts_mean','trans_day_counts_std']\n",
    "#     trans_fea = pd.merge(trans_fea,tmp,on='UID',how='left')\n",
    "#     del tmp1\n",
    "#     1105,2 \n",
    "#     tmp1 = tmp['UID']\n",
    "#     tmp = (tmp[['trans_day_counts_max','trans_day_counts_min']]*100).\\\n",
    "#             apply(lambda x: x/transaction_df.groupby('UID').day.count().values,axis=0)\n",
    "#     tmp['UID'] = tmp1\n",
    "#     tmp.columns=['UID','trans_day_counts_max_r','trans_day_counts_min_r']\n",
    "#     trans_fea = pd.merge(trans_fea,tmp,on='UID',how='left')\n",
    "\n",
    "#     trans_fea = merge_nunique(transaction_df,trans_fea,'UID','day','trans_day_nunique')\n",
    "#     trans_fea['day_variety/sum'] = trans_fea.trans_day_nunique*100/trans_fea.trans_cnt\n",
    "##    1205，1\n",
    "#     trans_fea['trans_day_counts_max-min'] = trans_fea.trans_day_counts_max-trans_fea.trans_day_counts_min\n",
    "\n",
    "    #time\n",
    "    transaction_df['trans_hour'] = transaction_df['time'].apply(lambda x:int(x.split(':')[0]))\n",
    "    tmp = transaction_df.groupby('UID')['trans_hour'].agg([max,min,np.mean]).reset_index()\n",
    "    tmp.columns=['UID','trans_hour_max','trans_hour_min','trans_hour_mean']\n",
    "    trans_fea = pd.merge(trans_fea,tmp,on='UID',how='left')\n",
    "# # 1105,2\n",
    "#     tmp1 = transaction_df.groupby('UID')['trans_hour'].value_counts().rename('hour_counts').reset_index()\n",
    "#     tmp = tmp1.groupby('UID').hour_counts.agg([max,min,np.mean,np.std]).reset_index()\n",
    "#     tmp.columns=['UID','trans_hour_counts_max','trans_hour_counts_min','trans_hour_counts_mean','trans_hour_counts_std']\n",
    "#     trans_fea = pd.merge(trans_fea,tmp,on='UID',how='left')\n",
    "    \n",
    "    #trans_amt\n",
    "    tmp = transaction_df.groupby('UID')['trans_amt'].agg([max,min,np.mean,np.sum]).reset_index()\n",
    "    tmp.columns=['UID','transaction_amt_max','transaction_amt_min','transaction_amt_mean','transaction_amt_sum']\n",
    "    trans_fea = pd.merge(trans_fea,tmp,on='UID',how='left')\n",
    "# #     #1105,2\n",
    "#     max_min = lambda x: abs(max(x)-min(x))\n",
    "#     tmp = transaction_df.groupby('UID')['trans_amt'].agg([np.std,max_min]).reset_index()\n",
    "#     tmp.columns=['UID','transaction_amt_std','transaction_amt_max-min']\n",
    "#     trans_fea = pd.merge(trans_fea,tmp,on='UID',how='left')\n",
    "    \n",
    "    #amt_src1\n",
    "    trans_fea = merge_nunique(transaction_df,trans_fea,'UID','amt_src1','trans_amt_src1_nunique')\n",
    "    #bal\n",
    "    tmp = transaction_df.groupby('UID')['bal'].agg([max,min,np.mean,np.sum]).reset_index()\n",
    "    tmp.columns=['UID','transaction_bal_max','transaction_bal_min','transaction_bal_mean','transaction_bal_sum']\n",
    "    trans_fea = pd.merge(trans_fea,tmp,on='UID',how='left')\n",
    "\n",
    "    #trans_type1 trans_type2\n",
    "    for col in ['trans_type2','market_type']:\n",
    "        trans_fea = merge_value_count(transaction_df,trans_fea,['UID',col],'day')\n",
    "        trans_fea = merge_nunique(transaction_df,trans_fea,'UID',col,'trans_'+col+'_nunique')\n",
    "    for col in ['trans_type1','merchant','code1','code2','acc_id1','device_code1','device_code2',\\\n",
    "                'device_code3','device1','device2','mac1','ip1','acc_id2','acc_id3','geo_code','market_code','ip1_sub']:\n",
    "        trans_fea = merge_nunique(transaction_df,trans_fea,'UID',col,'trans_'+col+'_nunique')\n",
    "        \n",
    "    '''1108,1,线下非常有效'''    \n",
    "#     trans_fea = merge_value_count(transaction_df,trans_fea,['UID','merchant_Tag_rate'],'day')#,线下非常有效,线上超级过拟合\n",
    "    tmp = transaction_df.groupby('UID')['merchant_Tag_rate'].value_counts().unstack().reset_index()\n",
    "    trans_fea = pd.merge(trans_fea,tmp,on='UID',how='left')\n",
    "    \n",
    "    '''1109,1'''\n",
    "#     tmp = transaction_df.groupby('UID').day.value_counts().unstack(fill_value=0).reset_index()\n",
    "#     trans_fea = pd.merge(trans_fea,tmp,on='UID',how='left')\n",
    "#     transaction_df['week'] = pd.cut(transaction_df.day,bins = [0,7,14,21,28,31],labels=False)\n",
    "    tmp = transaction_df.groupby('UID').week.value_counts().unstack(fill_value=0).reset_index()\n",
    "    trans_fea = pd.merge(trans_fea,tmp,on='UID',how='left')\n",
    "    tmp = transaction_df.groupby(['UID','week']).day.value_counts().rename('week_day_count').reset_index()\n",
    "    maxmin = lambda x: max(x)-min(x)\n",
    "    tmp = tmp.pivot_table(index = 'UID',columns = 'week',values = 'week_day_count',aggfunc= [max,min,np.std,maxmin]).reset_index()\n",
    "    tmp.fillna(-1,inplace=True)\n",
    "    trans_fea = pd.merge(trans_fea,tmp,on='UID',how='left')\n",
    "    \n",
    "    '''1112,01'''\n",
    "    \n",
    "    gc.collect()\n",
    "    return trans_fea"
   ]
  },
  {
   "cell_type": "code",
   "execution_count": 14,
   "metadata": {},
   "outputs": [],
   "source": [
    "op_fea = get_op_fea(op_df)\n",
    "trans_fea = get_trans_fea(transaction_df)"
   ]
  },
  {
   "cell_type": "code",
   "execution_count": 15,
   "metadata": {},
   "outputs": [],
   "source": [
    "op_fea_test = get_op_fea(op_test)\n",
    "trans_fea_test = get_trans_fea(tr_test)"
   ]
  },
  {
   "cell_type": "code",
   "execution_count": 16,
   "metadata": {},
   "outputs": [
    {
     "data": {
      "text/plain": [
       "(30542, 85)"
      ]
     },
     "execution_count": 16,
     "metadata": {},
     "output_type": "execute_result"
    }
   ],
   "source": [
    "trans_fea.shape"
   ]
  },
  {
   "cell_type": "code",
   "execution_count": 17,
   "metadata": {},
   "outputs": [],
   "source": [
    "op_fea.to_csv(\"./data/feature/op_fea.csv\")\n",
    "trans_fea.to_csv(\"./data/feature/trans_fea.csv\")\n",
    "\n",
    "op_fea_test.to_csv(\"./data/feature/op_fea_test.csv\")\n",
    "trans_fea_test.to_csv(\"./data/feature/trans_fea_test.csv\")"
   ]
  },
  {
   "cell_type": "code",
   "execution_count": null,
   "metadata": {},
   "outputs": [],
   "source": []
  },
  {
   "cell_type": "code",
   "execution_count": 26,
   "metadata": {},
   "outputs": [],
   "source": [
    "train_features = op_fea.merge(trans_fea, on='UID', how='outer')\n",
    "train_data = train_features.merge(label,on='UID',how='left')\n",
    "train_data = train_data.drop('UID', axis=1)\n",
    "test_features = op_fea_test.merge(trans_fea_test, on='UID', how='outer').sort_values(['UID'])\n",
    "\n",
    "\n",
    "UIDs = test_features['UID']\n",
    "test_features = test_features.drop('UID', axis=1)\n",
    "\n",
    "# columns_to_drop = [col for col in train_data.columns if col not in test_features.columns and col != 'Tag']\n",
    "# train_data = train_data.drop(columns_to_drop, axis=1)\n",
    "# columns_to_drop = [col for col in test_features.columns if col not in train_data.columns and col != 'Tag']\n",
    "# test_features = test_features.drop(columns_to_drop, axis=1)\n",
    "\n",
    "#Fill nan with average\n",
    "train_data = train_data.fillna(train_data.mean())\n",
    "test_features = test_features.fillna(train_data.drop('Tag', axis=1).mean())\n",
    "\n",
    "\n",
    "columns_to_drop = [col for col in train_data.columns if col not in test_features.columns and col != 'Tag']\n",
    "train_data = train_data.drop(columns_to_drop, axis=1)\n",
    "columns_to_drop = [col for col in test_features.columns if col not in train_data.columns and col != 'Tag']\n",
    "test_features = test_features.drop(columns_to_drop, axis=1)"
   ]
  },
  {
   "cell_type": "code",
   "execution_count": 27,
   "metadata": {},
   "outputs": [],
   "source": [
    "def tpr_scorer(estimator, x, y_true):\n",
    "    y_predict = estimator.predict_proba(x)[:, 1]\n",
    "    d = pd.DataFrame()\n",
    "    d['prob'] = list(y_predict)\n",
    "    d['y'] = list(y_true)\n",
    "    d = d.sort_values(['prob'], ascending=[0])\n",
    "    y = d.y\n",
    "    \n",
    "    PosAll = pd.Series(y).value_counts()[1]\n",
    "    NegAll = pd.Series(y).value_counts()[0]\n",
    "    pCumsum = d['y'].cumsum()\n",
    "    nCumsum = np.arange(len(y)) - pCumsum + 1\n",
    "    pCumsumPer = pCumsum / PosAll\n",
    "    nCumsumPer = nCumsum / NegAll\n",
    "    TR1 = pCumsumPer[abs(nCumsumPer-0.001).idxmin()]\n",
    "    TR2 = pCumsumPer[abs(nCumsumPer-0.005).idxmin()]\n",
    "    TR3 = pCumsumPer[abs(nCumsumPer-0.01).idxmin()]\n",
    "    return 0.4 * TR1 + 0.3 * TR2 + 0.3 * TR3"
   ]
  },
  {
   "cell_type": "code",
   "execution_count": 28,
   "metadata": {},
   "outputs": [],
   "source": [
    "import sklearn.model_selection\n",
    "import sklearn.metrics\n",
    "import lightgbm as lgb\n",
    "import sklearn.ensemble\n",
    "import xgboost as xgb\n",
    "\n",
    "def cv(x, y, params={}, splits=5):\n",
    "    clf = lgb.LGBMClassifier(**params)\n",
    "#     clf = sklearn.ensemble.RandomForestClassifier(n_estimators=100, n_jobs=-1)\n",
    "#     clf = xgb.XGBClassifier(**params)\n",
    "    kfold = sklearn.model_selection.StratifiedKFold(splits, shuffle=True)\n",
    "    cv_score = sklearn.model_selection.cross_validate(clf, x, y, cv=kfold, scoring={\n",
    "        'tpr': tpr_scorer,\n",
    "        'accuracy': 'accuracy',\n",
    "        'f1': 'f1_micro',\n",
    "        'roc_auc': 'roc_auc'\n",
    "    }, return_train_score=True)\n",
    "    return cv_score"
   ]
  },
  {
   "cell_type": "code",
   "execution_count": 29,
   "metadata": {},
   "outputs": [],
   "source": [
    "params = {\n",
    "        'boosting_type': 'gbdt',\n",
    "        'objective': 'binary',\n",
    "        \"num_leaves\": 200,\n",
    "        \"max_depth\": -1,\n",
    "        \"learning_rate\": 0.1,\n",
    "        'min_child_samples': 100,\n",
    "        'n_estimators': 2000,\n",
    "        'learning_rate': 0.05,\n",
    "        'scale_pos_weight': float(label[label.Tag==0].shape[0]) / label[label.Tag==1].shape[0],\n",
    "        'boost_from_average': True,\n",
    "        'min_child_weight': 1e-3,\n",
    "        \"subsample_for_bin\": 20000,\n",
    "        'max_bin': 512,\n",
    "        \"metric\": 'auc',\n",
    "        'reg_alpha': 3,\n",
    "        'reg_lambda': 5,\n",
    "        'subsample': 0.9,\n",
    "        'colsample_bytree':0.7, \n",
    "        'subsample_freq': 1,\n",
    "        'n_jobs': -1,\n",
    "}\n",
    "\n",
    "def run_cross_validation(x, y):\n",
    "    cv_result = cv(x, y, params=params, splits=5)\n",
    "    for scorer, score in cv_result.items():\n",
    "        print('%s: %s' % (scorer, score))\n",
    "        print('Average %s: %f' % (scorer, score.mean()))"
   ]
  },
  {
   "cell_type": "code",
   "execution_count": 30,
   "metadata": {},
   "outputs": [
    {
     "name": "stdout",
     "output_type": "stream",
     "text": [
      "fit_time: [14.41619611 13.58223009 11.02795601 15.91861916 18.26247501]\n",
      "Average fit_time: 14.641495\n",
      "score_time: [0.85873365 0.90235806 0.69390106 1.03280997 0.86306977]\n",
      "Average score_time: 0.870175\n",
      "test_tpr: [0.7529755  0.77409568 0.76429405 0.76091015 0.75005834]\n",
      "Average test_tpr: 0.760467\n",
      "train_tpr: [1. 1. 1. 1. 1.]\n",
      "Average train_tpr: 1.000000\n",
      "test_accuracy: [0.96327774 0.9642399  0.96183451 0.96391918 0.961668  ]\n",
      "Average test_accuracy: 0.962988\n",
      "train_accuracy: [0.99983963 0.99991982 0.99967927 0.99987973 0.99963919]\n",
      "Average train_accuracy: 0.999792\n",
      "test_f1: [0.96327774 0.9642399  0.96183451 0.96391918 0.961668  ]\n",
      "Average test_f1: 0.962988\n",
      "train_f1: [0.99983963 0.99991982 0.99967927 0.99987973 0.99963919]\n",
      "Average train_f1: 0.999792\n",
      "test_roc_auc: [0.97075276 0.97386938 0.97153284 0.97100483 0.9687575 ]\n",
      "Average test_roc_auc: 0.971183\n",
      "train_roc_auc: [0.99999999 1.         0.99999997 0.99999997 0.99999995]\n",
      "Average train_roc_auc: 1.000000\n"
     ]
    }
   ],
   "source": [
    "run_cross_validation(train_data.drop('Tag', axis=1).fillna(train_data.drop('Tag', axis=1).mean()).values, train_data.loc[:, 'Tag'].values)\n"
   ]
  },
  {
   "cell_type": "code",
   "execution_count": 31,
   "metadata": {},
   "outputs": [],
   "source": [
    "def train(x, y, params={}):\n",
    "    clf = lgb.LGBMClassifier(**params)\n",
    "#     clf = xgb.XGBClassifier(**params)\n",
    "    clf.fit(x, y)\n",
    "    return clf"
   ]
  },
  {
   "cell_type": "code",
   "execution_count": 32,
   "metadata": {},
   "outputs": [],
   "source": [
    "model = train(train_data.drop('Tag', axis=1).values, train_data.loc[:, 'Tag'].values, params=params)"
   ]
  },
  {
   "cell_type": "code",
   "execution_count": 33,
   "metadata": {},
   "outputs": [],
   "source": [
    "result = model.predict_proba(test_features.values)[:, 1]"
   ]
  },
  {
   "cell_type": "code",
   "execution_count": 34,
   "metadata": {},
   "outputs": [
    {
     "data": {
      "text/plain": [
       "0.2747562365455236"
      ]
     },
     "execution_count": 34,
     "metadata": {},
     "output_type": "execute_result"
    }
   ],
   "source": [
    "(result > 0.5).sum() / len(result)"
   ]
  },
  {
   "cell_type": "code",
   "execution_count": 35,
   "metadata": {},
   "outputs": [
    {
     "data": {
      "text/plain": [
       "1.0"
      ]
     },
     "execution_count": 35,
     "metadata": {},
     "output_type": "execute_result"
    }
   ],
   "source": [
    "tpr_scorer(model, train_data.drop('Tag', axis=1).fillna(train_data.drop('Tag', axis=1).mean()).values, train_data.loc[:, 'Tag'].values)"
   ]
  },
  {
   "cell_type": "code",
   "execution_count": 36,
   "metadata": {},
   "outputs": [],
   "source": [
    "result_frame = pd.DataFrame()\n",
    "result_frame['UID'] = UIDs\n",
    "result_frame['Tag'] = result"
   ]
  },
  {
   "cell_type": "code",
   "execution_count": 37,
   "metadata": {},
   "outputs": [],
   "source": [
    "\n",
    "result_frame.to_csv(res_path + 'fres.csv', index=False)"
   ]
  },
  {
   "cell_type": "code",
   "execution_count": null,
   "metadata": {},
   "outputs": [],
   "source": []
  },
  {
   "cell_type": "code",
   "execution_count": 42,
   "metadata": {},
   "outputs": [
    {
     "data": {
      "text/plain": [
       "Index([             'UID',       'op_day_max',       'op_day_min',\n",
       "            'op_day_mean',           'op_cnt',  'op_mode_nunique',\n",
       "       'mode_variety/sum',      'op_fail_cnt',   'op_success_cnt',\n",
       "        'op_success_rate',\n",
       "       ...\n",
       "               ('std', 0),         ('std', 1),         ('std', 2),\n",
       "               ('std', 3),         ('std', 4),    ('<lambda>', 0),\n",
       "          ('<lambda>', 1),    ('<lambda>', 2),    ('<lambda>', 3),\n",
       "          ('<lambda>', 4)],\n",
       "      dtype='object', length=143)"
      ]
     },
     "execution_count": 42,
     "metadata": {},
     "output_type": "execute_result"
    }
   ],
   "source": [
    "train_features.columns"
   ]
  },
  {
   "cell_type": "code",
   "execution_count": null,
   "metadata": {},
   "outputs": [],
   "source": []
  }
 ],
 "metadata": {
  "kernelspec": {
   "display_name": "Python 3",
   "language": "python",
   "name": "python3"
  },
  "language_info": {
   "codemirror_mode": {
    "name": "ipython",
    "version": 3
   },
   "file_extension": ".py",
   "mimetype": "text/x-python",
   "name": "python",
   "nbconvert_exporter": "python",
   "pygments_lexer": "ipython3",
   "version": "3.7.2"
  }
 },
 "nbformat": 4,
 "nbformat_minor": 1
}
