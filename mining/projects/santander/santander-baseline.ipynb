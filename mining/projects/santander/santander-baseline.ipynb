{
 "cells": [
  {
   "cell_type": "code",
   "execution_count": 1,
   "metadata": {},
   "outputs": [],
   "source": [
    "# 0.888\n",
    "import pandas as pd\n",
    "import numpy as np"
   ]
  },
  {
   "cell_type": "code",
   "execution_count": 2,
   "metadata": {},
   "outputs": [],
   "source": [
    "data_path = './data'\n",
    "res_path = './res'\n",
    "import os\n",
    "training_data = pd.read_csv(os.path.join(data_path, 'train.csv'))\n",
    "test_data = pd.read_csv(os.path.join(data_path, 'test.csv'))\n",
    "sample = pd.read_csv(os.path.join(data_path, 'sample_submission.csv'))"
   ]
  },
  {
   "cell_type": "code",
   "execution_count": 3,
   "metadata": {},
   "outputs": [],
   "source": [
    "labels = training_data['target']\n",
    "training_features = training_data.drop(['ID_code', 'target'], axis=1)"
   ]
  },
  {
   "cell_type": "code",
   "execution_count": 4,
   "metadata": {},
   "outputs": [],
   "source": [
    "test_IDs = test_data['ID_code']\n",
    "test_features = test_data.drop('ID_code', axis=1)"
   ]
  },
  {
   "cell_type": "code",
   "execution_count": 5,
   "metadata": {},
   "outputs": [
    {
     "name": "stderr",
     "output_type": "stream",
     "text": [
      "/usr/local/lib/python3.7/site-packages/lightgbm/__init__.py:46: UserWarning: Starting from version 2.2.1, the library file in distribution wheels for macOS is built by the Apple Clang (Xcode_8.3.3) compiler.\n",
      "This means that in case of installing LightGBM from PyPI via the ``pip install lightgbm`` command, you don't need to install the gcc compiler anymore.\n",
      "Instead of that, you need to install the OpenMP library, which is required for running LightGBM on the system with the Apple Clang compiler.\n",
      "You can install the OpenMP library by the following command: ``brew install libomp``.\n",
      "  \"You can install the OpenMP library by the following command: ``brew install libomp``.\", UserWarning)\n"
     ]
    }
   ],
   "source": [
    "import sklearn.model_selection\n",
    "import sklearn.metrics\n",
    "import lightgbm as lgb\n"
   ]
  },
  {
   "cell_type": "code",
   "execution_count": null,
   "metadata": {},
   "outputs": [],
   "source": []
  },
  {
   "cell_type": "code",
   "execution_count": 6,
   "metadata": {},
   "outputs": [],
   "source": [
    "# import xgboost as xgb\n",
    "def cv(x, y, params={}, splits=5):\n",
    "    clf = lgb.LGBMClassifier(**params)\n",
    "#     clf = xgb.XGBClassifier(**params)\n",
    "    kfold = sklearn.model_selection.StratifiedKFold(splits, shuffle=True)\n",
    "    cv_score = sklearn.model_selection.cross_validate(clf, x, y, cv=kfold, scoring={\n",
    "        'accuracy': 'accuracy',\n",
    "        'f1': 'f1_micro',\n",
    "        'roc_auc': 'roc_auc',\n",
    "    })\n",
    "    return cv_score"
   ]
  },
  {
   "cell_type": "code",
   "execution_count": 14,
   "metadata": {},
   "outputs": [
    {
     "name": "stdout",
     "output_type": "stream",
     "text": [
      "fit_time: [30.4914639  30.29646802 31.95959902 30.46685195 29.93957233]\n",
      "Average fit_time: 30.630791\n",
      "score_time: [1.38056397 1.30526996 1.31311703 1.319314   1.33913183]\n",
      "Average score_time: 1.331479\n",
      "test_accuracy: [0.87370316 0.87335317 0.87565    0.87542189 0.87392185]\n",
      "Average test_accuracy: 0.874410\n",
      "train_accuracy: [0.92139326 0.92101201 0.9224625  0.92109424 0.9206255 ]\n",
      "Average train_accuracy: 0.921318\n",
      "test_f1: [0.87370316 0.87335317 0.87565    0.87542189 0.87392185]\n",
      "Average test_f1: 0.874410\n",
      "train_f1: [0.92139326 0.92101201 0.9224625  0.92109424 0.9206255 ]\n",
      "Average train_f1: 0.921318\n",
      "test_roc_auc: [0.891505   0.89153119 0.89038104 0.8988492  0.89559974]\n",
      "Average test_roc_auc: 0.893573\n",
      "train_roc_auc: [0.98259488 0.98234633 0.98302549 0.98233931 0.98211916]\n",
      "Average train_roc_auc: 0.982485\n"
     ]
    }
   ],
   "source": [
    "params = {\n",
    "    'boosting_type': 'gbdt',\n",
    "    'objective': 'binary',\n",
    "    'max_depth': 8,\n",
    "    'num_leaves': 200,\n",
    "    'min_child_samples': 1000,\n",
    "    'n_estimators': 1000,\n",
    "    'learning_rate': 0.05,\n",
    "    'scale_pos_weight': float(len(labels) - labels.sum()) / labels.sum(),\n",
    "    'boost_from_average': True,\n",
    "    'min_child_weight': 4,\n",
    "    'reg_alpha': 3,\n",
    "    'reg_lambda': 10,\n",
    "    'subsample': 0.7,\n",
    "    'colsample_bytree':0.7, \n",
    "    'subsample_freq': 1,\n",
    "    'n_jobs': -1,\n",
    "}\n",
    "cv_result = cv(training_features.values, labels.values, params=params, splits=5)\n",
    "for scorer, score in cv_result.items():\n",
    "    print('%s: %s' % (scorer, score))\n",
    "    print('Average %s: %f' % (scorer, score.mean()))"
   ]
  },
  {
   "cell_type": "code",
   "execution_count": 15,
   "metadata": {},
   "outputs": [],
   "source": [
    "def train(x, y, params={}):\n",
    "    clf = lgb.LGBMClassifier(**params)\n",
    "    clf.fit(x, y)\n",
    "    return clf"
   ]
  },
  {
   "cell_type": "code",
   "execution_count": 16,
   "metadata": {},
   "outputs": [],
   "source": [
    "model = train(training_features.values, labels.values, params=params)"
   ]
  },
  {
   "cell_type": "code",
   "execution_count": 17,
   "metadata": {},
   "outputs": [],
   "source": [
    "result = model.predict_proba(test_features.values)[:, 1]"
   ]
  },
  {
   "cell_type": "code",
   "execution_count": 18,
   "metadata": {},
   "outputs": [],
   "source": [
    "output = pd.DataFrame()\n",
    "output['ID_code'] = sample['ID_code']"
   ]
  },
  {
   "cell_type": "code",
   "execution_count": 19,
   "metadata": {},
   "outputs": [],
   "source": [
    "output['target'] = result"
   ]
  },
  {
   "cell_type": "code",
   "execution_count": 20,
   "metadata": {},
   "outputs": [],
   "source": [
    "output.to_csv(os.path.join(res_path, 'res.csv'), index=False)"
   ]
  },
  {
   "cell_type": "code",
   "execution_count": 22,
   "metadata": {},
   "outputs": [
    {
     "data": {
      "text/plain": [
       "(200000, 200)"
      ]
     },
     "execution_count": 22,
     "metadata": {},
     "output_type": "execute_result"
    }
   ],
   "source": [
    "training_features.shape"
   ]
  },
  {
   "cell_type": "code",
   "execution_count": null,
   "metadata": {},
   "outputs": [],
   "source": []
  }
 ],
 "metadata": {
  "kernelspec": {
   "display_name": "Python 3",
   "language": "python",
   "name": "python3"
  },
  "language_info": {
   "codemirror_mode": {
    "name": "ipython",
    "version": 3
   },
   "file_extension": ".py",
   "mimetype": "text/x-python",
   "name": "python",
   "nbconvert_exporter": "python",
   "pygments_lexer": "ipython3",
   "version": "3.7.2"
  }
 },
 "nbformat": 4,
 "nbformat_minor": 2
}
