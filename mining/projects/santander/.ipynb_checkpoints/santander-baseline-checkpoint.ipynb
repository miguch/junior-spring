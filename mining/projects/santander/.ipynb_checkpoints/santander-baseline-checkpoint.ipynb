{
 "cells": [
  {
   "cell_type": "code",
   "execution_count": 1,
   "metadata": {},
   "outputs": [],
   "source": [
    "# 0.807\n",
    "import pandas as pd\n",
    "import numpy as np"
   ]
  },
  {
   "cell_type": "code",
   "execution_count": 42,
   "metadata": {},
   "outputs": [],
   "source": [
    "data_path = './data'\n",
    "res_path = './res'\n",
    "import os\n",
    "training_data = pd.read_csv(os.path.join(data_path, 'train.csv'))\n",
    "test_data = pd.read_csv(os.path.join(data_path, 'test.csv'))\n",
    "sample = pd.read_csv(os.path.join(data_path, 'sample_submission.csv'))"
   ]
  },
  {
   "cell_type": "code",
   "execution_count": 29,
   "metadata": {},
   "outputs": [],
   "source": [
    "labels = training_data['target']\n",
    "training_features = training_data.drop(['ID_code', 'target'], axis=1)"
   ]
  },
  {
   "cell_type": "code",
   "execution_count": 6,
   "metadata": {},
   "outputs": [],
   "source": [
    "test_IDs = test_data['ID_code']\n",
    "test_features = test_data.drop('ID_code', axis=1)"
   ]
  },
  {
   "cell_type": "code",
   "execution_count": 11,
   "metadata": {},
   "outputs": [],
   "source": [
    "import sklearn.model_selection\n",
    "import sklearn.metrics\n",
    "import lightgbm as lgb\n"
   ]
  },
  {
   "cell_type": "code",
   "execution_count": 25,
   "metadata": {},
   "outputs": [],
   "source": [
    "# import xgboost as xgb\n",
    "def cv(x, y, params={}, splits=5):\n",
    "    clf = lgb.LGBMClassifier(**params)\n",
    "#     clf = xgb.XGBClassifier(**params)\n",
    "    kfold = sklearn.model_selection.StratifiedKFold(splits, shuffle=True)\n",
    "    cv_score = sklearn.model_selection.cross_validate(clf, x, y, cv=kfold, scoring={\n",
    "        'accuracy': 'accuracy',\n",
    "        'f1': 'f1_micro',\n",
    "        'roc_auc': 'roc_auc'\n",
    "    })\n",
    "    return cv_score"
   ]
  },
  {
   "cell_type": "code",
   "execution_count": 28,
   "metadata": {},
   "outputs": [
    {
     "name": "stdout",
     "output_type": "stream",
     "text": [
      "fit_time: [15.15337896 15.14822412 16.12866473 15.33567214 14.8840549 ]\n",
      "Average fit_time: 15.329999\n",
      "score_time: [1.05693316 0.83610606 0.91035533 0.83732915 0.94704914]\n",
      "Average score_time: 0.917555\n",
      "test_accuracy: [0.81560461 0.81935452 0.820475   0.82037051 0.82147054]\n",
      "Average test_accuracy: 0.819455\n",
      "train_accuracy: [0.83289271 0.8320802  0.8326125  0.8316698  0.83151355]\n",
      "Average train_accuracy: 0.832154\n",
      "test_f1: [0.81560461 0.81935452 0.820475   0.82037051 0.82147054]\n",
      "Average test_f1: 0.819455\n",
      "train_f1: [0.83289271 0.8320802  0.8326125  0.8316698  0.83151355]\n",
      "Average train_f1: 0.832154\n",
      "test_roc_auc: [0.88041504 0.88524304 0.87813796 0.88479365 0.88669916]\n",
      "Average test_roc_auc: 0.883058\n",
      "train_roc_auc: [0.91749782 0.91603037 0.91790441 0.91617954 0.91583341]\n",
      "Average train_roc_auc: 0.916689\n"
     ]
    }
   ],
   "source": [
    "params = {\n",
    "    'boosting_type': 'gbdt',\n",
    "    'objective': 'binary',\n",
    "    'max_depth': 5,\n",
    "    'num_leaves': 25,\n",
    "    'min_child_samples': 8000,\n",
    "    'n_estimators': 1000,\n",
    "    'learning_rate': 0.05,\n",
    "    'scale_pos_weight': float(len(labels) - labels.sum()) / labels.sum(),\n",
    "    'boost_from_average': True,\n",
    "    'min_child_weight': 4,\n",
    "    'reg_alpha': 3,\n",
    "    'reg_lambda': 10,\n",
    "    'subsample': 0.7,\n",
    "    'colsample_bytree':0.7, \n",
    "    'subsample_freq': 1,\n",
    "    'n_jobs': -1,\n",
    "}\n",
    "cv_result = cv(training_features.values, labels.values, params=params, splits=5)\n",
    "for scorer, score in cv_result.items():\n",
    "    print('%s: %s' % (scorer, score))\n",
    "    print('Average %s: %f' % (scorer, score.mean()))"
   ]
  },
  {
   "cell_type": "code",
   "execution_count": 31,
   "metadata": {},
   "outputs": [],
   "source": [
    "def train(x, y, params={}):\n",
    "    clf = lgb.LGBMClassifier(**params)\n",
    "    clf.fit(x, y)\n",
    "    return clf"
   ]
  },
  {
   "cell_type": "code",
   "execution_count": 32,
   "metadata": {},
   "outputs": [],
   "source": [
    "model = train(training_features.values, labels.values, params=params)"
   ]
  },
  {
   "cell_type": "code",
   "execution_count": 35,
   "metadata": {},
   "outputs": [],
   "source": [
    "result = model.predict(test_features.values)"
   ]
  },
  {
   "cell_type": "code",
   "execution_count": 38,
   "metadata": {},
   "outputs": [],
   "source": [
    "output = pd.DataFrame()\n",
    "output['ID_code'] = sample['ID_code']"
   ]
  },
  {
   "cell_type": "code",
   "execution_count": 40,
   "metadata": {},
   "outputs": [],
   "source": [
    "output['target'] = result"
   ]
  },
  {
   "cell_type": "code",
   "execution_count": 43,
   "metadata": {},
   "outputs": [],
   "source": [
    "output.to_csv(os.path.join(res_path, 'res.csv'), index=False)"
   ]
  },
  {
   "cell_type": "code",
   "execution_count": null,
   "metadata": {},
   "outputs": [],
   "source": []
  }
 ],
 "metadata": {
  "kernelspec": {
   "display_name": "Python 3",
   "language": "python",
   "name": "python3"
  },
  "language_info": {
   "codemirror_mode": {
    "name": "ipython",
    "version": 3
   },
   "file_extension": ".py",
   "mimetype": "text/x-python",
   "name": "python",
   "nbconvert_exporter": "python",
   "pygments_lexer": "ipython3",
   "version": "3.7.2"
  }
 },
 "nbformat": 4,
 "nbformat_minor": 2
}
