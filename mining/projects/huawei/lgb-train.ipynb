{
 "cells": [
  {
   "cell_type": "code",
   "execution_count": null,
   "metadata": {},
   "outputs": [],
   "source": [
    "import sklearn.model_selection\n",
    "import sklearn.metrics\n",
    "import lightgbm as lgb\n",
    "import sklearn.ensemble\n",
    "import xgboost as xgb\n",
    "import gc\n",
    "\n",
    "def cv(clf, x, y, params={}, splits=3, fit_params={}):\n",
    "    kfold = sklearn.model_selection.StratifiedKFold(splits, shuffle=True)\n",
    "    cv_score = sklearn.model_selection.cross_validate(clf, x, y, cv=kfold, scoring={\n",
    "        'accuracy': 'accuracy',\n",
    "    }, return_train_score=True, verbose=5, fit_params=fit_params)\n",
    "    return cv_score"
   ]
  },
  {
   "cell_type": "code",
   "execution_count": null,
   "metadata": {},
   "outputs": [],
   "source": [
    "\n",
    "params = {\n",
    "        'boosting_type': 'gbdt',\n",
    "        'objective': 'multiclass',\n",
    "        \"metric\": 'multi_logloss',\n",
    "        'n_jobs': -1,\n",
    "    \n",
    "        #better\n",
    "#         'n_estimators': 600,\n",
    "#         \"num_leaves\": 900,\n",
    "#         \"subsample_for_bin\": 50000,\n",
    "#         'max_bin': 750,\n",
    "    \n",
    "        #fast\n",
    "        'n_estimators': 100,\n",
    "        \"num_leaves\": 200,\n",
    "        \"subsample_for_bin\": 20000,\n",
    "        'max_bin': 512,\n",
    "    \n",
    "    \n",
    "        \"max_depth\": -1,\n",
    "        'min_child_samples': 100,\n",
    "        'learning_rate': 0.06,\n",
    "        'boost_from_average': True,\n",
    "        'min_child_weight': 1e-3,\n",
    "        'reg_alpha': 2,\n",
    "        'reg_lambda': 5,\n",
    "        'colsample_bytree':0.7, \n",
    "}\n",
    "def run_cross_validation(clf, x, y, fit_params={}):\n",
    "    cv_result = cv(clf, x, y, params=params, splits=3, fit_params=fit_params)\n",
    "    for scorer, score in cv_result.items():\n",
    "        print('%s: %s' % (scorer, score))\n",
    "        print('Average %s: %f' % (scorer, score.mean()))"
   ]
  },
  {
   "cell_type": "code",
   "execution_count": null,
   "metadata": {},
   "outputs": [],
   "source": [
    "gc.collect()\n",
    "clf = lgb.LGBMClassifier(**params)\n",
    "run_cross_validation(clf, train_x, train_y, {'categorical_feature': categorical_features})"
   ]
  },
  {
   "cell_type": "code",
   "execution_count": null,
   "metadata": {},
   "outputs": [],
   "source": [
    "def train(x, y, params={}):\n",
    "    clf = lgb.LGBMClassifier(**params)\n",
    "    clf.fit(x, y, categorical_feature=categorical_features)\n",
    "    return clf\n"
   ]
  },
  {
   "cell_type": "code",
   "execution_count": null,
   "metadata": {},
   "outputs": [],
   "source": [
    "model = train(train_x, train_y, params)"
   ]
  },
  {
   "cell_type": "code",
   "execution_count": null,
   "metadata": {},
   "outputs": [],
   "source": [
    "pred_y = model.predict(test_x.drop('uid', axis=1))"
   ]
  },
  {
   "cell_type": "code",
   "execution_count": null,
   "metadata": {},
   "outputs": [],
   "source": [
    "result = pd.DataFrame(test_x['uid'])\n",
    "result.columns = ['id']\n",
    "result['label'] = pred_y"
   ]
  },
  {
   "cell_type": "code",
   "execution_count": null,
   "metadata": {},
   "outputs": [],
   "source": [
    "result.to_csv('submission.csv', index=False)"
   ]
  },
  {
   "cell_type": "code",
   "execution_count": null,
   "metadata": {},
   "outputs": [],
   "source": [
    "for i in range(len(train_x.columns)):\n",
    "    print(train_x.columns[i], model.feature_importances_[i])"
   ]
  },
  {
   "cell_type": "code",
   "execution_count": null,
   "metadata": {},
   "outputs": [],
   "source": []
  },
  {
   "cell_type": "code",
   "execution_count": null,
   "metadata": {},
   "outputs": [],
   "source": []
  },
  {
   "cell_type": "code",
   "execution_count": null,
   "metadata": {},
   "outputs": [],
   "source": []
  },
  {
   "cell_type": "code",
   "execution_count": null,
   "metadata": {},
   "outputs": [],
   "source": []
  }
 ],
 "metadata": {
  "kernelspec": {
   "display_name": "Python 3",
   "language": "python",
   "name": "python3"
  },
  "language_info": {
   "codemirror_mode": {
    "name": "ipython",
    "version": 3
   },
   "file_extension": ".py",
   "mimetype": "text/x-python",
   "name": "python",
   "nbconvert_exporter": "python",
   "pygments_lexer": "ipython3",
   "version": "3.7.2"
  }
 },
 "nbformat": 4,
 "nbformat_minor": 2
}
