{
 "cells": [
  {
   "cell_type": "code",
   "execution_count": 1,
   "metadata": {},
   "outputs": [
    {
     "name": "stderr",
     "output_type": "stream",
     "text": [
      "/usr/local/lib/python3.7/site-packages/tqdm/autonotebook/__init__.py:14: TqdmExperimentalWarning: Using `tqdm.autonotebook.tqdm` in notebook mode. Use `tqdm.tqdm` instead to force console mode (e.g. in jupyter console)\n",
      "  \" (e.g. in jupyter console)\", TqdmExperimentalWarning)\n"
     ]
    }
   ],
   "source": [
    "import pandas as pd\n",
    "import gc\n",
    "import numpy as np\n",
    "from tqdm._tqdm_notebook import tqdm_notebook as tqdm\n",
    "import swifter"
   ]
  },
  {
   "cell_type": "code",
   "execution_count": 2,
   "metadata": {},
   "outputs": [],
   "source": [
    "user_app_usage_lines = 651007719\n",
    "pieces = 10\n",
    "interval = int(user_app_usage_lines / pieces)\n",
    "uau_skiprows = [range(0, i*interval) for i in range(pieces)]\n",
    "user_app_usage_path = '/Volumes/nvsd/user_app_usage.csv'\n",
    "user_app_usage = None"
   ]
  },
  {
   "cell_type": "code",
   "execution_count": 3,
   "metadata": {},
   "outputs": [
    {
     "ename": "FileNotFoundError",
     "evalue": "[Errno 2] No such file or directory: '/Volumes/nvsd/user_app_usage.csv'",
     "output_type": "error",
     "traceback": [
      "\u001b[0;31m---------------------------------------------------------------------------\u001b[0m",
      "\u001b[0;31mFileNotFoundError\u001b[0m                         Traceback (most recent call last)",
      "\u001b[0;32m<ipython-input-3-abfed9229e1c>\u001b[0m in \u001b[0;36m<module>\u001b[0;34m\u001b[0m\n\u001b[0;32m----> 1\u001b[0;31m \u001b[0;32mwith\u001b[0m \u001b[0mopen\u001b[0m\u001b[0;34m(\u001b[0m\u001b[0muser_app_usage_path\u001b[0m\u001b[0;34m,\u001b[0m \u001b[0;34m'r'\u001b[0m\u001b[0;34m)\u001b[0m \u001b[0;32mas\u001b[0m \u001b[0morigin\u001b[0m\u001b[0;34m:\u001b[0m\u001b[0;34m\u001b[0m\u001b[0;34m\u001b[0m\u001b[0m\n\u001b[0m\u001b[1;32m      2\u001b[0m     \u001b[0;32mfor\u001b[0m \u001b[0mi\u001b[0m \u001b[0;32min\u001b[0m \u001b[0mtqdm\u001b[0m\u001b[0;34m(\u001b[0m\u001b[0mrange\u001b[0m\u001b[0;34m(\u001b[0m\u001b[0mpieces\u001b[0m\u001b[0;34m)\u001b[0m\u001b[0;34m)\u001b[0m\u001b[0;34m:\u001b[0m\u001b[0;34m\u001b[0m\u001b[0;34m\u001b[0m\u001b[0m\n\u001b[1;32m      3\u001b[0m         \u001b[0mn_interval\u001b[0m \u001b[0;34m=\u001b[0m \u001b[0minterval\u001b[0m \u001b[0;32mif\u001b[0m \u001b[0mi\u001b[0m \u001b[0;34m!=\u001b[0m \u001b[0;36m9\u001b[0m \u001b[0;32melse\u001b[0m \u001b[0muser_app_usage_lines\u001b[0m \u001b[0;34m-\u001b[0m \u001b[0minterval\u001b[0m \u001b[0;34m*\u001b[0m \u001b[0;36m9\u001b[0m\u001b[0;34m\u001b[0m\u001b[0;34m\u001b[0m\u001b[0m\n\u001b[1;32m      4\u001b[0m         \u001b[0;32mwith\u001b[0m \u001b[0mopen\u001b[0m\u001b[0;34m(\u001b[0m\u001b[0;34m'/Volumes/miguch/data/user_app_usage%d.csv'\u001b[0m\u001b[0;34m%\u001b[0m\u001b[0mi\u001b[0m\u001b[0;34m,\u001b[0m \u001b[0;34m'w'\u001b[0m\u001b[0;34m)\u001b[0m \u001b[0;32mas\u001b[0m \u001b[0msplitted\u001b[0m\u001b[0;34m:\u001b[0m\u001b[0;34m\u001b[0m\u001b[0;34m\u001b[0m\u001b[0m\n\u001b[1;32m      5\u001b[0m             \u001b[0;32mfor\u001b[0m \u001b[0mk\u001b[0m \u001b[0;32min\u001b[0m \u001b[0mtqdm\u001b[0m\u001b[0;34m(\u001b[0m\u001b[0mrange\u001b[0m\u001b[0;34m(\u001b[0m\u001b[0mn_interval\u001b[0m\u001b[0;34m)\u001b[0m\u001b[0;34m,\u001b[0m \u001b[0mleave\u001b[0m\u001b[0;34m=\u001b[0m\u001b[0;32mFalse\u001b[0m\u001b[0;34m)\u001b[0m\u001b[0;34m:\u001b[0m\u001b[0;34m\u001b[0m\u001b[0;34m\u001b[0m\u001b[0m\n",
      "\u001b[0;31mFileNotFoundError\u001b[0m: [Errno 2] No such file or directory: '/Volumes/nvsd/user_app_usage.csv'"
     ]
    }
   ],
   "source": [
    "with open(user_app_usage_path, 'r') as origin:\n",
    "    for i in tqdm(range(pieces)):\n",
    "        n_interval = interval if i != 9 else user_app_usage_lines - interval * 9\n",
    "        with open('/Volumes/miguch/data/user_app_usage%d.csv'%i, 'w') as splitted:\n",
    "            for k in tqdm(range(n_interval), leave=False):\n",
    "                line = origin.readline()\n",
    "                splitted.write(line)"
   ]
  },
  {
   "cell_type": "code",
   "execution_count": 4,
   "metadata": {},
   "outputs": [],
   "source": [
    "def process_date(d):\n",
    "    ymd = d.split('-')\n",
    "    if ymd[1] == '02':\n",
    "        return 0\n",
    "    else: return int(ymd[2])\n",
    "def reprocess_user_app_usage(pieces_num):\n",
    "    gc.collect()\n",
    "    user_app_usage_part = pd.read_csv('/Volumes/miguch/data/user_app_usage%d.csv'%pieces_num, header=None)\n",
    "    user_app_usage_part.columns = ['uid', 'appId', 'duration', 'times', 'use_date']\n",
    "    user_app_usage_part['duration'] = user_app_usage_part['duration'].astype(np.int32)\n",
    "    user_app_usage_part['times'] = user_app_usage_part['times'].astype(np.int16)\n",
    "    user_app_usage_part['use_date'] = user_app_usage_part['use_date'].swifter.allow_dask_on_strings().apply(process_date)\n",
    "    user_app_usage_part.to_csv('/Volumes/miguch/data/user_app_usages%d.csv'%pieces_num, header=None, index=False)\n",
    "    \n",
    "    "
   ]
  },
  {
   "cell_type": "code",
   "execution_count": null,
   "metadata": {},
   "outputs": [],
   "source": [
    "from concurrent import futures\n",
    "with futures.ProcessPoolExecutor() as pool:\n",
    "  pool.map(reprocess_user_app_usage, range(pieces))\n",
    "# for i in tqdm(range(pieces)):\n",
    "#     reprocess_user_app_usage(i)"
   ]
  },
  {
   "cell_type": "code",
   "execution_count": null,
   "metadata": {},
   "outputs": [],
   "source": []
  }
 ],
 "metadata": {
  "kernelspec": {
   "display_name": "Python 3",
   "language": "python",
   "name": "python3"
  },
  "language_info": {
   "codemirror_mode": {
    "name": "ipython",
    "version": 3
   },
   "file_extension": ".py",
   "mimetype": "text/x-python",
   "name": "python",
   "nbconvert_exporter": "python",
   "pygments_lexer": "ipython3",
   "version": "3.7.2"
  }
 },
 "nbformat": 4,
 "nbformat_minor": 2
}
