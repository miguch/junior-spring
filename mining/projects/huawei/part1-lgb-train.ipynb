{
 "cells": [
  {
   "cell_type": "code",
   "execution_count": 2,
   "metadata": {},
   "outputs": [
    {
     "name": "stderr",
     "output_type": "stream",
     "text": [
      "/usr/local/lib/python3.7/site-packages/tqdm/autonotebook/__init__.py:14: TqdmExperimentalWarning: Using `tqdm.autonotebook.tqdm` in notebook mode. Use `tqdm.tqdm` instead to force console mode (e.g. in jupyter console)\n",
      "  \" (e.g. in jupyter console)\", TqdmExperimentalWarning)\n"
     ]
    }
   ],
   "source": [
    "import pandas as pd\n",
    "from tqdm.autonotebook import tqdm\n",
    "import os\n",
    "tqdm.pandas()"
   ]
  },
  {
   "cell_type": "code",
   "execution_count": 3,
   "metadata": {},
   "outputs": [],
   "source": [
    "train_dir = './train-data'\n",
    "train_x = pd.read_csv(os.path.join(train_dir, 'train_x.csv'))\n",
    "train_y = pd.read_csv(os.path.join(train_dir, 'train_y.csv'))\n",
    "test_x = pd.read_csv(os.path.join(train_dir, 'test_x.csv'))"
   ]
  },
  {
   "cell_type": "code",
   "execution_count": 3,
   "metadata": {},
   "outputs": [],
   "source": [
    "categorical_features = ['gender', 'city', 'prodName', 'color', 'carrier']"
   ]
  },
  {
   "cell_type": "code",
   "execution_count": 4,
   "metadata": {},
   "outputs": [],
   "source": [
    "train_x.fillna(train_x.mean(), inplace=True)\n",
    "test_x.fillna(train_x.mean(), inplace=True)"
   ]
  },
  {
   "cell_type": "code",
   "execution_count": 5,
   "metadata": {},
   "outputs": [],
   "source": [
    "# train_x.fillna(train_x.min(), inplace=True)\n",
    "# test_x.fillna(train_x.min(), inplace=True)"
   ]
  },
  {
   "cell_type": "code",
   "execution_count": 26,
   "metadata": {},
   "outputs": [],
   "source": [
    "import sklearn.model_selection\n",
    "import sklearn.metrics\n",
    "import lightgbm as lgb\n",
    "import sklearn.ensemble\n",
    "import gc\n",
    "\n",
    "def cv(clf, x, y, params={}, splits=3, fit_params={}):\n",
    "    kfold = sklearn.model_selection.StratifiedKFold(splits, shuffle=True)\n",
    "    cv_score = sklearn.model_selection.cross_validate(clf, x, y, cv=kfold, scoring={\n",
    "        'accuracy': 'accuracy',\n",
    "    }, return_train_score=True, verbose=5, fit_params=fit_params)\n",
    "    return cv_score\n"
   ]
  },
  {
   "cell_type": "code",
   "execution_count": 8,
   "metadata": {},
   "outputs": [],
   "source": [
    "\n",
    "params = {\n",
    "        'boosting_type': 'gbdt',\n",
    "        'objective': 'multiclass,multi_error',\n",
    "        \"metric\": 'multi_logloss',\n",
    "        'n_jobs': -1,\n",
    "    \n",
    "        #better\n",
    "        'n_estimators': 1500,\n",
    "        \"num_leaves\": 120,\n",
    "        \"subsample_for_bin\": 90000,\n",
    "        'max_bin': 1200,\n",
    "    \n",
    "        #fast\n",
    "#         'n_estimators': 100,\n",
    "#         \"num_leaves\": 36,\n",
    "#         \"subsample_for_bin\": 20000,\n",
    "#         'max_bin': 512,\n",
    "    \n",
    "        # Overfit\n",
    "        'feature_fraction': 0.4,\n",
    "        'bagging_fraction': 0.7,\n",
    "        'bagging_freq': 10,\n",
    "        'reg_alpha': 2,\n",
    "        'reg_lambda': 8,\n",
    "    \n",
    "        \n",
    "        \"max_depth\": -1,\n",
    "        'min_child_samples': 100,\n",
    "        'learning_rate': 0.05,\n",
    "}\n",
    "def run_cross_validation(clf, x, y, fit_params={}):\n",
    "    cv_result = cv(clf, x, y, params=params, splits=3, fit_params=fit_params)\n",
    "    for scorer, score in cv_result.items():\n",
    "        print('%s: %s' % (scorer, score))\n",
    "        print('Average %s: %f' % (scorer, score.mean()))"
   ]
  },
  {
   "cell_type": "code",
   "execution_count": null,
   "metadata": {},
   "outputs": [],
   "source": []
  },
  {
   "cell_type": "code",
   "execution_count": 8,
   "metadata": {},
   "outputs": [
    {
     "name": "stderr",
     "output_type": "stream",
     "text": [
      "[Parallel(n_jobs=1)]: Using backend SequentialBackend with 1 concurrent workers.\n"
     ]
    },
    {
     "name": "stdout",
     "output_type": "stream",
     "text": [
      "[CV]  ................................................................\n"
     ]
    },
    {
     "name": "stderr",
     "output_type": "stream",
     "text": [
      "C:\\ProgramData\\Anaconda3\\lib\\site-packages\\lightgbm\\basic.py:1209: UserWarning: categorical_feature in Dataset is overridden.\n",
      "New categorical_feature is ['carrier', 'city', 'color', 'gender', 'prodName']\n",
      "  'New categorical_feature is {}'.format(sorted(list(categorical_feature))))\n"
     ]
    },
    {
     "name": "stdout",
     "output_type": "stream",
     "text": [
      "[CV] .................... , accuracy=0.5425439663522891, total=65.5min\n"
     ]
    },
    {
     "name": "stderr",
     "output_type": "stream",
     "text": [
      "[Parallel(n_jobs=1)]: Done   1 out of   1 | elapsed: 80.0min remaining:    0.0s\n"
     ]
    },
    {
     "name": "stdout",
     "output_type": "stream",
     "text": [
      "[CV]  ................................................................\n",
      "[CV] .................... , accuracy=0.5429089552238806, total=65.4min\n"
     ]
    },
    {
     "name": "stderr",
     "output_type": "stream",
     "text": [
      "[Parallel(n_jobs=1)]: Done   2 out of   2 | elapsed: 159.7min remaining:    0.0s\n"
     ]
    },
    {
     "name": "stdout",
     "output_type": "stream",
     "text": [
      "[CV]  ................................................................\n",
      "[CV] .................... , accuracy=0.5430963329796015, total=66.5min\n"
     ]
    },
    {
     "name": "stderr",
     "output_type": "stream",
     "text": [
      "[Parallel(n_jobs=1)]: Done   3 out of   3 | elapsed: 240.5min remaining:    0.0s\n",
      "[Parallel(n_jobs=1)]: Done   3 out of   3 | elapsed: 240.5min finished\n"
     ]
    },
    {
     "name": "stdout",
     "output_type": "stream",
     "text": [
      "fit_time: [3498.29871869 3498.61290765 3558.13864565]\n",
      "Average fit_time: 3518.350091\n",
      "score_time: [432.49204183 428.03095031 429.00038242]\n",
      "Average score_time: 429.841125\n",
      "test_accuracy: [0.54254397 0.54290896 0.54309633]\n",
      "Average test_accuracy: 0.542850\n",
      "train_accuracy: [0.69804604 0.69818582 0.69792411]\n",
      "Average train_accuracy: 0.698052\n"
     ]
    }
   ],
   "source": [
    "gc.collect()\n",
    "clf = lgb.LGBMClassifier(**params)\n",
    "run_cross_validation(clf, train_x, train_y.values.ravel(), {'categorical_feature': categorical_features})"
   ]
  },
  {
   "cell_type": "code",
   "execution_count": 9,
   "metadata": {},
   "outputs": [],
   "source": [
    "def train(x, y, params={}):\n",
    "    clf = lgb.LGBMClassifier(**params)\n",
    "    clf.fit(x, y, categorical_feature=categorical_features)\n",
    "    return clf\n"
   ]
  },
  {
   "cell_type": "code",
   "execution_count": 10,
   "metadata": {},
   "outputs": [],
   "source": [
    "# load model\n",
    "# model = joblib.load('lgb.pkl')"
   ]
  },
  {
   "cell_type": "code",
   "execution_count": 11,
   "metadata": {},
   "outputs": [],
   "source": [
    "model = train(train_x, train_y.values.ravel(), params)"
   ]
  },
  {
   "cell_type": "code",
   "execution_count": 12,
   "metadata": {},
   "outputs": [
    {
     "data": {
      "text/plain": [
       "0.6622721393034826"
      ]
     },
     "execution_count": 12,
     "metadata": {},
     "output_type": "execute_result"
    }
   ],
   "source": [
    "pred_train_y  = model.predict(train_x)\n",
    "acc = (pred_train_y == train_y.values.ravel()).sum()\n",
    "acc / pred_train_y.shape[0]"
   ]
  },
  {
   "cell_type": "code",
   "execution_count": null,
   "metadata": {},
   "outputs": [],
   "source": []
  },
  {
   "cell_type": "code",
   "execution_count": 13,
   "metadata": {},
   "outputs": [],
   "source": [
    "pred_y = model.predict(test_x.drop('uid', axis=1))"
   ]
  },
  {
   "cell_type": "code",
   "execution_count": 14,
   "metadata": {},
   "outputs": [],
   "source": [
    "result = pd.DataFrame(test_x['uid'])\n",
    "result.columns = ['id']\n",
    "result['label'] = pred_y"
   ]
  },
  {
   "cell_type": "code",
   "execution_count": 15,
   "metadata": {},
   "outputs": [],
   "source": [
    "result.to_csv('submission.csv', index=False)"
   ]
  },
  {
   "cell_type": "code",
   "execution_count": 4,
   "metadata": {},
   "outputs": [
    {
     "name": "stdout",
     "output_type": "stream",
     "text": [
      "gender 5511\n",
      "city 193573\n",
      "prodName 109586\n",
      "ramCap 969\n",
      "ramLeft 4638\n",
      "romCap 2589\n",
      "romLeft 7949\n",
      "color 97513\n",
      "fontSize 5436\n",
      "carrier 2204\n",
      "os 2432\n",
      "4g 1308\n",
      "3g 35\n",
      "2g 11\n",
      "wifi 1098\n",
      "bootTimes 8957\n",
      "aTimes 5172\n",
      "bTimes 3096\n",
      "cTimes 7029\n",
      "dTimes 9868\n",
      "eTimes 9663\n",
      "fTimes 1009\n",
      "fSum 9651\n",
      "app_w2v_商务 2516\n",
      "app_w2v_社交通讯 492\n",
      "app_w2v_实用工具 1\n",
      "app_w2v_教育 1427\n",
      "app_w2v_运动健康 580\n",
      "app_w2v_便捷生活 3741\n",
      "app_w2v_金融理财 1950\n",
      "app_w2v_购物比价 3027\n",
      "app_w2v_儿童 0\n",
      "app_w2v_新闻阅读 1580\n",
      "app_w2v_汽车 2506\n",
      "app_w2v_unknown 1\n",
      "app_w2v_出行导航 43\n",
      "app_w2v_影音娱乐 4421\n",
      "app_w2v_美食 3689\n",
      "app_w2v_旅游住宿 2780\n",
      "app_w2v_拍摄美化 5704\n",
      "app_w2v_角色扮演 3530\n",
      "app_w2v_动作射击 1340\n",
      "app_w2v_休闲益智 94\n",
      "app_w2v_经营策略 644\n",
      "app_w2v_棋牌桌游 1400\n",
      "app_w2v_主题个性 0\n",
      "app_w2v_体育竞速 3759\n",
      "app_w2v_学习办公 1375\n",
      "app_w2v_棋牌天地 106\n",
      "app_w2v_网络游戏 1365\n",
      "app_w2v_休闲游戏 0\n",
      "app_w2v_图书阅读 562\n",
      "app_w2v_益智棋牌 2736\n",
      "app_w2v_表盘个性 1001\n",
      "app_w2v_动作冒险 3790\n",
      "app_tfidf_商务 8164\n",
      "app_tfidf_社交通讯 2373\n",
      "app_tfidf_实用工具 9\n",
      "app_tfidf_教育 5386\n",
      "app_tfidf_运动健康 1480\n",
      "app_tfidf_便捷生活 9889\n",
      "app_tfidf_金融理财 3640\n",
      "app_tfidf_购物比价 8466\n",
      "app_tfidf_儿童 0\n",
      "app_tfidf_新闻阅读 4936\n",
      "app_tfidf_汽车 9157\n",
      "app_tfidf_unknown 22\n",
      "app_tfidf_出行导航 226\n",
      "app_tfidf_影音娱乐 10284\n",
      "app_tfidf_美食 11907\n",
      "app_tfidf_旅游住宿 8924\n",
      "app_tfidf_拍摄美化 13390\n",
      "app_tfidf_角色扮演 8848\n",
      "app_tfidf_动作射击 5008\n",
      "app_tfidf_休闲益智 395\n",
      "app_tfidf_经营策略 3020\n",
      "app_tfidf_棋牌桌游 4608\n",
      "app_tfidf_主题个性 2\n",
      "app_tfidf_体育竞速 10748\n",
      "app_tfidf_学习办公 4727\n",
      "app_tfidf_棋牌天地 357\n",
      "app_tfidf_网络游戏 5644\n",
      "app_tfidf_休闲游戏 0\n",
      "app_tfidf_图书阅读 1611\n",
      "app_tfidf_益智棋牌 9948\n",
      "app_tfidf_表盘个性 4439\n",
      "app_tfidf_动作冒险 11353\n",
      "total_app 5005\n",
      "usage_动作射击 0\n",
      "times_动作射击 0\n",
      "duration_动作射击 0\n",
      "usage_经营策略 2347\n",
      "times_经营策略 4283\n",
      "duration_经营策略 5638\n",
      "usage_学习办公 53\n",
      "times_学习办公 168\n",
      "duration_学习办公 140\n",
      "usage_拍摄美化 3422\n",
      "times_拍摄美化 3764\n",
      "duration_拍摄美化 4668\n",
      "usage_图书阅读 8710\n",
      "times_图书阅读 8849\n",
      "duration_图书阅读 8515\n",
      "usage_社交通讯 0\n",
      "times_社交通讯 0\n",
      "duration_社交通讯 0\n",
      "usage_角色扮演 0\n",
      "times_角色扮演 0\n",
      "duration_角色扮演 0\n",
      "usage_休闲游戏 3521\n",
      "times_休闲游戏 5429\n",
      "duration_休闲游戏 5121\n",
      "usage_美食 95\n",
      "times_美食 88\n",
      "duration_美食 187\n",
      "usage_休闲益智 0\n",
      "times_休闲益智 0\n",
      "duration_休闲益智 0\n",
      "usage_影音娱乐 0\n",
      "times_影音娱乐 0\n",
      "duration_影音娱乐 0\n",
      "usage_运动健康 0\n",
      "times_运动健康 0\n",
      "duration_运动健康 0\n",
      "usage_电子书籍 4556\n",
      "times_电子书籍 6776\n",
      "duration_电子书籍 7982\n",
      "usage_合作壁纸* 1064\n",
      "times_合作壁纸* 1235\n",
      "duration_合作壁纸* 1826\n",
      "usage_角色游戏 1528\n",
      "times_角色游戏 2631\n",
      "duration_角色游戏 2797\n",
      "usage_策略游戏 4722\n",
      "times_策略游戏 10056\n",
      "duration_策略游戏 10725\n",
      "usage_主题个性 3603\n",
      "times_主题个性 4899\n",
      "duration_主题个性 6934\n",
      "usage_金融理财 8820\n",
      "times_金融理财 13039\n",
      "duration_金融理财 9520\n",
      "usage_汽车 0\n",
      "times_汽车 0\n",
      "duration_汽车 0\n",
      "usage_棋牌天地 5118\n",
      "times_棋牌天地 5428\n",
      "duration_棋牌天地 6315\n",
      "usage_实用工具 5759\n",
      "times_实用工具 10922\n",
      "duration_实用工具 9111\n",
      "usage_休闲娱乐 1\n",
      "times_休闲娱乐 0\n",
      "duration_休闲娱乐 0\n",
      "usage_旅游住宿 559\n",
      "times_旅游住宿 786\n",
      "duration_旅游住宿 1213\n",
      "usage_商务 0\n",
      "times_商务 0\n",
      "duration_商务 1\n",
      "usage_新闻阅读 0\n",
      "times_新闻阅读 0\n",
      "duration_新闻阅读 0\n",
      "usage_教育 8235\n",
      "times_教育 9767\n",
      "duration_教育 14647\n",
      "usage_体育竞速 1977\n",
      "times_体育竞速 4114\n",
      "duration_体育竞速 2604\n",
      "usage_模拟游戏 4407\n",
      "times_模拟游戏 5788\n",
      "duration_模拟游戏 8602\n",
      "usage_动作冒险 0\n",
      "times_动作冒险 0\n",
      "duration_动作冒险 0\n",
      "usage_便捷生活 7508\n",
      "times_便捷生活 6411\n",
      "duration_便捷生活 8177\n",
      "usage_表盘个性 1833\n",
      "times_表盘个性 2852\n",
      "duration_表盘个性 2658\n",
      "usage_主题铃声 36\n",
      "times_主题铃声 52\n",
      "duration_主题铃声 77\n",
      "usage_unknown 4216\n",
      "times_unknown 6546\n",
      "duration_unknown 7910\n",
      "usage_体育射击 0\n",
      "times_体育射击 0\n",
      "duration_体育射击 0\n",
      "usage_医疗健康 557\n",
      "times_医疗健康 1082\n",
      "duration_医疗健康 1219\n",
      "usage_购物比价 1013\n",
      "times_购物比价 1433\n",
      "duration_购物比价 2236\n",
      "usage_棋牌桌游 2408\n",
      "times_棋牌桌游 3537\n",
      "duration_棋牌桌游 5266\n",
      "usage_网络游戏 1467\n",
      "times_网络游戏 2178\n",
      "duration_网络游戏 2609\n",
      "usage_益智棋牌 0\n",
      "times_益智棋牌 0\n",
      "duration_益智棋牌 0\n",
      "usage_儿童 0\n",
      "times_儿童 0\n",
      "duration_儿童 0\n",
      "usage_出行导航 1839\n",
      "times_出行导航 1273\n",
      "duration_出行导航 2119\n"
     ]
    }
   ],
   "source": [
    "for i in range(len(train_x.columns)):\n",
    "    print(train_x.columns[i], model.feature_importances_[i])"
   ]
  },
  {
   "cell_type": "code",
   "execution_count": null,
   "metadata": {},
   "outputs": [],
   "source": []
  },
  {
   "cell_type": "code",
   "execution_count": 30,
   "metadata": {},
   "outputs": [
    {
     "data": {
      "text/plain": [
       "0.2148702147525677"
      ]
     },
     "execution_count": 30,
     "metadata": {},
     "output_type": "execute_result"
    }
   ],
   "source": [
    "sum(model.feature_importances_[23:88]) / sum(model.feature_importances_)"
   ]
  },
  {
   "cell_type": "code",
   "execution_count": 17,
   "metadata": {},
   "outputs": [
    {
     "data": {
      "text/plain": [
       "['lgb.pkl']"
      ]
     },
     "execution_count": 17,
     "metadata": {},
     "output_type": "execute_result"
    }
   ],
   "source": [
    "from sklearn.externals import joblib\n",
    "# save model\n",
    "joblib.dump(model, 'model/lgb.pkl')\n"
   ]
  },
  {
   "cell_type": "code",
   "execution_count": 1,
   "metadata": {},
   "outputs": [
    {
     "name": "stderr",
     "output_type": "stream",
     "text": [
      "/usr/local/lib/python3.7/site-packages/lightgbm/__init__.py:46: UserWarning: Starting from version 2.2.1, the library file in distribution wheels for macOS is built by the Apple Clang (Xcode_8.3.3) compiler.\n",
      "This means that in case of installing LightGBM from PyPI via the ``pip install lightgbm`` command, you don't need to install the gcc compiler anymore.\n",
      "Instead of that, you need to install the OpenMP library, which is required for running LightGBM on the system with the Apple Clang compiler.\n",
      "You can install the OpenMP library by the following command: ``brew install libomp``.\n",
      "  \"You can install the OpenMP library by the following command: ``brew install libomp``.\", UserWarning)\n",
      "/usr/local/lib/python3.7/site-packages/sklearn/base.py:253: UserWarning: Trying to unpickle estimator LabelEncoder from version 0.20.1 when using version 0.20.3. This might lead to breaking code or invalid results. Use at your own risk.\n",
      "  UserWarning)\n"
     ]
    }
   ],
   "source": [
    "from sklearn.externals import joblib\n",
    "\n",
    "model = joblib.load('model/lgb.pkl')"
   ]
  },
  {
   "cell_type": "code",
   "execution_count": 10,
   "metadata": {},
   "outputs": [
    {
     "data": {
      "text/plain": [
       "LGBMClassifier(bagging_fraction=0.7, bagging_freq=10, boosting_type='gbdt',\n",
       "        class_weight=None, colsample_bytree=1.0, feature_fraction=0.4,\n",
       "        importance_type='split', learning_rate=0.05, max_bin=1200,\n",
       "        max_depth=-1, metric='multi_logloss', min_child_samples=100,\n",
       "        min_child_weight=0.001, min_split_gain=0.0, n_estimators=1500,\n",
       "        n_jobs=-1, num_leaves=120, objective='multiclass,multi_error',\n",
       "        random_state=None, reg_alpha=2, reg_lambda=8, silent=True,\n",
       "        subsample=1.0, subsample_for_bin=90000, subsample_freq=0)"
      ]
     },
     "execution_count": 10,
     "metadata": {},
     "output_type": "execute_result"
    }
   ],
   "source": [
    "model"
   ]
  },
  {
   "cell_type": "code",
   "execution_count": 12,
   "metadata": {},
   "outputs": [],
   "source": [
    "proba = model.predict_proba(test_x.drop('uid', axis=1))"
   ]
  },
  {
   "cell_type": "code",
   "execution_count": null,
   "metadata": {},
   "outputs": [],
   "source": []
  },
  {
   "cell_type": "code",
   "execution_count": null,
   "metadata": {},
   "outputs": [],
   "source": []
  },
  {
   "cell_type": "code",
   "execution_count": null,
   "metadata": {},
   "outputs": [],
   "source": []
  },
  {
   "cell_type": "code",
   "execution_count": null,
   "metadata": {},
   "outputs": [],
   "source": []
  }
 ],
 "metadata": {
  "kernelspec": {
   "display_name": "Python 3",
   "language": "python",
   "name": "python3"
  },
  "language_info": {
   "codemirror_mode": {
    "name": "ipython",
    "version": 3
   },
   "file_extension": ".py",
   "mimetype": "text/x-python",
   "name": "python",
   "nbconvert_exporter": "python",
   "pygments_lexer": "ipython3",
   "version": "3.7.2"
  }
 },
 "nbformat": 4,
 "nbformat_minor": 2
}
