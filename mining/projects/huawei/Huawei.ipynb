{
 "cells": [
  {
   "cell_type": "code",
   "execution_count": 1,
   "metadata": {},
   "outputs": [
    {
     "name": "stderr",
     "output_type": "stream",
     "text": [
      "/usr/local/lib/python3.7/site-packages/tqdm/autonotebook/__init__.py:14: TqdmExperimentalWarning: Using `tqdm.autonotebook.tqdm` in notebook mode. Use `tqdm.tqdm` instead to force console mode (e.g. in jupyter console)\n",
      "  \" (e.g. in jupyter console)\", TqdmExperimentalWarning)\n"
     ]
    }
   ],
   "source": [
    "import pandas as pd \n",
    "import numpy as np\n",
    "import sklearn\n",
    "import os\n",
    "import gc\n",
    "# parallel apply!\n",
    "import swifter\n",
    "from tqdm._tqdm_notebook import tqdm_notebook as tqdm\n",
    "tqdm.pandas()"
   ]
  },
  {
   "cell_type": "code",
   "execution_count": 2,
   "metadata": {},
   "outputs": [],
   "source": [
    "def parallel_apply(df, apply_func):\n",
    "    ddf = dd.from_pandas(df, npartitions=24)\n",
    "    return ddf.map_partitions(lambda df: df.apply(apply_func))"
   ]
  },
  {
   "cell_type": "code",
   "execution_count": 3,
   "metadata": {},
   "outputs": [],
   "source": [
    "data_dir = './data'"
   ]
  },
  {
   "cell_type": "code",
   "execution_count": 4,
   "metadata": {},
   "outputs": [],
   "source": [
    "age_test_df = pd.read_csv(os.path.join(data_dir, \"age_test.csv\"), header=None)\n",
    "age_train_df = pd.read_csv(os.path.join(data_dir, \"age_train.csv\"), header=None)\n",
    "app_info_df = pd.read_csv(os.path.join(data_dir, \"app_info.csv\"), header=None)\n",
    "user_app_actived_df = pd.read_csv(os.path.join(data_dir, \"user_app_actived.csv\"), header=None)\n",
    "user_basic_info_df = pd.read_csv(os.path.join(data_dir, \"user_basic_info.csv\"), header=None)\n",
    "user_behavior_info_df = pd.read_csv(os.path.join(data_dir, \"user_behavior_info.csv\"), header=None)\n",
    "user_app_usage = None"
   ]
  },
  {
   "cell_type": "code",
   "execution_count": 5,
   "metadata": {},
   "outputs": [],
   "source": [
    "age_train_df.columns = ['uid', 'age_group']\n",
    "age_test_df.columns = ['uid']\n",
    "user_basic_info_df.columns = ['uid', 'gender', 'city', 'prodName', 'ramCap', 'ramLeft', \n",
    "                            'romCap', 'romLeft', 'color', 'fontSize', 'ct', 'carrier', 'os']\n",
    "user_behavior_info_df.columns = ['uid', 'bootTimes', 'aTimes', 'bTimes', 'cTimes', 'dTimes', \n",
    "                                 'eTimes', 'fTimes', 'fSum']\n",
    "user_app_actived_df.columns = ['uid', 'appId']\n",
    "app_info_df.columns = ['appId', 'category']"
   ]
  },
  {
   "cell_type": "code",
   "execution_count": 6,
   "metadata": {},
   "outputs": [],
   "source": [
    "import sklearn.preprocessing\n",
    "def encodeCategory(df):\n",
    "    encoder = sklearn.preprocessing.LabelEncoder()\n",
    "    return encoder.fit_transform(df)"
   ]
  },
  {
   "cell_type": "markdown",
   "metadata": {},
   "source": [
    "### process basic info"
   ]
  },
  {
   "cell_type": "code",
   "execution_count": 7,
   "metadata": {},
   "outputs": [],
   "source": [
    "basic_cates = ['city', 'prodName', 'color', 'carrier']\n",
    "for field in basic_cates:\n",
    "    user_basic_info_df[field] = encodeCategory(user_basic_info_df[field].astype(str))"
   ]
  },
  {
   "cell_type": "code",
   "execution_count": 8,
   "metadata": {},
   "outputs": [],
   "source": [
    "# [4g,3g,2g,wifi]\n",
    "ct_onehot_dict = {\n",
    "    \"4g\": [1,0,0,0],\n",
    "    'wifi': [0,0,0,1],\n",
    "    '4g#wifi': [1,0,0,1],\n",
    "    0: [0,0,0,0], #nan\n",
    "    '3g#wifi': [0,1,0,1],\n",
    "    '3g': [0,1,0,0],\n",
    "    '2g#wifi': [0,0,1,1],\n",
    "    '2g': [0,0,1,0]\n",
    "}\n",
    "user_basic_info_df['4g'], user_basic_info_df['3g'], user_basic_info_df['2g'], user_basic_info_df['wifi'] = zip(*user_basic_info_df['ct'].fillna(0).apply(lambda c: ct_onehot_dict[c]))\n",
    "user_basic_info_df.drop('ct', axis=1, inplace=True)"
   ]
  },
  {
   "cell_type": "markdown",
   "metadata": {},
   "source": [
    "### process user_app_actived and app_info"
   ]
  },
  {
   "cell_type": "code",
   "execution_count": 9,
   "metadata": {},
   "outputs": [
    {
     "data": {
      "application/vnd.jupyter.widget-view+json": {
       "model_id": "",
       "version_major": 2,
       "version_minor": 0
      },
      "text/plain": [
       "HBox(children=(IntProgress(value=0, max=188864), HTML(value='')))"
      ]
     },
     "metadata": {},
     "output_type": "display_data"
    },
    {
     "name": "stdout",
     "output_type": "stream",
     "text": [
      "\r"
     ]
    }
   ],
   "source": [
    "app_info_df['category_id'] = encodeCategory(app_info_df['category'])\n",
    "app_info_map = {r[1]['appId']: r[1]['category'] for r in tqdm(app_info_df.iterrows(), \n",
    "                                                              total=app_info_df.shape[0], leave=False)}"
   ]
  },
  {
   "cell_type": "code",
   "execution_count": 10,
   "metadata": {},
   "outputs": [
    {
     "data": {
      "application/vnd.jupyter.widget-view+json": {
       "model_id": "1196d35f0d0a4a0ebcbc8ce06d30d389",
       "version_major": 2,
       "version_minor": 0
      },
      "text/plain": [
       "HBox(children=(IntProgress(value=0, max=2512500), HTML(value='')))"
      ]
     },
     "metadata": {},
     "output_type": "display_data"
    },
    {
     "name": "stdout",
     "output_type": "stream",
     "text": [
      "\n"
     ]
    }
   ],
   "source": [
    "user_app_actived_df['app_category'] = user_app_actived_df['appId'].progress_apply(\n",
    "    lambda a: ' '.join([app_info_map.get(appId, 'unknown') for appId in a.split('#')]))"
   ]
  },
  {
   "cell_type": "code",
   "execution_count": 11,
   "metadata": {},
   "outputs": [],
   "source": [
    "import sklearn.feature_extraction.text\n",
    "vectorizer = sklearn.feature_extraction.text.TfidfVectorizer()\n",
    "app_vectors = vectorizer.fit_transform(user_app_actived_df['app_category'])"
   ]
  },
  {
   "cell_type": "code",
   "execution_count": 12,
   "metadata": {},
   "outputs": [],
   "source": [
    "user_app_vec = pd.DataFrame(user_app_actived_df['uid'])\n",
    "for i in range(len(vectorizer.vocabulary_)):\n",
    "    user_app_vec['app_vec_%d'%i] = app_vectors[:, i].toarray()"
   ]
  },
  {
   "cell_type": "code",
   "execution_count": null,
   "metadata": {},
   "outputs": [],
   "source": []
  },
  {
   "cell_type": "markdown",
   "metadata": {},
   "source": [
    "## Prepare training features"
   ]
  },
  {
   "cell_type": "code",
   "execution_count": 13,
   "metadata": {},
   "outputs": [],
   "source": [
    "user_info_df = user_basic_info_df.merge(user_behavior_info_df, on='uid')"
   ]
  },
  {
   "cell_type": "code",
   "execution_count": 14,
   "metadata": {},
   "outputs": [],
   "source": [
    "features_df = user_info_df.merge(user_app_vec, on='uid', how='left')"
   ]
  },
  {
   "cell_type": "code",
   "execution_count": 15,
   "metadata": {},
   "outputs": [],
   "source": [
    "features_df.sort_values(by='uid', inplace=True)\n",
    "features_df.reset_index(drop=True, inplace=True)"
   ]
  },
  {
   "cell_type": "code",
   "execution_count": 16,
   "metadata": {},
   "outputs": [],
   "source": [
    "train_data = features_df.merge(age_train_df, on='uid', how='right')\n",
    "test_x = features_df.merge(age_test_df, on='uid', how='right')"
   ]
  },
  {
   "cell_type": "code",
   "execution_count": 17,
   "metadata": {},
   "outputs": [],
   "source": [
    "train_x = train_data.drop(['uid', 'age_group'], axis=1)\n",
    "train_y = train_data['age_group']"
   ]
  },
  {
   "cell_type": "code",
   "execution_count": null,
   "metadata": {},
   "outputs": [],
   "source": []
  },
  {
   "cell_type": "code",
   "execution_count": 26,
   "metadata": {},
   "outputs": [],
   "source": [
    "train_x.fillna(train_x.mean(), inplace=True)\n",
    "test_x.fillna(train_x.mean(), inplace=True)"
   ]
  },
  {
   "cell_type": "markdown",
   "metadata": {},
   "source": [
    "## Train Model\n"
   ]
  },
  {
   "cell_type": "code",
   "execution_count": 19,
   "metadata": {},
   "outputs": [
    {
     "data": {
      "text/plain": [
       "Index(['gender', 'city', 'prodName', 'ramCap', 'ramLeft', 'romCap', 'romLeft',\n",
       "       'color', 'fontSize', 'carrier', 'os', '4g', '3g', '2g', 'wifi',\n",
       "       'bootTimes', 'aTimes', 'bTimes', 'cTimes', 'dTimes', 'eTimes', 'fTimes',\n",
       "       'fSum', 'app_vec_0', 'app_vec_1', 'app_vec_2', 'app_vec_3', 'app_vec_4',\n",
       "       'app_vec_5', 'app_vec_6', 'app_vec_7', 'app_vec_8', 'app_vec_9',\n",
       "       'app_vec_10', 'app_vec_11', 'app_vec_12', 'app_vec_13', 'app_vec_14',\n",
       "       'app_vec_15', 'app_vec_16', 'app_vec_17', 'app_vec_18', 'app_vec_19',\n",
       "       'app_vec_20', 'app_vec_21', 'app_vec_22', 'app_vec_23', 'app_vec_24',\n",
       "       'app_vec_25', 'app_vec_26', 'app_vec_27'],\n",
       "      dtype='object')"
      ]
     },
     "execution_count": 19,
     "metadata": {},
     "output_type": "execute_result"
    }
   ],
   "source": [
    "train_x.columns"
   ]
  },
  {
   "cell_type": "code",
   "execution_count": 20,
   "metadata": {},
   "outputs": [],
   "source": [
    "categorical_features = ['gender', 'city', 'prodName', 'color', 'carrier']"
   ]
  },
  {
   "cell_type": "code",
   "execution_count": 21,
   "metadata": {},
   "outputs": [
    {
     "name": "stderr",
     "output_type": "stream",
     "text": [
      "/usr/local/lib/python3.7/site-packages/lightgbm/__init__.py:46: UserWarning: Starting from version 2.2.1, the library file in distribution wheels for macOS is built by the Apple Clang (Xcode_8.3.3) compiler.\n",
      "This means that in case of installing LightGBM from PyPI via the ``pip install lightgbm`` command, you don't need to install the gcc compiler anymore.\n",
      "Instead of that, you need to install the OpenMP library, which is required for running LightGBM on the system with the Apple Clang compiler.\n",
      "You can install the OpenMP library by the following command: ``brew install libomp``.\n",
      "  \"You can install the OpenMP library by the following command: ``brew install libomp``.\", UserWarning)\n"
     ]
    }
   ],
   "source": [
    "import sklearn.model_selection\n",
    "import sklearn.metrics\n",
    "import lightgbm as lgb\n",
    "import sklearn.ensemble\n",
    "import xgboost as xgb\n",
    "\n",
    "def cv(x, y, params={}, splits=3):\n",
    "    clf = lgb.LGBMClassifier(**params)\n",
    "    kfold = sklearn.model_selection.StratifiedKFold(splits, shuffle=True)\n",
    "    cv_score = sklearn.model_selection.cross_validate(clf, x, y, cv=kfold, scoring={\n",
    "        'accuracy': 'accuracy',\n",
    "    }, return_train_score=True, fit_params={'categorical_feature': categorical_features})\n",
    "    return cv_score"
   ]
  },
  {
   "cell_type": "code",
   "execution_count": 22,
   "metadata": {},
   "outputs": [],
   "source": [
    "\n",
    "params = {\n",
    "        'boosting_type': 'gbdt',\n",
    "        'objective': 'multiclass',\n",
    "        \"num_leaves\": 200,\n",
    "        \"max_depth\": -1,\n",
    "        \"learning_rate\": 0.1,\n",
    "        'min_child_samples': 100,\n",
    "        'n_estimators': 100,\n",
    "        'learning_rate': 0.05,\n",
    "        'boost_from_average': True,\n",
    "        'min_child_weight': 1e-3,\n",
    "        \"subsample_for_bin\": 20000,\n",
    "        'max_bin': 512,\n",
    "        \"metric\": 'multi_logloss',\n",
    "        'reg_alpha': 3,\n",
    "        'reg_lambda': 5,\n",
    "        'subsample': 0.9,\n",
    "        'colsample_bytree':0.7, \n",
    "        'subsample_freq': 1,\n",
    "        'n_jobs': -1,\n",
    "}\n",
    "def run_cross_validation(x, y):\n",
    "    cv_result = cv(x, y, params=params, splits=3)\n",
    "    for scorer, score in cv_result.items():\n",
    "        print('%s: %s' % (scorer, score))\n",
    "        print('Average %s: %f' % (scorer, score.mean()))"
   ]
  },
  {
   "cell_type": "code",
   "execution_count": 23,
   "metadata": {
    "scrolled": true
   },
   "outputs": [
    {
     "name": "stderr",
     "output_type": "stream",
     "text": [
      "/usr/local/lib/python3.7/site-packages/lightgbm/basic.py:1209: UserWarning: categorical_feature in Dataset is overridden.\n",
      "New categorical_feature is ['carrier', 'city', 'color', 'gender', 'prodName']\n",
      "  'New categorical_feature is {}'.format(sorted(list(categorical_feature))))\n"
     ]
    },
    {
     "name": "stdout",
     "output_type": "stream",
     "text": [
      "fit_time: [158.46991014 184.35367703 180.13871121]\n",
      "Average fit_time: 174.320766\n",
      "score_time: [10.08137679 14.20033097 12.07854986]\n",
      "Average score_time: 12.120086\n",
      "test_accuracy: [0.48316644 0.48291045 0.48329624]\n",
      "Average test_accuracy: 0.483124\n",
      "train_accuracy: [0.53406906 0.5357694  0.53474288]\n",
      "Average train_accuracy: 0.534860\n"
     ]
    }
   ],
   "source": [
    "run_cross_validation(train_x, train_y)"
   ]
  },
  {
   "cell_type": "code",
   "execution_count": 24,
   "metadata": {},
   "outputs": [],
   "source": [
    "def train(x, y, params={}):\n",
    "    clf = lgb.LGBMClassifier(**params)\n",
    "    clf.fit(x, y, categorical_feature=categorical_features)\n",
    "    return clf\n"
   ]
  },
  {
   "cell_type": "code",
   "execution_count": 27,
   "metadata": {},
   "outputs": [],
   "source": [
    "model = train(train_x, train_y, params)"
   ]
  },
  {
   "cell_type": "code",
   "execution_count": 31,
   "metadata": {},
   "outputs": [],
   "source": [
    "pred_y = model.predict(test_x.drop('uid', axis=1))"
   ]
  },
  {
   "cell_type": "code",
   "execution_count": 39,
   "metadata": {},
   "outputs": [],
   "source": [
    "result = pd.DataFrame(test_x['uid'])\n",
    "result.columns = ['id']\n",
    "result['label'] = pred_y"
   ]
  },
  {
   "cell_type": "code",
   "execution_count": 41,
   "metadata": {},
   "outputs": [],
   "source": [
    "result.to_csv('submission.csv', index=False)"
   ]
  },
  {
   "cell_type": "code",
   "execution_count": null,
   "metadata": {},
   "outputs": [],
   "source": []
  },
  {
   "cell_type": "code",
   "execution_count": null,
   "metadata": {},
   "outputs": [],
   "source": []
  },
  {
   "cell_type": "markdown",
   "metadata": {},
   "source": [
    "## Load user_app_usage"
   ]
  },
  {
   "cell_type": "code",
   "execution_count": null,
   "metadata": {},
   "outputs": [],
   "source": [
    "user_app_usage_lines = 651007719\n",
    "pieces = 10\n",
    "interval = int(user_app_usage_lines / pieces)\n",
    "uau_skiprows = [range(0, i*interval) for i in range(pieces)]\n",
    "user_app_usage_path = '/Volumes/nvsd/user_app_usage.csv'"
   ]
  },
  {
   "cell_type": "code",
   "execution_count": null,
   "metadata": {},
   "outputs": [],
   "source": [
    "def process_date(d):\n",
    "    ymd = d.split('-')\n",
    "    if ymd[1] == '02':\n",
    "        return 0\n",
    "    else: return int(ymd[2])\n",
    "\n",
    "def read_user_app_usage(pieces_num):\n",
    "    global user_app_usage\n",
    "    if user_app_usage is not None:\n",
    "        del user_app_usage\n",
    "        gc.collect()\n",
    "    user_app_usage_part = pd.read_csv('/Volumes/miguch/data/user_app_usage%d.csv'%i, header=None)\n",
    "    user_app_usage_part.columns = ['uid', 'appId', 'duration', 'times', 'use_date']\n",
    "    user_app_usage = user_app_usage_part\n",
    "    user_app_usage['duration'] = user_app_usage['duration'].astype(np.int32)\n",
    "    user_app_usage['times'] = user_app_usage['times'].astype(np.int16)\n",
    "    user_app_usage['use_date'] = user_app_usage['use_date'].swifter.allow_dask_on_strings().apply(process_date)"
   ]
  },
  {
   "cell_type": "code",
   "execution_count": null,
   "metadata": {},
   "outputs": [],
   "source": [
    "read_user_app_usage(6)"
   ]
  },
  {
   "cell_type": "code",
   "execution_count": null,
   "metadata": {},
   "outputs": [],
   "source": []
  },
  {
   "cell_type": "code",
   "execution_count": null,
   "metadata": {},
   "outputs": [],
   "source": []
  },
  {
   "cell_type": "code",
   "execution_count": null,
   "metadata": {},
   "outputs": [],
   "source": []
  },
  {
   "cell_type": "code",
   "execution_count": null,
   "metadata": {},
   "outputs": [],
   "source": []
  },
  {
   "cell_type": "code",
   "execution_count": null,
   "metadata": {},
   "outputs": [],
   "source": []
  },
  {
   "cell_type": "code",
   "execution_count": null,
   "metadata": {},
   "outputs": [],
   "source": []
  }
 ],
 "metadata": {
  "kernelspec": {
   "display_name": "Python 3",
   "language": "python",
   "name": "python3"
  },
  "language_info": {
   "codemirror_mode": {
    "name": "ipython",
    "version": 3
   },
   "file_extension": ".py",
   "mimetype": "text/x-python",
   "name": "python",
   "nbconvert_exporter": "python",
   "pygments_lexer": "ipython3",
   "version": "3.7.2"
  }
 },
 "nbformat": 4,
 "nbformat_minor": 2
}
