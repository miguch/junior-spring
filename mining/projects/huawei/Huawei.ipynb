{
 "cells": [
  {
   "cell_type": "code",
   "execution_count": 1,
   "metadata": {},
   "outputs": [
    {
     "name": "stderr",
     "output_type": "stream",
     "text": [
      "/usr/local/lib/python3.7/site-packages/tqdm/autonotebook/__init__.py:14: TqdmExperimentalWarning: Using `tqdm.autonotebook.tqdm` in notebook mode. Use `tqdm.tqdm` instead to force console mode (e.g. in jupyter console)\n",
      "  \" (e.g. in jupyter console)\", TqdmExperimentalWarning)\n"
     ]
    }
   ],
   "source": [
    "import pandas as pd \n",
    "import numpy as np\n",
    "import sklearn\n",
    "import os\n",
    "import gc\n",
    "# parallel apply!\n",
    "import swifter\n",
    "from tqdm._tqdm_notebook import tqdm_notebook as tqdm\n",
    "tqdm.pandas()"
   ]
  },
  {
   "cell_type": "code",
   "execution_count": 2,
   "metadata": {},
   "outputs": [],
   "source": [
    "data_dir = './data'"
   ]
  },
  {
   "cell_type": "code",
   "execution_count": 3,
   "metadata": {},
   "outputs": [],
   "source": [
    "age_test_df = pd.read_csv(os.path.join(data_dir, \"age_test.csv\"), header=None)\n",
    "age_train_df = pd.read_csv(os.path.join(data_dir, \"age_train.csv\"), header=None)\n",
    "app_info_df = pd.read_csv(os.path.join(data_dir, \"app_info.csv\"), header=None)\n",
    "user_app_actived_df = pd.read_csv(os.path.join(data_dir, \"user_app_actived.csv\"), header=None)\n",
    "user_basic_info_df = pd.read_csv(os.path.join(data_dir, \"user_basic_info.csv\"), header=None)\n",
    "user_behavior_info_df = pd.read_csv(os.path.join(data_dir, \"user_behavior_info.csv\"), header=None)\n",
    "usage_summary_df = pd.read_csv(os.path.join(data_dir, \"usages_summary.csv\"))\n",
    "user_app_usage = None"
   ]
  },
  {
   "cell_type": "code",
   "execution_count": 4,
   "metadata": {},
   "outputs": [],
   "source": [
    "age_train_df.columns = ['uid', 'age_group']\n",
    "age_test_df.columns = ['uid']\n",
    "user_basic_info_df.columns = ['uid', 'gender', 'city', 'prodName', 'ramCap', 'ramLeft', \n",
    "                            'romCap', 'romLeft', 'color', 'fontSize', 'ct', 'carrier', 'os']\n",
    "user_behavior_info_df.columns = ['uid', 'bootTimes', 'aTimes', 'bTimes', 'cTimes', 'dTimes', \n",
    "                                 'eTimes', 'fTimes', 'fSum']\n",
    "user_app_actived_df.columns = ['uid', 'appId']\n",
    "app_info_df.columns = ['appId', 'category']"
   ]
  },
  {
   "cell_type": "code",
   "execution_count": 5,
   "metadata": {},
   "outputs": [],
   "source": [
    "import sklearn.preprocessing\n",
    "def encodeCategory(df):\n",
    "    encoder = sklearn.preprocessing.LabelEncoder()\n",
    "    return encoder.fit_transform(df)"
   ]
  },
  {
   "cell_type": "markdown",
   "metadata": {},
   "source": [
    "### process basic info"
   ]
  },
  {
   "cell_type": "code",
   "execution_count": 6,
   "metadata": {},
   "outputs": [],
   "source": [
    "basic_cates = ['city', 'prodName', 'color', 'carrier']\n",
    "for field in basic_cates:\n",
    "    user_basic_info_df[field] = encodeCategory(user_basic_info_df[field].astype(str))"
   ]
  },
  {
   "cell_type": "code",
   "execution_count": 7,
   "metadata": {},
   "outputs": [],
   "source": [
    "# [4g,3g,2g,wifi]\n",
    "ct_onehot_dict = {\n",
    "    \"4g\": [1,0,0,0],\n",
    "    'wifi': [0,0,0,1],\n",
    "    '4g#wifi': [1,0,0,1],\n",
    "    0: [0,0,0,0], #nan\n",
    "    '3g#wifi': [0,1,0,1],\n",
    "    '3g': [0,1,0,0],\n",
    "    '2g#wifi': [0,0,1,1],\n",
    "    '2g': [0,0,1,0]\n",
    "}\n",
    "user_basic_info_df['4g'], user_basic_info_df['3g'], user_basic_info_df['2g'], user_basic_info_df['wifi'] = zip(*user_basic_info_df['ct'].fillna(0).apply(lambda c: ct_onehot_dict[c]))\n",
    "user_basic_info_df.drop('ct', axis=1, inplace=True)"
   ]
  },
  {
   "cell_type": "markdown",
   "metadata": {},
   "source": [
    "### process user_app_actived and app_info"
   ]
  },
  {
   "cell_type": "code",
   "execution_count": 8,
   "metadata": {},
   "outputs": [
    {
     "data": {
      "application/vnd.jupyter.widget-view+json": {
       "model_id": "",
       "version_major": 2,
       "version_minor": 0
      },
      "text/plain": [
       "HBox(children=(IntProgress(value=0, max=188864), HTML(value='')))"
      ]
     },
     "metadata": {},
     "output_type": "display_data"
    },
    {
     "name": "stdout",
     "output_type": "stream",
     "text": [
      "\r"
     ]
    }
   ],
   "source": [
    "app_info_df['category_id'] = encodeCategory(app_info_df['category'])\n",
    "app_info_map = {r[1]['appId']: r[1]['category'] for r in tqdm(app_info_df.iterrows(), \n",
    "                                                              total=app_info_df.shape[0], leave=False)}"
   ]
  },
  {
   "cell_type": "code",
   "execution_count": 9,
   "metadata": {},
   "outputs": [
    {
     "data": {
      "application/vnd.jupyter.widget-view+json": {
       "model_id": "ffcafb84c0a249ee906d0cb94b7bdedc",
       "version_major": 2,
       "version_minor": 0
      },
      "text/plain": [
       "HBox(children=(IntProgress(value=0, max=2512500), HTML(value='')))"
      ]
     },
     "metadata": {},
     "output_type": "display_data"
    },
    {
     "name": "stdout",
     "output_type": "stream",
     "text": [
      "\n"
     ]
    }
   ],
   "source": [
    "user_app_actived_df['app_category'] = user_app_actived_df['appId'].progress_apply(\n",
    "    lambda a: ' '.join([app_info_map.get(appId, 'unknown') for appId in a.split('#')]))"
   ]
  },
  {
   "cell_type": "code",
   "execution_count": 10,
   "metadata": {},
   "outputs": [],
   "source": [
    "import sklearn.feature_extraction.text\n",
    "# vectorizer = sklearn.feature_extraction.text.TfidfVectorizer()\n",
    "w2v_vectorizer = sklearn.feature_extraction.text.CountVectorizer()\n",
    "w2v_app_vectors = w2v_vectorizer.fit_transform(user_app_actived_df['app_category'])\n",
    "tf_idf_vectorizer = sklearn.feature_extraction.text.TfidfVectorizer()\n",
    "tf_idf_vectors = tf_idf_vectorizer.fit_transform(user_app_actived_df['app_category'])"
   ]
  },
  {
   "cell_type": "code",
   "execution_count": 11,
   "metadata": {},
   "outputs": [
    {
     "data": {
      "application/vnd.jupyter.widget-view+json": {
       "model_id": "9280787bb5934d5ca770c339965029fc",
       "version_major": 2,
       "version_minor": 0
      },
      "text/plain": [
       "HBox(children=(IntProgress(value=0, max=2512500), HTML(value='')))"
      ]
     },
     "metadata": {},
     "output_type": "display_data"
    },
    {
     "name": "stdout",
     "output_type": "stream",
     "text": [
      "\n"
     ]
    }
   ],
   "source": [
    "user_app_vec = pd.DataFrame(user_app_actived_df['uid'])\n",
    "for i in range(len(w2v_vectorizer.vocabulary_)):\n",
    "    user_app_vec['app_w2v_%s'%list(w2v_vectorizer.vocabulary_.keys())[i]] = w2v_app_vectors[:, i].toarray()\n",
    "for i in range(len(tf_idf_vectorizer.vocabulary_)):\n",
    "    user_app_vec['app_tfidf_%s'%list(tf_idf_vectorizer.vocabulary_.keys())[i]] = tf_idf_vectors[:, i].toarray()\n",
    "user_app_vec['total_app'] = user_app_actived_df['appId'].progress_apply(\n",
    "    lambda a: len(a.split('#')))"
   ]
  },
  {
   "cell_type": "code",
   "execution_count": null,
   "metadata": {},
   "outputs": [],
   "source": []
  },
  {
   "cell_type": "code",
   "execution_count": null,
   "metadata": {},
   "outputs": [],
   "source": []
  },
  {
   "cell_type": "markdown",
   "metadata": {},
   "source": [
    "## Prepare training features"
   ]
  },
  {
   "cell_type": "code",
   "execution_count": 12,
   "metadata": {},
   "outputs": [],
   "source": [
    "user_info_df = user_basic_info_df.merge(user_behavior_info_df, on='uid')"
   ]
  },
  {
   "cell_type": "code",
   "execution_count": 13,
   "metadata": {},
   "outputs": [],
   "source": [
    "features_df = user_info_df.merge(user_app_vec, on='uid', how='left') "
   ]
  },
  {
   "cell_type": "code",
   "execution_count": 14,
   "metadata": {},
   "outputs": [],
   "source": [
    "features_df = features_df.merge(usage_summary_df, on='uid', how='left') "
   ]
  },
  {
   "cell_type": "code",
   "execution_count": 15,
   "metadata": {},
   "outputs": [],
   "source": [
    "features_df.sort_values(by='uid', inplace=True)\n",
    "features_df.reset_index(drop=True, inplace=True)"
   ]
  },
  {
   "cell_type": "code",
   "execution_count": 16,
   "metadata": {},
   "outputs": [
    {
     "data": {
      "text/plain": [
       "(Index(['uid', 'gender', 'city', 'prodName', 'ramCap', 'ramLeft', 'romCap',\n",
       "        'romLeft', 'color', 'fontSize',\n",
       "        ...\n",
       "        'duration_旅游住宿', 'usage_动作冒险', 'times_动作冒险', 'duration_动作冒险',\n",
       "        'usage_策略游戏', 'times_策略游戏', 'duration_策略游戏', 'usage_合作壁纸*',\n",
       "        'times_合作壁纸*', 'duration_合作壁纸*'],\n",
       "       dtype='object', length=204), 204)"
      ]
     },
     "execution_count": 16,
     "metadata": {},
     "output_type": "execute_result"
    }
   ],
   "source": [
    "features_df.columns, len(features_df.columns)"
   ]
  },
  {
   "cell_type": "code",
   "execution_count": 17,
   "metadata": {},
   "outputs": [],
   "source": [
    "categorical_features = ['gender', 'city', 'prodName', 'color', 'carrier']"
   ]
  },
  {
   "cell_type": "code",
   "execution_count": 18,
   "metadata": {},
   "outputs": [],
   "source": [
    "# def one_hot_category(df, feature_name):\n",
    "#     dum = pd.get_dummies(df[feature_name])\n",
    "#     for col in dum.columns:\n",
    "#         df['%s_%s'%(feature_name, col)] = dum[col]\n",
    "#     df.drop(feature_name, axis=1, inplace=True)\n",
    "# for cate in categorical_features:\n",
    "#     one_hot_category(features_df, cate)"
   ]
  },
  {
   "cell_type": "code",
   "execution_count": 19,
   "metadata": {},
   "outputs": [
    {
     "data": {
      "text/plain": [
       "90"
      ]
     },
     "execution_count": 19,
     "metadata": {},
     "output_type": "execute_result"
    }
   ],
   "source": [
    "del user_basic_info_df\n",
    "del user_behavior_info_df\n",
    "del user_app_vec\n",
    "del user_info_df\n",
    "del usage_summary_df\n",
    "gc.collect()"
   ]
  },
  {
   "cell_type": "code",
   "execution_count": 20,
   "metadata": {},
   "outputs": [],
   "source": [
    "train_data = features_df.merge(age_train_df, on='uid', how='right')\n",
    "test_x = features_df.merge(age_test_df, on='uid', how='right')"
   ]
  },
  {
   "cell_type": "code",
   "execution_count": 21,
   "metadata": {},
   "outputs": [
    {
     "data": {
      "text/plain": [
       "68"
      ]
     },
     "execution_count": 21,
     "metadata": {},
     "output_type": "execute_result"
    }
   ],
   "source": [
    "del features_df\n",
    "gc.collect()"
   ]
  },
  {
   "cell_type": "code",
   "execution_count": 22,
   "metadata": {},
   "outputs": [],
   "source": [
    "train_x = train_data.drop(['uid', 'age_group'], axis=1)\n",
    "train_y = train_data['age_group']"
   ]
  },
  {
   "cell_type": "code",
   "execution_count": 23,
   "metadata": {},
   "outputs": [
    {
     "data": {
      "text/plain": [
       "47"
      ]
     },
     "execution_count": 23,
     "metadata": {},
     "output_type": "execute_result"
    }
   ],
   "source": [
    "del train_data\n",
    "gc.collect()"
   ]
  },
  {
   "cell_type": "code",
   "execution_count": 24,
   "metadata": {},
   "outputs": [],
   "source": [
    "train_x.fillna(train_x.mean(), inplace=True)\n",
    "test_x.fillna(train_x.mean(), inplace=True)"
   ]
  },
  {
   "cell_type": "code",
   "execution_count": null,
   "metadata": {},
   "outputs": [],
   "source": []
  },
  {
   "cell_type": "code",
   "execution_count": null,
   "metadata": {},
   "outputs": [],
   "source": []
  },
  {
   "cell_type": "code",
   "execution_count": null,
   "metadata": {},
   "outputs": [],
   "source": []
  },
  {
   "cell_type": "code",
   "execution_count": null,
   "metadata": {},
   "outputs": [],
   "source": []
  },
  {
   "cell_type": "markdown",
   "metadata": {},
   "source": [
    "## Train Model\n"
   ]
  },
  {
   "cell_type": "code",
   "execution_count": null,
   "metadata": {},
   "outputs": [],
   "source": []
  },
  {
   "cell_type": "code",
   "execution_count": 25,
   "metadata": {},
   "outputs": [
    {
     "name": "stderr",
     "output_type": "stream",
     "text": [
      "/usr/local/lib/python3.7/site-packages/lightgbm/__init__.py:46: UserWarning: Starting from version 2.2.1, the library file in distribution wheels for macOS is built by the Apple Clang (Xcode_8.3.3) compiler.\n",
      "This means that in case of installing LightGBM from PyPI via the ``pip install lightgbm`` command, you don't need to install the gcc compiler anymore.\n",
      "Instead of that, you need to install the OpenMP library, which is required for running LightGBM on the system with the Apple Clang compiler.\n",
      "You can install the OpenMP library by the following command: ``brew install libomp``.\n",
      "  \"You can install the OpenMP library by the following command: ``brew install libomp``.\", UserWarning)\n"
     ]
    }
   ],
   "source": [
    "import sklearn.model_selection\n",
    "import sklearn.metrics\n",
    "import lightgbm as lgb\n",
    "import sklearn.ensemble\n",
    "import xgboost as xgb\n",
    "\n",
    "def cv(clf, x, y, params={}, splits=3, fit_params={}):\n",
    "    kfold = sklearn.model_selection.StratifiedKFold(splits, shuffle=True)\n",
    "    cv_score = sklearn.model_selection.cross_validate(clf, x, y, cv=kfold, scoring={\n",
    "        'accuracy': 'accuracy',\n",
    "    }, return_train_score=True, verbose=5, fit_params=fit_params)\n",
    "    return cv_score"
   ]
  },
  {
   "cell_type": "code",
   "execution_count": 26,
   "metadata": {},
   "outputs": [],
   "source": [
    "\n",
    "params = {\n",
    "        'boosting_type': 'gbdt',\n",
    "        'objective': 'multiclass',\n",
    "        \"metric\": 'multi_logloss',\n",
    "        'n_jobs': -1,\n",
    "    \n",
    "        #better\n",
    "#         'n_estimators': 600,\n",
    "#         \"num_leaves\": 900,\n",
    "#         \"subsample_for_bin\": 50000,\n",
    "#         'max_bin': 750,\n",
    "    \n",
    "        #fast\n",
    "        'n_estimators': 100,\n",
    "        \"num_leaves\": 200,\n",
    "        \"subsample_for_bin\": 20000,\n",
    "        'max_bin': 512,\n",
    "    \n",
    "    \n",
    "        \"max_depth\": -1,\n",
    "        'min_child_samples': 100,\n",
    "        'learning_rate': 0.06,\n",
    "        'boost_from_average': True,\n",
    "        'min_child_weight': 1e-3,\n",
    "        'reg_alpha': 2,\n",
    "        'reg_lambda': 5,\n",
    "        'colsample_bytree':0.7, \n",
    "}\n",
    "def run_cross_validation(clf, x, y, fit_params={}):\n",
    "    cv_result = cv(clf, x, y, params=params, splits=3, fit_params=fit_params)\n",
    "    for scorer, score in cv_result.items():\n",
    "        print('%s: %s' % (scorer, score))\n",
    "        print('Average %s: %f' % (scorer, score.mean()))"
   ]
  },
  {
   "cell_type": "code",
   "execution_count": 27,
   "metadata": {
    "scrolled": true
   },
   "outputs": [
    {
     "name": "stderr",
     "output_type": "stream",
     "text": [
      "[Parallel(n_jobs=1)]: Using backend SequentialBackend with 1 concurrent workers.\n"
     ]
    },
    {
     "name": "stdout",
     "output_type": "stream",
     "text": [
      "[CV]  ................................................................\n"
     ]
    },
    {
     "name": "stderr",
     "output_type": "stream",
     "text": [
      "/usr/local/lib/python3.7/site-packages/lightgbm/basic.py:1209: UserWarning: categorical_feature in Dataset is overridden.\n",
      "New categorical_feature is ['carrier', 'city', 'color', 'gender', 'prodName']\n",
      "  'New categorical_feature is {}'.format(sorted(list(categorical_feature))))\n"
     ]
    },
    {
     "name": "stdout",
     "output_type": "stream",
     "text": [
      "[CV] .................... , accuracy=0.5097887913600129, total= 7.7min\n"
     ]
    },
    {
     "name": "stderr",
     "output_type": "stream",
     "text": [
      "[Parallel(n_jobs=1)]: Done   1 out of   1 | elapsed:  8.4min remaining:    0.0s\n"
     ]
    },
    {
     "name": "stdout",
     "output_type": "stream",
     "text": [
      "[CV]  ................................................................\n",
      "[CV] ..................... , accuracy=0.510410447761194, total= 7.6min\n"
     ]
    },
    {
     "name": "stderr",
     "output_type": "stream",
     "text": [
      "[Parallel(n_jobs=1)]: Done   2 out of   2 | elapsed: 16.6min remaining:    0.0s\n"
     ]
    },
    {
     "name": "stdout",
     "output_type": "stream",
     "text": [
      "[CV]  ................................................................\n",
      "[CV] .................... , accuracy=0.5094097155368889, total= 8.2min\n",
      "fit_time: [441.84404588 437.93021297 476.13990712]\n",
      "Average fit_time: 451.971389\n",
      "score_time: [19.64626932 15.80504704 15.8221848 ]\n",
      "Average score_time: 17.091167\n",
      "test_accuracy: [0.50978879 0.51041045 0.50940972]\n",
      "Average test_accuracy: 0.509870\n",
      "train_accuracy: [0.56870863 0.5667791  0.56837047]\n",
      "Average train_accuracy: 0.567953\n"
     ]
    },
    {
     "name": "stderr",
     "output_type": "stream",
     "text": [
      "[Parallel(n_jobs=1)]: Done   3 out of   3 | elapsed: 25.4min remaining:    0.0s\n",
      "[Parallel(n_jobs=1)]: Done   3 out of   3 | elapsed: 25.4min finished\n"
     ]
    }
   ],
   "source": [
    "gc.collect()\n",
    "clf = lgb.LGBMClassifier(**params)\n",
    "run_cross_validation(clf, train_x, train_y, {'categorical_feature': categorical_features})"
   ]
  },
  {
   "cell_type": "code",
   "execution_count": 28,
   "metadata": {},
   "outputs": [],
   "source": [
    "def train(x, y, params={}):\n",
    "    clf = lgb.LGBMClassifier(**params)\n",
    "#     clf.fit(x, y, categorical_feature=categorical_features)\n",
    "    clf.fit(x, y, categorical_feature=categorical_features)\n",
    "    return clf\n"
   ]
  },
  {
   "cell_type": "code",
   "execution_count": 29,
   "metadata": {},
   "outputs": [],
   "source": [
    "model = train(train_x, train_y, params)"
   ]
  },
  {
   "cell_type": "code",
   "execution_count": 30,
   "metadata": {},
   "outputs": [],
   "source": [
    "pred_y = model.predict(test_x.drop('uid', axis=1))"
   ]
  },
  {
   "cell_type": "code",
   "execution_count": 31,
   "metadata": {},
   "outputs": [],
   "source": [
    "result = pd.DataFrame(test_x['uid'])\n",
    "result.columns = ['id']\n",
    "result['label'] = pred_y"
   ]
  },
  {
   "cell_type": "code",
   "execution_count": 32,
   "metadata": {},
   "outputs": [],
   "source": [
    "result.to_csv('submission.csv', index=False)"
   ]
  },
  {
   "cell_type": "code",
   "execution_count": 33,
   "metadata": {},
   "outputs": [
    {
     "name": "stdout",
     "output_type": "stream",
     "text": [
      "gender 1004\n",
      "city 33746\n",
      "prodName 12197\n",
      "ramCap 28\n",
      "ramLeft 44\n",
      "romCap 95\n",
      "romLeft 812\n",
      "color 5023\n",
      "fontSize 1826\n",
      "carrier 73\n",
      "os 59\n",
      "4g 240\n",
      "3g 0\n",
      "2g 0\n",
      "wifi 360\n",
      "bootTimes 701\n",
      "aTimes 666\n",
      "bTimes 85\n",
      "cTimes 354\n",
      "dTimes 2088\n",
      "eTimes 2478\n",
      "fTimes 2\n",
      "fSum 1273\n",
      "app_w2v_社交通讯 598\n",
      "app_w2v_教育 11\n",
      "app_w2v_运动健康 15\n",
      "app_w2v_便捷生活 118\n",
      "app_w2v_实用工具 100\n",
      "app_w2v_金融理财 593\n",
      "app_w2v_购物比价 208\n",
      "app_w2v_儿童 479\n",
      "app_w2v_新闻阅读 224\n",
      "app_w2v_商务 0\n",
      "app_w2v_汽车 767\n",
      "app_w2v_unknown 414\n",
      "app_w2v_出行导航 463\n",
      "app_w2v_影音娱乐 1101\n",
      "app_w2v_美食 1130\n",
      "app_w2v_旅游住宿 230\n",
      "app_w2v_拍摄美化 18\n",
      "app_w2v_角色扮演 277\n",
      "app_w2v_动作射击 0\n",
      "app_w2v_经营策略 502\n",
      "app_w2v_棋牌桌游 372\n",
      "app_w2v_休闲益智 0\n",
      "app_w2v_主题个性 96\n",
      "app_w2v_体育竞速 0\n",
      "app_w2v_学习办公 61\n",
      "app_w2v_网络游戏 106\n",
      "app_w2v_益智棋牌 29\n",
      "app_w2v_表盘个性 641\n",
      "app_tfidf_社交通讯 922\n",
      "app_tfidf_教育 67\n",
      "app_tfidf_运动健康 82\n",
      "app_tfidf_便捷生活 387\n",
      "app_tfidf_实用工具 282\n",
      "app_tfidf_金融理财 871\n",
      "app_tfidf_购物比价 727\n",
      "app_tfidf_儿童 941\n",
      "app_tfidf_新闻阅读 952\n",
      "app_tfidf_商务 1\n",
      "app_tfidf_汽车 1600\n",
      "app_tfidf_unknown 1355\n",
      "app_tfidf_出行导航 955\n",
      "app_tfidf_影音娱乐 1536\n",
      "app_tfidf_美食 1326\n",
      "app_tfidf_旅游住宿 755\n",
      "app_tfidf_拍摄美化 157\n",
      "app_tfidf_角色扮演 665\n",
      "app_tfidf_动作射击 0\n",
      "app_tfidf_经营策略 1269\n",
      "app_tfidf_棋牌桌游 863\n",
      "app_tfidf_休闲益智 1\n",
      "app_tfidf_主题个性 347\n",
      "app_tfidf_体育竞速 0\n",
      "app_tfidf_学习办公 173\n",
      "app_tfidf_网络游戏 412\n",
      "app_tfidf_益智棋牌 163\n",
      "app_tfidf_表盘个性 1527\n",
      "total_app 69\n",
      "usage_购物比价 0\n",
      "times_购物比价 0\n",
      "duration_购物比价 0\n",
      "usage_出行导航 0\n",
      "times_出行导航 0\n",
      "duration_出行导航 0\n",
      "usage_模拟游戏 68\n",
      "times_模拟游戏 95\n",
      "duration_模拟游戏 221\n",
      "usage_实用工具 423\n",
      "times_实用工具 37\n",
      "duration_实用工具 671\n",
      "usage_便捷生活 131\n",
      "times_便捷生活 149\n",
      "duration_便捷生活 309\n",
      "usage_运动健康 0\n",
      "times_运动健康 0\n",
      "duration_运动健康 0\n",
      "usage_新闻阅读 38\n",
      "times_新闻阅读 81\n",
      "duration_新闻阅读 45\n",
      "usage_商务 1335\n",
      "times_商务 2570\n",
      "duration_商务 997\n",
      "usage_电子书籍 229\n",
      "times_电子书籍 90\n",
      "duration_电子书籍 1627\n",
      "usage_影音娱乐 68\n",
      "times_影音娱乐 1073\n",
      "duration_影音娱乐 347\n",
      "usage_社交通讯 47\n",
      "times_社交通讯 99\n",
      "duration_社交通讯 167\n",
      "usage_美食 239\n",
      "times_美食 515\n",
      "duration_美食 510\n",
      "usage_体育竞速 302\n",
      "times_体育竞速 519\n",
      "duration_体育竞速 882\n",
      "usage_角色游戏 0\n",
      "times_角色游戏 0\n",
      "duration_角色游戏 0\n",
      "usage_动作射击 0\n",
      "times_动作射击 0\n",
      "duration_动作射击 0\n",
      "usage_益智棋牌 108\n",
      "times_益智棋牌 259\n",
      "duration_益智棋牌 511\n",
      "usage_unknown 0\n",
      "times_unknown 0\n",
      "duration_unknown 0\n",
      "usage_网络游戏 222\n",
      "times_网络游戏 472\n",
      "duration_网络游戏 600\n",
      "usage_休闲娱乐 0\n",
      "times_休闲娱乐 0\n",
      "duration_休闲娱乐 0\n",
      "usage_教育 0\n",
      "times_教育 0\n",
      "duration_教育 0\n",
      "usage_经营策略 0\n",
      "times_经营策略 0\n",
      "duration_经营策略 0\n",
      "usage_表盘个性 0\n",
      "times_表盘个性 0\n",
      "duration_表盘个性 0\n",
      "usage_图书阅读 217\n",
      "times_图书阅读 26\n",
      "duration_图书阅读 102\n",
      "usage_角色扮演 0\n",
      "times_角色扮演 0\n",
      "duration_角色扮演 0\n",
      "usage_休闲益智 18\n",
      "times_休闲益智 183\n",
      "duration_休闲益智 85\n",
      "usage_棋牌桌游 19\n",
      "times_棋牌桌游 44\n",
      "duration_棋牌桌游 88\n",
      "usage_医疗健康 0\n",
      "times_医疗健康 0\n",
      "duration_医疗健康 0\n",
      "usage_学习办公 262\n",
      "times_学习办公 2670\n",
      "duration_学习办公 1036\n",
      "usage_拍摄美化 74\n",
      "times_拍摄美化 121\n",
      "duration_拍摄美化 349\n",
      "usage_主题铃声 0\n",
      "times_主题铃声 0\n",
      "duration_主题铃声 0\n",
      "usage_儿童 0\n",
      "times_儿童 0\n",
      "duration_儿童 0\n",
      "usage_棋牌天地 0\n",
      "times_棋牌天地 0\n",
      "duration_棋牌天地 0\n",
      "usage_主题个性 22\n",
      "times_主题个性 32\n",
      "duration_主题个性 30\n",
      "usage_汽车 450\n",
      "times_汽车 1668\n",
      "duration_汽车 772\n",
      "usage_体育射击 0\n",
      "times_体育射击 0\n",
      "duration_体育射击 0\n",
      "usage_金融理财 106\n",
      "times_金融理财 31\n",
      "duration_金融理财 99\n",
      "usage_休闲游戏 258\n",
      "times_休闲游戏 857\n",
      "duration_休闲游戏 1534\n",
      "usage_旅游住宿 593\n",
      "times_旅游住宿 124\n",
      "duration_旅游住宿 215\n",
      "usage_动作冒险 106\n",
      "times_动作冒险 369\n",
      "duration_动作冒险 86\n",
      "usage_策略游戏 18\n",
      "times_策略游戏 538\n",
      "duration_策略游戏 30\n",
      "usage_合作壁纸* 0\n",
      "times_合作壁纸* 0\n",
      "duration_合作壁纸* 0\n"
     ]
    }
   ],
   "source": [
    "for i in range(len(train_x.columns)):\n",
    "    print(train_x.columns[i], model.feature_importances_[i])"
   ]
  },
  {
   "cell_type": "code",
   "execution_count": 34,
   "metadata": {},
   "outputs": [
    {
     "data": {
      "text/plain": [
       "168"
      ]
     },
     "execution_count": 34,
     "metadata": {},
     "output_type": "execute_result"
    }
   ],
   "source": [
    "gc.collect()"
   ]
  },
  {
   "cell_type": "code",
   "execution_count": null,
   "metadata": {},
   "outputs": [],
   "source": []
  },
  {
   "cell_type": "code",
   "execution_count": null,
   "metadata": {},
   "outputs": [],
   "source": []
  },
  {
   "cell_type": "code",
   "execution_count": null,
   "metadata": {},
   "outputs": [],
   "source": []
  },
  {
   "cell_type": "code",
   "execution_count": null,
   "metadata": {},
   "outputs": [],
   "source": []
  },
  {
   "cell_type": "code",
   "execution_count": null,
   "metadata": {},
   "outputs": [],
   "source": []
  }
 ],
 "metadata": {
  "kernelspec": {
   "display_name": "Python 3",
   "language": "python",
   "name": "python3"
  },
  "language_info": {
   "codemirror_mode": {
    "name": "ipython",
    "version": 3
   },
   "file_extension": ".py",
   "mimetype": "text/x-python",
   "name": "python",
   "nbconvert_exporter": "python",
   "pygments_lexer": "ipython3",
   "version": "3.7.2"
  }
 },
 "nbformat": 4,
 "nbformat_minor": 2
}
