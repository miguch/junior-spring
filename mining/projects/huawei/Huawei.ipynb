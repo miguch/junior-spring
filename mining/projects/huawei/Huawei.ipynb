{
 "cells": [
  {
   "cell_type": "code",
   "execution_count": 1,
   "metadata": {},
   "outputs": [
    {
     "name": "stderr",
     "output_type": "stream",
     "text": [
      "/usr/local/lib/python3.7/site-packages/tqdm/autonotebook/__init__.py:14: TqdmExperimentalWarning: Using `tqdm.autonotebook.tqdm` in notebook mode. Use `tqdm.tqdm` instead to force console mode (e.g. in jupyter console)\n",
      "  \" (e.g. in jupyter console)\", TqdmExperimentalWarning)\n"
     ]
    }
   ],
   "source": [
    "import pandas as pd \n",
    "import numpy as np\n",
    "import sklearn\n",
    "import os\n",
    "import gc\n",
    "# parallel apply!\n",
    "import swifter\n",
    "from tqdm._tqdm_notebook import tqdm_notebook as tqdm\n",
    "tqdm.pandas()"
   ]
  },
  {
   "cell_type": "code",
   "execution_count": 2,
   "metadata": {},
   "outputs": [],
   "source": [
    "def parallel_apply(df, apply_func):\n",
    "    ddf = dd.from_pandas(df, npartitions=24)\n",
    "    return ddf.map_partitions(lambda df: df.apply(apply_func))"
   ]
  },
  {
   "cell_type": "code",
   "execution_count": 3,
   "metadata": {},
   "outputs": [],
   "source": [
    "data_dir = './data'"
   ]
  },
  {
   "cell_type": "code",
   "execution_count": 4,
   "metadata": {},
   "outputs": [],
   "source": [
    "age_test_df = pd.read_csv(os.path.join(data_dir, \"age_test.csv\"), header=None)\n",
    "age_train_df = pd.read_csv(os.path.join(data_dir, \"age_train.csv\"), header=None)\n",
    "app_info_df = pd.read_csv(os.path.join(data_dir, \"app_info.csv\"), header=None)\n",
    "user_app_actived_df = pd.read_csv(os.path.join(data_dir, \"user_app_actived.csv\"), header=None)\n",
    "user_basic_info_df = pd.read_csv(os.path.join(data_dir, \"user_basic_info.csv\"), header=None)\n",
    "user_behavior_info_df = pd.read_csv(os.path.join(data_dir, \"user_behavior_info.csv\"), header=None)\n",
    "user_app_usage = None"
   ]
  },
  {
   "cell_type": "code",
   "execution_count": 5,
   "metadata": {},
   "outputs": [],
   "source": [
    "age_train_df.columns = ['uid', 'age_group']\n",
    "age_test_df.columns = ['uid']\n",
    "user_basic_info_df.columns = ['uid', 'gender', 'city', 'prodName', 'ramCap', 'ramLeft', \n",
    "                            'romCap', 'romLeft', 'color', 'fontSize', 'ct', 'carrier', 'os']\n",
    "user_behavior_info_df.columns = ['uid', 'bootTimes', 'aTimes', 'bTimes', 'cTimes', 'dTimes', \n",
    "                                 'eTimes', 'fTimes', 'fSum']\n",
    "user_app_actived_df.columns = ['uid', 'appId']\n",
    "app_info_df.columns = ['appId', 'category']"
   ]
  },
  {
   "cell_type": "code",
   "execution_count": 6,
   "metadata": {},
   "outputs": [],
   "source": [
    "import sklearn.preprocessing\n",
    "def encodeCategory(df):\n",
    "    encoder = sklearn.preprocessing.LabelEncoder()\n",
    "    return encoder.fit_transform(df)"
   ]
  },
  {
   "cell_type": "markdown",
   "metadata": {},
   "source": [
    "### process basic info"
   ]
  },
  {
   "cell_type": "code",
   "execution_count": 7,
   "metadata": {},
   "outputs": [],
   "source": [
    "basic_cates = ['city', 'prodName', 'color', 'carrier']\n",
    "for field in basic_cates:\n",
    "    user_basic_info_df[field] = encodeCategory(user_basic_info_df[field].astype(str))"
   ]
  },
  {
   "cell_type": "code",
   "execution_count": 8,
   "metadata": {},
   "outputs": [],
   "source": [
    "# [4g,3g,2g,wifi]\n",
    "ct_onehot_dict = {\n",
    "    \"4g\": [1,0,0,0],\n",
    "    'wifi': [0,0,0,1],\n",
    "    '4g#wifi': [1,0,0,1],\n",
    "    0: [0,0,0,0], #nan\n",
    "    '3g#wifi': [0,1,0,1],\n",
    "    '3g': [0,1,0,0],\n",
    "    '2g#wifi': [0,0,1,1],\n",
    "    '2g': [0,0,1,0]\n",
    "}\n",
    "user_basic_info_df['4g'], user_basic_info_df['3g'], user_basic_info_df['2g'], user_basic_info_df['wifi'] = zip(*user_basic_info_df['ct'].fillna(0).apply(lambda c: ct_onehot_dict[c]))\n",
    "user_basic_info_df.drop('ct', axis=1, inplace=True)"
   ]
  },
  {
   "cell_type": "markdown",
   "metadata": {},
   "source": [
    "### process user_app_actived and app_info"
   ]
  },
  {
   "cell_type": "code",
   "execution_count": 9,
   "metadata": {},
   "outputs": [
    {
     "data": {
      "application/vnd.jupyter.widget-view+json": {
       "model_id": "",
       "version_major": 2,
       "version_minor": 0
      },
      "text/plain": [
       "HBox(children=(IntProgress(value=0, max=188864), HTML(value='')))"
      ]
     },
     "metadata": {},
     "output_type": "display_data"
    },
    {
     "name": "stdout",
     "output_type": "stream",
     "text": [
      "\r"
     ]
    }
   ],
   "source": [
    "app_info_df['category_id'] = encodeCategory(app_info_df['category'])\n",
    "app_info_map = {r[1]['appId']: r[1]['category'] for r in tqdm(app_info_df.iterrows(), \n",
    "                                                              total=app_info_df.shape[0], leave=False)}"
   ]
  },
  {
   "cell_type": "code",
   "execution_count": 10,
   "metadata": {},
   "outputs": [
    {
     "data": {
      "application/vnd.jupyter.widget-view+json": {
       "model_id": "75a2d13115c54d5c8fe96c7fbc2f727e",
       "version_major": 2,
       "version_minor": 0
      },
      "text/plain": [
       "HBox(children=(IntProgress(value=0, max=2512500), HTML(value='')))"
      ]
     },
     "metadata": {},
     "output_type": "display_data"
    },
    {
     "name": "stdout",
     "output_type": "stream",
     "text": [
      "\n"
     ]
    }
   ],
   "source": [
    "user_app_actived_df['app_category'] = user_app_actived_df['appId'].progress_apply(\n",
    "    lambda a: ' '.join([app_info_map.get(appId, 'unknown') for appId in a.split('#')]))"
   ]
  },
  {
   "cell_type": "code",
   "execution_count": 11,
   "metadata": {},
   "outputs": [],
   "source": [
    "import sklearn.feature_extraction.text\n",
    "# vectorizer = sklearn.feature_extraction.text.TfidfVectorizer()\n",
    "w2v_vectorizer = sklearn.feature_extraction.text.CountVectorizer()\n",
    "w2v_app_vectors = w2v_vectorizer.fit_transform(user_app_actived_df['app_category'])\n",
    "tf_idf_vectorizer = sklearn.feature_extraction.text.TfidfVectorizer()\n",
    "tf_idf_vectors = tf_idf_vectorizer.fit_transform(user_app_actived_df['app_category'])"
   ]
  },
  {
   "cell_type": "code",
   "execution_count": 12,
   "metadata": {},
   "outputs": [
    {
     "data": {
      "application/vnd.jupyter.widget-view+json": {
       "model_id": "e13c4c71247a4d70b21efa457d44203d",
       "version_major": 2,
       "version_minor": 0
      },
      "text/plain": [
       "HBox(children=(IntProgress(value=0, max=2512500), HTML(value='')))"
      ]
     },
     "metadata": {},
     "output_type": "display_data"
    },
    {
     "name": "stdout",
     "output_type": "stream",
     "text": [
      "\n"
     ]
    }
   ],
   "source": [
    "user_app_vec = pd.DataFrame(user_app_actived_df['uid'])\n",
    "for i in range(len(w2v_vectorizer.vocabulary_)):\n",
    "    user_app_vec['app_w2v_%s'%list(w2v_vectorizer.vocabulary_.keys())[i]] = w2v_app_vectors[:, i].toarray()\n",
    "for i in range(len(tf_idf_vectorizer.vocabulary_)):\n",
    "    user_app_vec['app_tfidf_%s'%list(tf_idf_vectorizer.vocabulary_.keys())[i]] = tf_idf_vectors[:, i].toarray()\n",
    "user_app_vec['total_app'] = user_app_actived_df['appId'].progress_apply(\n",
    "    lambda a: len(a.split('#')))"
   ]
  },
  {
   "cell_type": "code",
   "execution_count": null,
   "metadata": {},
   "outputs": [],
   "source": []
  },
  {
   "cell_type": "code",
   "execution_count": null,
   "metadata": {},
   "outputs": [],
   "source": []
  },
  {
   "cell_type": "markdown",
   "metadata": {},
   "source": [
    "## Prepare training features"
   ]
  },
  {
   "cell_type": "code",
   "execution_count": 13,
   "metadata": {},
   "outputs": [],
   "source": [
    "user_info_df = user_basic_info_df.merge(user_behavior_info_df, on='uid')"
   ]
  },
  {
   "cell_type": "code",
   "execution_count": 14,
   "metadata": {},
   "outputs": [],
   "source": [
    "features_df = user_info_df.merge(user_app_vec, on='uid', how='left') "
   ]
  },
  {
   "cell_type": "code",
   "execution_count": 15,
   "metadata": {},
   "outputs": [],
   "source": [
    "features_df.sort_values(by='uid', inplace=True)\n",
    "features_df.reset_index(drop=True, inplace=True)"
   ]
  },
  {
   "cell_type": "code",
   "execution_count": 16,
   "metadata": {},
   "outputs": [
    {
     "data": {
      "text/plain": [
       "Index(['uid', 'gender', 'city', 'prodName', 'ramCap', 'ramLeft', 'romCap',\n",
       "       'romLeft', 'color', 'fontSize', 'carrier', 'os', '4g', '3g', '2g',\n",
       "       'wifi', 'bootTimes', 'aTimes', 'bTimes', 'cTimes', 'dTimes', 'eTimes',\n",
       "       'fTimes', 'fSum', 'app_w2v_社交通讯', 'app_w2v_教育', 'app_w2v_运动健康',\n",
       "       'app_w2v_便捷生活', 'app_w2v_实用工具', 'app_w2v_金融理财', 'app_w2v_购物比价',\n",
       "       'app_w2v_儿童', 'app_w2v_新闻阅读', 'app_w2v_商务', 'app_w2v_汽车',\n",
       "       'app_w2v_unknown', 'app_w2v_出行导航', 'app_w2v_影音娱乐', 'app_w2v_美食',\n",
       "       'app_w2v_旅游住宿', 'app_w2v_拍摄美化', 'app_w2v_角色扮演', 'app_w2v_动作射击',\n",
       "       'app_w2v_经营策略', 'app_w2v_棋牌桌游', 'app_w2v_休闲益智', 'app_w2v_主题个性',\n",
       "       'app_w2v_体育竞速', 'app_w2v_学习办公', 'app_w2v_网络游戏', 'app_w2v_益智棋牌',\n",
       "       'app_w2v_表盘个性', 'app_tfidf_社交通讯', 'app_tfidf_教育', 'app_tfidf_运动健康',\n",
       "       'app_tfidf_便捷生活', 'app_tfidf_实用工具', 'app_tfidf_金融理财', 'app_tfidf_购物比价',\n",
       "       'app_tfidf_儿童', 'app_tfidf_新闻阅读', 'app_tfidf_商务', 'app_tfidf_汽车',\n",
       "       'app_tfidf_unknown', 'app_tfidf_出行导航', 'app_tfidf_影音娱乐', 'app_tfidf_美食',\n",
       "       'app_tfidf_旅游住宿', 'app_tfidf_拍摄美化', 'app_tfidf_角色扮演', 'app_tfidf_动作射击',\n",
       "       'app_tfidf_经营策略', 'app_tfidf_棋牌桌游', 'app_tfidf_休闲益智', 'app_tfidf_主题个性',\n",
       "       'app_tfidf_体育竞速', 'app_tfidf_学习办公', 'app_tfidf_网络游戏', 'app_tfidf_益智棋牌',\n",
       "       'app_tfidf_表盘个性', 'total_app'],\n",
       "      dtype='object')"
      ]
     },
     "execution_count": 16,
     "metadata": {},
     "output_type": "execute_result"
    }
   ],
   "source": [
    "features_df.columns"
   ]
  },
  {
   "cell_type": "code",
   "execution_count": 17,
   "metadata": {},
   "outputs": [],
   "source": [
    "categorical_features = ['gender', 'city', 'prodName', 'color', 'carrier']"
   ]
  },
  {
   "cell_type": "code",
   "execution_count": 18,
   "metadata": {},
   "outputs": [],
   "source": [
    "# def one_hot_category(df, feature_name):\n",
    "#     dum = pd.get_dummies(df[feature_name])\n",
    "#     for col in dum.columns:\n",
    "#         df['%s_%s'%(feature_name, col)] = dum[col]\n",
    "#     df.drop(feature_name, axis=1, inplace=True)\n",
    "# for cate in categorical_features:\n",
    "#     one_hot_category(features_df, cate)"
   ]
  },
  {
   "cell_type": "code",
   "execution_count": 19,
   "metadata": {},
   "outputs": [],
   "source": [
    "train_data = features_df.merge(age_train_df, on='uid', how='right')\n",
    "test_x = features_df.merge(age_test_df, on='uid', how='right')"
   ]
  },
  {
   "cell_type": "code",
   "execution_count": 20,
   "metadata": {},
   "outputs": [],
   "source": [
    "train_x = train_data.drop(['uid', 'age_group'], axis=1)\n",
    "train_y = train_data['age_group']"
   ]
  },
  {
   "cell_type": "code",
   "execution_count": null,
   "metadata": {},
   "outputs": [],
   "source": []
  },
  {
   "cell_type": "code",
   "execution_count": 21,
   "metadata": {},
   "outputs": [],
   "source": [
    "train_x.fillna(train_x.mean(), inplace=True)\n",
    "test_x.fillna(train_x.mean(), inplace=True)"
   ]
  },
  {
   "cell_type": "code",
   "execution_count": null,
   "metadata": {},
   "outputs": [],
   "source": []
  },
  {
   "cell_type": "code",
   "execution_count": 22,
   "metadata": {},
   "outputs": [
    {
     "data": {
      "text/plain": [
       "56"
      ]
     },
     "execution_count": 22,
     "metadata": {},
     "output_type": "execute_result"
    }
   ],
   "source": [
    "del features_df\n",
    "del user_basic_info_df\n",
    "del user_behavior_info_df\n",
    "del user_app_vec\n",
    "gc.collect()"
   ]
  },
  {
   "cell_type": "code",
   "execution_count": null,
   "metadata": {},
   "outputs": [],
   "source": []
  },
  {
   "cell_type": "code",
   "execution_count": null,
   "metadata": {},
   "outputs": [],
   "source": []
  },
  {
   "cell_type": "markdown",
   "metadata": {},
   "source": [
    "## Train Model\n"
   ]
  },
  {
   "cell_type": "code",
   "execution_count": null,
   "metadata": {},
   "outputs": [],
   "source": []
  },
  {
   "cell_type": "code",
   "execution_count": 26,
   "metadata": {},
   "outputs": [],
   "source": [
    "import sklearn.model_selection\n",
    "import sklearn.metrics\n",
    "import lightgbm as lgb\n",
    "import sklearn.ensemble\n",
    "import xgboost as xgb\n",
    "\n",
    "def cv(clf, x, y, params={}, splits=3, fit_params={}):\n",
    "    kfold = sklearn.model_selection.StratifiedKFold(splits, shuffle=True)\n",
    "    cv_score = sklearn.model_selection.cross_validate(clf, x, y, cv=kfold, scoring={\n",
    "        'accuracy': 'accuracy',\n",
    "    }, return_train_score=True, verbose=5, fit_params=fit_params)\n",
    "    return cv_score"
   ]
  },
  {
   "cell_type": "code",
   "execution_count": 33,
   "metadata": {},
   "outputs": [],
   "source": [
    "\n",
    "params = {\n",
    "        'boosting_type': 'gbdt',\n",
    "        'objective': 'multiclass',\n",
    "        \"metric\": 'multi_logloss',\n",
    "        'n_jobs': -1,\n",
    "    \n",
    "        \"num_leaves\": 180,\n",
    "        \"max_depth\": -1,\n",
    "        'min_child_samples': 100,\n",
    "        'n_estimators': 100,\n",
    "        'learning_rate': 0.05,\n",
    "        'boost_from_average': True,\n",
    "        'min_child_weight': 1e-3,\n",
    "        \"subsample_for_bin\": 50000,\n",
    "        'max_bin': 510,\n",
    "        'reg_alpha': 3,\n",
    "        'reg_lambda': 5,\n",
    "        'subsample': 0.9,\n",
    "        'colsample_bytree':0.7, \n",
    "        'subsample_freq': 1,\n",
    "}\n",
    "def run_cross_validation(clf, x, y, fit_params={}):\n",
    "    cv_result = cv(clf, x, y, params=params, splits=3, fit_params=fit_params)\n",
    "    for scorer, score in cv_result.items():\n",
    "        print('%s: %s' % (scorer, score))\n",
    "        print('Average %s: %f' % (scorer, score.mean()))"
   ]
  },
  {
   "cell_type": "code",
   "execution_count": 34,
   "metadata": {
    "scrolled": true
   },
   "outputs": [
    {
     "name": "stderr",
     "output_type": "stream",
     "text": [
      "[Parallel(n_jobs=1)]: Using backend SequentialBackend with 1 concurrent workers.\n"
     ]
    },
    {
     "name": "stdout",
     "output_type": "stream",
     "text": [
      "[CV]  ................................................................\n"
     ]
    },
    {
     "name": "stderr",
     "output_type": "stream",
     "text": [
      "/usr/local/lib/python3.7/site-packages/lightgbm/basic.py:1209: UserWarning: categorical_feature in Dataset is overridden.\n",
      "New categorical_feature is ['carrier', 'city', 'color', 'gender', 'prodName']\n",
      "  'New categorical_feature is {}'.format(sorted(list(categorical_feature))))\n"
     ]
    },
    {
     "name": "stdout",
     "output_type": "stream",
     "text": [
      "[CV] ..................... , accuracy=0.485750021268625, total= 4.0min\n",
      "[CV]  ................................................................\n"
     ]
    },
    {
     "name": "stderr",
     "output_type": "stream",
     "text": [
      "[Parallel(n_jobs=1)]: Done   1 out of   1 | elapsed:  4.6min remaining:    0.0s\n"
     ]
    },
    {
     "name": "stdout",
     "output_type": "stream",
     "text": [
      "[CV] .................... , accuracy=0.4857373134328358, total= 3.5min\n",
      "[CV]  ................................................................\n"
     ]
    },
    {
     "name": "stderr",
     "output_type": "stream",
     "text": [
      "[Parallel(n_jobs=1)]: Done   2 out of   2 | elapsed:  8.7min remaining:    0.0s\n"
     ]
    },
    {
     "name": "stdout",
     "output_type": "stream",
     "text": [
      "[CV] ..................... , accuracy=0.484461917107339, total= 3.4min\n",
      "fit_time: [222.33386493 197.4687469  189.05100322]\n",
      "Average fit_time: 202.951205\n",
      "score_time: [16.71494985 15.12748599 13.94717073]\n",
      "Average score_time: 15.263202\n",
      "test_accuracy: [0.48575002 0.48573731 0.48446192]\n",
      "Average test_accuracy: 0.485316\n",
      "train_accuracy: [0.53195189 0.53182164 0.53244139]\n",
      "Average train_accuracy: 0.532072\n"
     ]
    },
    {
     "name": "stderr",
     "output_type": "stream",
     "text": [
      "[Parallel(n_jobs=1)]: Done   3 out of   3 | elapsed: 12.6min remaining:    0.0s\n",
      "[Parallel(n_jobs=1)]: Done   3 out of   3 | elapsed: 12.6min finished\n"
     ]
    }
   ],
   "source": [
    "clf = lgb.LGBMClassifier(**params)\n",
    "run_cross_validation(clf, train_x, train_y, {'categorical_feature': categorical_features})"
   ]
  },
  {
   "cell_type": "code",
   "execution_count": null,
   "metadata": {},
   "outputs": [],
   "source": [
    "def train(x, y, params={}):\n",
    "    clf = lgb.LGBMClassifier(**params)\n",
    "#     clf.fit(x, y, categorical_feature=categorical_features)\n",
    "    clf.fit(x, y, categorical_feature=categorical_features)\n",
    "    return clf\n"
   ]
  },
  {
   "cell_type": "code",
   "execution_count": null,
   "metadata": {},
   "outputs": [],
   "source": [
    "model = train(train_x, train_y, params)"
   ]
  },
  {
   "cell_type": "code",
   "execution_count": null,
   "metadata": {},
   "outputs": [],
   "source": [
    "pred_y = model.predict(test_x.drop('uid', axis=1))"
   ]
  },
  {
   "cell_type": "code",
   "execution_count": null,
   "metadata": {},
   "outputs": [],
   "source": [
    "result = pd.DataFrame(test_x['uid'])\n",
    "result.columns = ['id']\n",
    "result['label'] = pred_y"
   ]
  },
  {
   "cell_type": "code",
   "execution_count": null,
   "metadata": {},
   "outputs": [],
   "source": [
    "result.to_csv('submission.csv', index=False)"
   ]
  },
  {
   "cell_type": "code",
   "execution_count": null,
   "metadata": {},
   "outputs": [],
   "source": [
    "for i in range(len(train_x.columns)):\n",
    "    print(train_x.columns[i], model.feature_importances_[i])"
   ]
  },
  {
   "cell_type": "code",
   "execution_count": null,
   "metadata": {},
   "outputs": [],
   "source": []
  },
  {
   "cell_type": "code",
   "execution_count": null,
   "metadata": {},
   "outputs": [],
   "source": []
  },
  {
   "cell_type": "code",
   "execution_count": null,
   "metadata": {},
   "outputs": [],
   "source": []
  },
  {
   "cell_type": "code",
   "execution_count": null,
   "metadata": {},
   "outputs": [],
   "source": []
  },
  {
   "cell_type": "code",
   "execution_count": null,
   "metadata": {},
   "outputs": [],
   "source": []
  },
  {
   "cell_type": "code",
   "execution_count": null,
   "metadata": {},
   "outputs": [],
   "source": []
  }
 ],
 "metadata": {
  "kernelspec": {
   "display_name": "Python 3",
   "language": "python",
   "name": "python3"
  },
  "language_info": {
   "codemirror_mode": {
    "name": "ipython",
    "version": 3
   },
   "file_extension": ".py",
   "mimetype": "text/x-python",
   "name": "python",
   "nbconvert_exporter": "python",
   "pygments_lexer": "ipython3",
   "version": "3.7.2"
  }
 },
 "nbformat": 4,
 "nbformat_minor": 2
}
