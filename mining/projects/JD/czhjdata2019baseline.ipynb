{
 "cells": [
  {
   "cell_type": "code",
   "execution_count": 1,
   "metadata": {},
   "outputs": [],
   "source": [
    "import pandas as pd\n",
    "import math\n",
    "import numpy as np\n",
    "import copy\n",
    "import warnings\n",
    "import gc\n",
    "from sklearn import preprocessing\n",
    "warnings.filterwarnings('ignore')\n",
    "from datetime import date, timedelta\n",
    "from sklearn.metrics import roc_auc_score,mean_squared_error\n",
    "# from com_util import *"
   ]
  },
  {
   "cell_type": "code",
   "execution_count": 2,
   "metadata": {},
   "outputs": [],
   "source": [
    "path = 'jdata/'\n",
    "product_info=pd.read_csv(path+\"jdata_product.csv\")\n",
    "user_info=pd.read_csv(path+\"jdata_user.csv\")\n",
    "user_action=pd.read_csv(path+\"jdata_action.csv\")\n",
    "shop_info=pd.read_csv(path+\"jdata_shop.csv\")\n",
    "user_comment=pd.read_csv(path+\"jdata_comment.csv\")"
   ]
  },
  {
   "cell_type": "code",
   "execution_count": 3,
   "metadata": {},
   "outputs": [],
   "source": [
    "user_action['a_date']=user_action['action_time'].apply(lambda x: str(x)[:10])\n",
    "# product_info['a_date']=product_info['']\n",
    "# user_info['a_date']=user_info['']\n",
    "\n",
    "# shop_info['a_date']=shop_info['']\n",
    "# user_comment['a_date']=user_comment['']"
   ]
  },
  {
   "cell_type": "code",
   "execution_count": 4,
   "metadata": {},
   "outputs": [
    {
     "name": "stdout",
     "output_type": "stream",
     "text": [
      "   user_id  sku_id          action_time  module_id  type      a_date\n",
      "0   937922  357022  2018-02-04 08:28:15    8107857     1  2018-02-04\n",
      "1   937922      73  2018-02-04 08:27:07    8107857     1  2018-02-04\n",
      "2   937922   29583  2018-02-04 08:26:31    8107857     1  2018-02-04\n",
      "3   937922  108763  2018-02-04 08:26:10    8107857     1  2018-02-04\n",
      "4  1369473  331139  2018-02-03 21:55:49    3712240     1  2018-02-03\n",
      "   user_id  age  sex            user_reg_tm  user_lv_cd  city_level  province  \\\n",
      "0   381581  NaN  NaN  2018-01-21 21:03:37.0           1         NaN       NaN   \n",
      "1   478401  NaN  NaN    2009-07-17 17:18:07           7         NaN       NaN   \n",
      "2   581131  NaN  NaN    2012-12-10 13:02:25           7         NaN       NaN   \n",
      "3  1154151  NaN  NaN  2014-02-01 16:08:00.0           5         NaN       NaN   \n",
      "4  1603505  NaN  NaN    2012-03-03 15:04:36           5         NaN       NaN   \n",
      "\n",
      "   city  county  \n",
      "0   NaN     NaN  \n",
      "1   NaN     NaN  \n",
      "2   NaN     NaN  \n",
      "3   NaN     NaN  \n",
      "4   NaN     NaN  \n",
      "   vender_id  shop_id  fans_num  vip_num            shop_reg_tm  cate  \\\n",
      "0       3666     5330         0        0                    NaN   NaN   \n",
      "1       7288     1047       762     1017  2014-11-03 10:45:58.0   NaN   \n",
      "2       4674     2265      2294    21925  2014-10-17 18:25:58.0   NaN   \n",
      "3       5217     3200      9527    53231  2014-10-25 09:17:59.0   NaN   \n",
      "4       8057      443       211      336  2014-10-29 10:19:58.0   NaN   \n",
      "\n",
      "   shop_score  \n",
      "0         0.0  \n",
      "1        -1.0  \n",
      "2        -1.0  \n",
      "3        -1.0  \n",
      "4        -1.0  \n",
      "   sku_id  brand  shop_id  cate            market_time\n",
      "0  226519   6302     2399    79  2015-07-02 11:19:04.0\n",
      "1   63114   9167     4216    79  2016-07-08 14:29:12.0\n",
      "2  372345   2748     7125    79  2016-04-07 16:21:40.0\n",
      "3  366931   2698    10252    79  2016-09-11 15:00:22.0\n",
      "4  174979   8368      871    79  2017-12-06 17:56:17.0\n",
      "           dt  sku_id  comments  good_comments  bad_comments\n",
      "0  2018-03-15  340522         1              1             0\n",
      "1  2018-03-18  340522         1              1             0\n",
      "2  2018-04-13  340522         1              1             0\n",
      "3  2018-02-07  340522         1              1             0\n",
      "4  2018-02-23  340522         1              1             0\n",
      "(37214269, 6)\n",
      "(1608707, 9)\n",
      "(10399, 7)\n",
      "(352539, 5)\n",
      "(1774233, 5)\n"
     ]
    }
   ],
   "source": [
    "print(user_action.head())\n",
    "print(user_info.head())\n",
    "print(shop_info.head())\n",
    "print(product_info.head())\n",
    "print(user_comment.head())\n",
    "print(user_action.shape)\n",
    "print(user_info.shape)\n",
    "print(shop_info.shape)\n",
    "print(product_info.shape)\n",
    "print(user_comment.shape)"
   ]
  },
  {
   "cell_type": "code",
   "execution_count": 5,
   "metadata": {},
   "outputs": [
    {
     "data": {
      "text/plain": [
       "7     72420\n",
       "24    24517\n",
       "81    23273\n",
       "75    15876\n",
       "56    13265\n",
       "69    12153\n",
       "70    11703\n",
       "27     9720\n",
       "10     9185\n",
       "77     8114\n",
       "34     7509\n",
       "62     7507\n",
       "73     7137\n",
       "23     6161\n",
       "43     5627\n",
       "12     5621\n",
       "3      5144\n",
       "72     5114\n",
       "67     4930\n",
       "20     4563\n",
       "17     4395\n",
       "63     4270\n",
       "29     3548\n",
       "37     3533\n",
       "49     3381\n",
       "19     3329\n",
       "35     3327\n",
       "55     3002\n",
       "25     2976\n",
       "45     2918\n",
       "      ...  \n",
       "39     1306\n",
       "11     1249\n",
       "52     1168\n",
       "21     1168\n",
       "26     1047\n",
       "8      1014\n",
       "30      855\n",
       "61      794\n",
       "14      786\n",
       "38      782\n",
       "42      576\n",
       "31      552\n",
       "78      548\n",
       "60      515\n",
       "66      483\n",
       "28      468\n",
       "48      449\n",
       "58      402\n",
       "59      373\n",
       "36      349\n",
       "4       315\n",
       "1       283\n",
       "50      200\n",
       "54      179\n",
       "65      136\n",
       "40      111\n",
       "5        57\n",
       "18       42\n",
       "6         8\n",
       "13        1\n",
       "Name: cate, Length: 81, dtype: int64"
      ]
     },
     "execution_count": 5,
     "metadata": {},
     "output_type": "execute_result"
    }
   ],
   "source": [
    "product_info.cate.value_counts()"
   ]
  },
  {
   "cell_type": "code",
   "execution_count": null,
   "metadata": {},
   "outputs": [],
   "source": []
  },
  {
   "cell_type": "markdown",
   "metadata": {},
   "source": [
    "# 二分类的思路baseline"
   ]
  },
  {
   "cell_type": "code",
   "execution_count": 6,
   "metadata": {},
   "outputs": [
    {
     "data": {
      "text/plain": [
       "'\\n正样本的构建：已经购买的记录作为正样本\\n初步想法：负样本的构建，当对一个商品一系列action后,过了两周都没有购买，将此记录记为负样本\\n正常来说应该时间来分析\\n'"
      ]
     },
     "execution_count": 6,
     "metadata": {},
     "output_type": "execute_result"
    }
   ],
   "source": [
    "'''\n",
    "正样本的构建：已经购买的记录作为正样本\n",
    "初步想法：负样本的构建，当对一个商品一系列action后,过了两周都没有购买，将此记录记为负样本\n",
    "正常来说应该时间来分析\n",
    "'''"
   ]
  },
  {
   "cell_type": "code",
   "execution_count": 7,
   "metadata": {},
   "outputs": [
    {
     "data": {
      "text/plain": [
       "(7983755, 6)"
      ]
     },
     "execution_count": 7,
     "metadata": {},
     "output_type": "execute_result"
    }
   ],
   "source": [
    "#已经购买的商品id\n",
    "typebuy = user_action[user_action.type == 2][['user_id','sku_id']]\n",
    "typebuy.shape\n",
    "productbuy = typebuy.merge(user_action,on = ['user_id','sku_id'],how = 'left')\n",
    "productbuy.shape"
   ]
  },
  {
   "cell_type": "code",
   "execution_count": 8,
   "metadata": {},
   "outputs": [
    {
     "ename": "NameError",
     "evalue": "name 'productpotential' is not defined",
     "output_type": "error",
     "traceback": [
      "\u001b[0;31m---------------------------------------------------------------------------\u001b[0m",
      "\u001b[0;31mNameError\u001b[0m                                 Traceback (most recent call last)",
      "\u001b[0;32m<ipython-input-8-f1fca20d7fc0>\u001b[0m in \u001b[0;36m<module>\u001b[0;34m\u001b[0m\n\u001b[1;32m      1\u001b[0m \u001b[0;31m#可能购买的商品id\u001b[0m\u001b[0;34m\u001b[0m\u001b[0;34m\u001b[0m\u001b[0;34m\u001b[0m\u001b[0m\n\u001b[0;32m----> 2\u001b[0;31m \u001b[0mproductpotential\u001b[0m\u001b[0;34m.\u001b[0m\u001b[0mshape\u001b[0m\u001b[0;34m\u001b[0m\u001b[0;34m\u001b[0m\u001b[0m\n\u001b[0m\u001b[1;32m      3\u001b[0m \u001b[0muser_action\u001b[0m\u001b[0;34m.\u001b[0m\u001b[0msku_id\u001b[0m\u001b[0;34m.\u001b[0m\u001b[0misin\u001b[0m\u001b[0;34m(\u001b[0m\u001b[0mtypebuy\u001b[0m\u001b[0;34m.\u001b[0m\u001b[0msku_id\u001b[0m\u001b[0;34m)\u001b[0m\u001b[0;34m\u001b[0m\u001b[0;34m\u001b[0m\u001b[0m\n",
      "\u001b[0;31mNameError\u001b[0m: name 'productpotential' is not defined"
     ]
    }
   ],
   "source": [
    "#可能购买的商品id\n",
    "productpotential.shape\n",
    "user_action.sku_id.isin(typebuy.sku_id)"
   ]
  },
  {
   "cell_type": "code",
   "execution_count": null,
   "metadata": {},
   "outputs": [],
   "source": [
    "tmpbuy = productbuy.iloc[:,:].\\\n",
    "                groupby(['user_id','sku_id']).type.value_counts().unstack().reset_index() #.sort_values(by = 'action_time',ascending=True).\\\n",
    "tmpbuy.columns = ['user_id','sku_id']+['type'+str(i) for i in range(1,6)]\n",
    "tmpbuy.head()"
   ]
  },
  {
   "cell_type": "code",
   "execution_count": null,
   "metadata": {
    "scrolled": true
   },
   "outputs": [],
   "source": [
    "tmppo = user_action.iloc[:,:].\\\n",
    "        groupby(['user_id','sku_id']).type.value_counts().unstack().add_prefix('type').reset_index()#sort_values(by = 'action_time',ascending=True).\\\n",
    "# tmppo.columns = ['user_id','sku_id']+['type'+str(i) for i in range(1,2)]\n",
    "tmppo.fillna(0,inplace=True)"
   ]
  },
  {
   "cell_type": "code",
   "execution_count": null,
   "metadata": {},
   "outputs": [],
   "source": [
    "#已经购买的记录作为正样本\n",
    "possamples = productbuy\n",
    "possamples.shape"
   ]
  },
  {
   "cell_type": "code",
   "execution_count": null,
   "metadata": {},
   "outputs": [],
   "source": [
    "'''\n",
    "未购买的商品记录为潜在商品记录\n",
    "'''\n",
    "skupo = tmppo[tmppo.type2==0]\n",
    "skupo.head()\n",
    "skupo = skupo[['user_id','sku_id']]\n",
    "skupo.shape\n",
    "productpo = skupo.merge(user_action,on = ['user_id','sku_id'],how = 'left')\n",
    "productpo.shape"
   ]
  },
  {
   "cell_type": "code",
   "execution_count": null,
   "metadata": {
    "scrolled": true
   },
   "outputs": [],
   "source": [
    "productpo = productpo.sort_values(by = ['user_id','sku_id'],kind='mergesort')"
   ]
  },
  {
   "cell_type": "code",
   "execution_count": null,
   "metadata": {},
   "outputs": [],
   "source": [
    "'''\n",
    "找出用户对某一商品的最新一次操作的时间\n",
    "#negsamples = 任一其它行为发生在2周前\n",
    "'''\n",
    "latestactiontime = []\n",
    "from tqdm import*\n",
    "\n",
    "for i in tqdm_notebook(range(60)):\n",
    "# for i in range(60):\n",
    "    print(i)\n",
    "    tmp = productpo[['user_id','sku_id','a_date']].iloc[i*500000:(i+1)*500000,:].groupby(['user_id','sku_id']).\\\n",
    "                    apply(lambda x: max(x.a_date)<'2018-04-01').rename('outdate').reset_index()\n",
    "    latestactiontime.append(tmp)\n",
    "tmp = productpo[['user_id','sku_id','a_date']].iloc[30000000:,:].groupby(['user_id','sku_id']).\\\n",
    "                    apply(lambda x: max(x.a_date)<'2018-04-01').rename('outdate').reset_index()\n",
    "latestactiontime = pd.concat(latestactiontime, axis = 0)"
   ]
  },
  {
   "cell_type": "code",
   "execution_count": null,
   "metadata": {},
   "outputs": [],
   "source": [
    "latestactiontime.shape"
   ]
  },
  {
   "cell_type": "code",
   "execution_count": null,
   "metadata": {},
   "outputs": [],
   "source": [
    "tmp = latestactiontime[latestactiontime.outdate]\n",
    "negsamples = tmp.merge(productpo,on = ['user_id','sku_id'],how = 'left')"
   ]
  },
  {
   "cell_type": "code",
   "execution_count": null,
   "metadata": {
    "scrolled": false
   },
   "outputs": [],
   "source": [
    "negsamples.drop(['outdate'],axis = 1,inplace=True)\n",
    "negsamples.head()"
   ]
  },
  {
   "cell_type": "code",
   "execution_count": null,
   "metadata": {},
   "outputs": [],
   "source": [
    "'''\n",
    "潜在商品里取出了负样本，从剩下的记录里构建测试集数据\n",
    "初步思路：从最近一次操作的时间在一周内的记录作为测试集\n",
    "'''\n",
    "tmp = latestactiontime[~latestactiontime.outdate]\n",
    "testsamples = tmp.merge(productpo,on = ['user_id','sku_id'],how = 'left')\n",
    "testsamples.drop(['outdate'],axis = 1,inplace=True)\n",
    "testsamples.shape"
   ]
  },
  {
   "cell_type": "code",
   "execution_count": null,
   "metadata": {},
   "outputs": [],
   "source": [
    "targetday = '2018-04-16'\n",
    "testsamples = testsamples.sort_values(by = ['user_id','sku_id'],kind='mergesort')"
   ]
  },
  {
   "cell_type": "code",
   "execution_count": null,
   "metadata": {},
   "outputs": [],
   "source": [
    "lastweek = testsamples[['user_id','sku_id','a_date']].groupby(['user_id','sku_id']).\\\n",
    "                    apply(lambda x: max(x.a_date)>'2018-04-08').rename('lastweek').reset_index()\n",
    "tmp = lastweek[lastweek.lastweek]\n",
    "testsamples = tmp.merge(testsamples,on = ['user_id','sku_id'],how = 'left')\n",
    "testsamples.drop(['lastweek'],axis = 1,inplace=True)\n",
    "testsamples.shape"
   ]
  },
  {
   "cell_type": "code",
   "execution_count": null,
   "metadata": {},
   "outputs": [],
   "source": []
  },
  {
   "cell_type": "code",
   "execution_count": null,
   "metadata": {},
   "outputs": [],
   "source": []
  },
  {
   "cell_type": "code",
   "execution_count": null,
   "metadata": {},
   "outputs": [],
   "source": []
  },
  {
   "cell_type": "code",
   "execution_count": null,
   "metadata": {},
   "outputs": [],
   "source": []
  },
  {
   "cell_type": "code",
   "execution_count": null,
   "metadata": {},
   "outputs": [],
   "source": []
  },
  {
   "cell_type": "markdown",
   "metadata": {},
   "source": [
    "# data_constuct"
   ]
  },
  {
   "cell_type": "code",
   "execution_count": null,
   "metadata": {},
   "outputs": [],
   "source": [
    "'''\n",
    "训练集构建\n",
    "'''\n",
    "possamples['label'] = 1\n",
    "negsamples['label'] = 0\n",
    "trainraw = pd.concat([possamples,negsamples],axis = 0)"
   ]
  },
  {
   "cell_type": "code",
   "execution_count": null,
   "metadata": {},
   "outputs": [],
   "source": [
    "'''\n",
    "将用户表和商品表连接，各自的信息可以作为初步的特征\n",
    "'''\n",
    "trainraw = trainraw.merge(user_info,on = 'user_id',how = 'left')\n",
    "trainraw = trainraw.merge(product_info,on = 'sku_id',how = 'left')"
   ]
  },
  {
   "cell_type": "code",
   "execution_count": null,
   "metadata": {},
   "outputs": [],
   "source": [
    "'''\n",
    "数据量过大，在连接的时候要做内存优化\n",
    "初步：去掉object类型的列，将数值型的列用‘int’c存放在df中\n",
    "\n",
    "'''\n",
    "cols = [u'action_time', u'module_id','a_date',\n",
    "      u'user_reg_tm', u'market_time']\n",
    "trainraw = trainraw.drop(cols, axis= 1).fillna(0).astype(int)"
   ]
  },
  {
   "cell_type": "code",
   "execution_count": null,
   "metadata": {},
   "outputs": [],
   "source": [
    "trainraw.info()"
   ]
  },
  {
   "cell_type": "code",
   "execution_count": null,
   "metadata": {},
   "outputs": [],
   "source": [
    "trainraw = trainraw.merge(shop_info,on = 'shop_id',how = 'left')\n"
   ]
  },
  {
   "cell_type": "code",
   "execution_count": null,
   "metadata": {},
   "outputs": [],
   "source": [
    "cols = [u'shop_reg_tm', u'shop_id']\n",
    "trainraw = trainraw.drop(cols, axis= 1).fillna(0).astype(int)"
   ]
  },
  {
   "cell_type": "code",
   "execution_count": null,
   "metadata": {},
   "outputs": [],
   "source": [
    "trainraw.head()"
   ]
  },
  {
   "cell_type": "code",
   "execution_count": null,
   "metadata": {},
   "outputs": [],
   "source": [
    "'''\n",
    "数据量过大，在连接的时候要做内存优化\n",
    "初步：去掉object类型的列，将数值型的列用‘int16’c存放在df中\n",
    "\n",
    "'''\n",
    "#内存优化\n",
    "cols = [u'type', u'label', u'age', u'sex', u'user_lv_cd',\n",
    "        u'city_level', u'province', u'city', u'county', u'brand', u'cate_x',\n",
    "        u'cate_y', u'shop_score']\n",
    "trainraw[cols] = trainraw[cols].astype('int16')"
   ]
  },
  {
   "cell_type": "markdown",
   "metadata": {},
   "source": [
    "#对测试集做连接"
   ]
  },
  {
   "cell_type": "code",
   "execution_count": null,
   "metadata": {},
   "outputs": [],
   "source": [
    "testraw = testsamples.copy()"
   ]
  },
  {
   "cell_type": "code",
   "execution_count": null,
   "metadata": {},
   "outputs": [],
   "source": [
    "testraw = testraw.merge(user_info,on = 'user_id',how = 'left')\n",
    "testraw = testraw.merge(product_info,on = 'sku_id',how = 'left')\n",
    "cols = [u'action_time', u'module_id','a_date',\n",
    "      u'user_reg_tm', u'market_time']\n",
    "testraw = testraw.drop(cols, axis= 1).fillna(0).astype(int)"
   ]
  },
  {
   "cell_type": "code",
   "execution_count": null,
   "metadata": {},
   "outputs": [],
   "source": [
    "testraw = testraw.merge(shop_info,on = 'shop_id',how = 'left')"
   ]
  },
  {
   "cell_type": "code",
   "execution_count": null,
   "metadata": {},
   "outputs": [],
   "source": [
    "cols = [u'shop_reg_tm', u'shop_id']\n",
    "testraw = testraw.drop(cols, axis= 1).fillna(0).astype(int)"
   ]
  },
  {
   "cell_type": "code",
   "execution_count": null,
   "metadata": {},
   "outputs": [],
   "source": [
    "'''\n",
    "数据量过大，在连接的时候要做内存优化\n",
    "初步：去掉object类型的列，将数值型的列用‘int16’c存放在df中\n",
    "\n",
    "'''\n",
    "#内存优化\n",
    "cols = [u'type', u'age', u'sex', u'user_lv_cd',\n",
    "        u'city_level', u'province', u'city', u'county', u'brand', u'cate_x',\n",
    "        u'cate_y', u'shop_score']\n",
    "testraw[cols] = testraw[cols].astype('int16')"
   ]
  },
  {
   "cell_type": "code",
   "execution_count": null,
   "metadata": {},
   "outputs": [],
   "source": []
  },
  {
   "cell_type": "markdown",
   "metadata": {},
   "source": [
    "# fea_construct"
   ]
  },
  {
   "cell_type": "code",
   "execution_count": null,
   "metadata": {},
   "outputs": [],
   "source": [
    "'''\n",
    "用户对商品的历史行为记录，可以统计来做特征\n",
    "正常来说，应该结合时间顺序来考虑\n",
    "'''\n",
    "tmp = trainraw.groupby(['user_id','sku_id']).type.value_counts().unstack().add_prefix('type').fillna(0).astype('int16').reset_index()"
   ]
  },
  {
   "cell_type": "code",
   "execution_count": null,
   "metadata": {
    "scrolled": true
   },
   "outputs": [],
   "source": [
    "tmp.fillna(0,inplace=True)\n",
    "traindata = trainraw.drop_duplicates(subset = ['user_id','sku_id'],keep='first')\n",
    "traindata = traindata.sort_values(by = ['user_id','sku_id'],kind='mergesort')\n",
    "tmp = tmp.sort_values(by = ['user_id','sku_id'],kind='mergesort')\n",
    "traindata = traindata.merge(tmp,on = ['user_id','sku_id'],how = 'left')"
   ]
  },
  {
   "cell_type": "code",
   "execution_count": null,
   "metadata": {},
   "outputs": [],
   "source": []
  },
  {
   "cell_type": "code",
   "execution_count": null,
   "metadata": {},
   "outputs": [],
   "source": [
    "tmp = testraw.groupby(['user_id','sku_id']).type.value_counts().unstack().add_prefix('type').fillna(0).astype('int16').reset_index()\n",
    "# tmp.fillna(0,inplace=True)\n",
    "testdata = testraw.drop_duplicates(subset = ['user_id','sku_id'],keep='first')\n",
    "testdata = testdata.sort_values(by = ['user_id','sku_id'],kind='mergesort')\n",
    "tmp = tmp.sort_values(by = ['user_id','sku_id'],kind='mergesort')\n",
    "testdata = testdata.merge(tmp,on = ['user_id','sku_id'],how = 'left')"
   ]
  },
  {
   "cell_type": "code",
   "execution_count": null,
   "metadata": {},
   "outputs": [],
   "source": [
    "print(traindata.info())\n",
    "testdata.info()"
   ]
  },
  {
   "cell_type": "code",
   "execution_count": null,
   "metadata": {},
   "outputs": [],
   "source": [
    "traindata.drop('type2',axis =1,inplace =True)"
   ]
  },
  {
   "cell_type": "code",
   "execution_count": null,
   "metadata": {},
   "outputs": [],
   "source": [
    "X_train = traindata[testdata.columns]\n",
    "X_test = testdata"
   ]
  },
  {
   "cell_type": "code",
   "execution_count": null,
   "metadata": {},
   "outputs": [],
   "source": [
    "Y_train = traindata['label']"
   ]
  },
  {
   "cell_type": "code",
   "execution_count": null,
   "metadata": {},
   "outputs": [],
   "source": [
    "''' 在做二分类的时候，样本不平衡，应当解决，降采样'''\n",
    "#降采样\n",
    "# from imblearn.under_sampling import RandomUnderSampler\n",
    "# rus = RandomUnderSampler(random_state=0, replacement=True)\n",
    "# X_resampled, y_resampled = rus.fit_sample(X_train, Y_train)"
   ]
  },
  {
   "cell_type": "markdown",
   "metadata": {},
   "source": [
    "# models"
   ]
  },
  {
   "cell_type": "code",
   "execution_count": null,
   "metadata": {},
   "outputs": [],
   "source": [
    "'''初步尝试lgb作为分类器'''\n",
    "#lgb\n",
    "\n",
    "#数据集划分时在索引上容易出错，先对数据冲索引\n",
    "X_train = X_train.reset_index().drop('index',axis=1)\n",
    "Y_train = Y_train.reset_index().drop('index',axis=1)\n",
    "print(X_train.shape)"
   ]
  },
  {
   "cell_type": "code",
   "execution_count": null,
   "metadata": {},
   "outputs": [],
   "source": [
    "#数据集划分时在索引上容易出错，先对数据冲索引\n",
    "X,x_no,Y,y_no = train_test_split(X_train,Y_train,train_size = 0.2,random_state = 2019)\n",
    "X = X.reset_index().drop('index',axis=1)\n",
    "Y = Y.reset_index().label"
   ]
  },
  {
   "cell_type": "code",
   "execution_count": null,
   "metadata": {},
   "outputs": [],
   "source": [
    "#官方评价指标\n",
    "def f11(y_true1,y_pred1):\n",
    "    r = recall_score(y_true=y_true1,y_pred=y_pred1)\n",
    "    p = precision_score(y_true=y_true1,y_pred=y_pred1)\n",
    "    return (3*r*p) / (2*r+p)\n",
    "\n",
    "def f12(y_true2,y_pred2):\n",
    "    r = recall_score(y_true=y_true2,y_pred=y_pred2)\n",
    "    p = precision_score(y_true=y_true2,y_pred=y_pred2)\n",
    "    return (5*r*p) / (2*r+3*p)\n",
    "def eval(f11,f12):\n",
    "    return 0.4*f11+0.6*f12"
   ]
  },
  {
   "cell_type": "code",
   "execution_count": null,
   "metadata": {},
   "outputs": [],
   "source": [
    "import lightgbm as lgb\n",
    "import numpy as np\n",
    "from sklearn.model_selection import StratifiedShuffleSplit,KFold,train_test_split\n",
    "from sklearn.metrics import precision_score,recall_score,f1_score,accuracy_score\n",
    "seed = 2019\n",
    "n_splits=5\n",
    "kfold =  StratifiedShuffleSplit(n_splits=5, random_state = seed)\n",
    "prediction = 0\n",
    "'''\n",
    "实际上训练集和验证集应该按时间分开划分\n",
    "'''\n",
    "for idx,(trainindex,testindex) in enumerate(kfold.split(X,Y)):\n",
    "    x_train,x_test,y_train,y_test = X.iloc[trainindex],X.iloc[testindex],Y[trainindex],Y[testindex]\n",
    "    \n",
    "    x_tr = lgb.Dataset(x_train,label=y_train)\n",
    "    x_te = lgb.Dataset(x_test,label=y_test)\n",
    "    params = {\n",
    "        'task': 'train',\n",
    "        'boosting_type': 'gbdt',  # 设置提升类型\n",
    "        'objective': 'binary', # 目标函数\n",
    "        'metric': {'l2', 'auc'},  # 评估函数\n",
    "        'num_leaves': 31,   # 叶子节点数\n",
    "        'learning_rate': 0.05,  # 学习速率\n",
    "        'feature_fraction': 0.9, # 建树的特征选择比例\n",
    "        'bagging_fraction': 0.9, # 建树的样本采样比例\n",
    "        'bagging_freq': 5,  # k 意味着每 k 次迭代执行bagging\n",
    "        'verbose': 1 # <0 显示致命的, =0 显示错误 (警告), >0 显示信息\n",
    "    }\n",
    "\n",
    "    bst = lgb.train(params, x_tr,10,valid_sets = [x_te] ,early_stopping_rounds=10,verbose_eval=20) \n",
    "    pred = bst.predict(x_test)\n",
    "    print(accuracy_score(y_test,pred>0.9))\n",
    "    \n",
    "    #5折平均作为最终的预测概率\n",
    "    prediction += bst.predict(X_test)\n",
    "prediction = prediction / n_splits"
   ]
  },
  {
   "cell_type": "code",
   "execution_count": null,
   "metadata": {},
   "outputs": [],
   "source": [
    "np.sum(prediction>0.5)"
   ]
  },
  {
   "cell_type": "code",
   "execution_count": null,
   "metadata": {},
   "outputs": [],
   "source": [
    "#时序关联分析"
   ]
  },
  {
   "cell_type": "markdown",
   "metadata": {},
   "source": [
    "# postprocessing"
   ]
  },
  {
   "cell_type": "code",
   "execution_count": null,
   "metadata": {},
   "outputs": [],
   "source": [
    "tmp = X_test[prediction>0.5][['user_id','sku_id']]\n",
    "result = tmp.merge(product_info,on = 'sku_id',how = 'left')"
   ]
  },
  {
   "cell_type": "code",
   "execution_count": null,
   "metadata": {},
   "outputs": [],
   "source": [
    "result = result.drop(['brand','sku_id','market_time'],axis = 1)"
   ]
  },
  {
   "cell_type": "code",
   "execution_count": null,
   "metadata": {
    "scrolled": true
   },
   "outputs": [],
   "source": [
    "result = result.drop_duplicates().dropna().astype(int)\n",
    "result.head()"
   ]
  },
  {
   "cell_type": "markdown",
   "metadata": {},
   "source": [
    "# submission"
   ]
  },
  {
   "cell_type": "code",
   "execution_count": null,
   "metadata": {},
   "outputs": [],
   "source": [
    "result = result[['user_id','cate','shop_id']]\n",
    "result.to_csv('../output/result'+ str(datetime.now().date())+'.csv',index = False,)"
   ]
  },
  {
   "cell_type": "markdown",
   "metadata": {},
   "source": [
    "# 其他分析"
   ]
  },
  {
   "cell_type": "markdown",
   "metadata": {},
   "source": [
    "# shop prediction"
   ]
  },
  {
   "cell_type": "code",
   "execution_count": null,
   "metadata": {},
   "outputs": [],
   "source": [
    "samples = user_action[user_action['a_date']<='2018-4-15'].merge(product_info,on = 'sku_id',how = 'left')\n"
   ]
  },
  {
   "cell_type": "code",
   "execution_count": null,
   "metadata": {},
   "outputs": [],
   "source": [
    "import time\n",
    "import datetime\n",
    "date_wins = [\n",
    "#              ('2018-04-09','2018-04-15'),\n",
    "#              ('2018-04-02','2018-04-08'),\n",
    "#              ('2018-03-26','2018-04-01'),\n",
    "#              ('2018-03-19','2018-03-25'),\n",
    "#              ('2018-03-12','2018-03-18'),\n",
    "#              ('2018-03-05','2018-03-11'),\n",
    "#              ('2018-02-28','2018-03-04'),\n",
    "#              ('2018-02-21','2018-02-27'),\n",
    "#              ('2018-02-14','2018-02-20'),\n",
    "#              ('2018-02-07','2018-02-13'),\n",
    "#              ('2018-02-01','2018-02-06')\n",
    "            ]\n",
    "for date in date_wins:\n",
    "    start = datetime.datetime.now()\n",
    "    print('counting...'+date[0] + ' to '+ date[1])\n",
    "    tmp = samples[(samples['a_date']>=date[0])&(samples['a_date']<=date[1])].head(500000).groupby('user_id').shop_id.value_counts().unstack()\n",
    "    tmp.columns = ['shop'+str(int(i)) for i in tmp.columns]\n",
    "    tmp.fillna(0,inplace=True)\n",
    "    print('saving...'+date[0] + ' to ' + date[1])\n",
    "    print(tmp.shape)\n",
    "    tmp.to_csv('../data/user_shopmatrix'+date[0]+'.csv',index=False) \n",
    "    end = datetime.datetime.now()\n",
    "    print(end-start)\n",
    "# actionmatrix = samples.iloc[:3000000,:].groupby('user_id').shop_id.value_counts().unstack()"
   ]
  },
  {
   "cell_type": "code",
   "execution_count": null,
   "metadata": {},
   "outputs": [],
   "source": [
    "import time\n",
    "import datetime\n",
    "date_wins = [\n",
    "             ('2018-04-09','2018-04-15'),\n",
    "             ('2018-04-02','2018-04-08'),\n",
    "             ('2018-03-26','2018-04-01'),\n",
    "             ('2018-03-19','2018-03-25'),\n",
    "             ('2018-03-12','2018-03-18'),\n",
    "             ('2018-03-05','2018-03-11'),\n",
    "             ('2018-02-28','2018-03-04'),\n",
    "             ('2018-02-21','2018-02-27'),\n",
    "             ('2018-02-14','2018-02-20'),\n",
    "             ('2018-02-07','2018-02-13'),\n",
    "             ('2018-02-01','2018-02-06')\n",
    "            ]\n",
    "for date in date_wins:\n",
    "    start = datetime.datetime.now()\n",
    "    print('counting...'+date[0] + ' to '+ date[1])\n",
    "    tmp = samples[(samples['a_date']>=date[0])&(samples['a_date']<=date[1])].head(500000).groupby('user_id').cate.value_counts().unstack()\n",
    "    tmp.columns = ['shop'+str(int(i)) for i in tmp.columns]\n",
    "    tmp.fillna(0,inplace=True)\n",
    "    print('saving...'+date[0] + ' to ' + date[1])\n",
    "    print(tmp.shape)\n",
    "    tmp.to_csv('../data/user_catematrix'+date[0]+'.csv',index=False) \n",
    "    end = datetime.datetime.now()\n",
    "    print(end-start)\n",
    "# actionmatrix = samples.iloc[:3000000,:].groupby('user_id').shop_id.value_counts().unstack()"
   ]
  },
  {
   "cell_type": "code",
   "execution_count": null,
   "metadata": {},
   "outputs": [],
   "source": [
    "del tmp"
   ]
  },
  {
   "cell_type": "code",
   "execution_count": null,
   "metadata": {},
   "outputs": [],
   "source": [
    "actionmatrix = pd.read_csv('../data/user_catematrix2018-04-09.csv')"
   ]
  },
  {
   "cell_type": "code",
   "execution_count": null,
   "metadata": {},
   "outputs": [],
   "source": []
  },
  {
   "cell_type": "code",
   "execution_count": null,
   "metadata": {},
   "outputs": [],
   "source": []
  },
  {
   "cell_type": "code",
   "execution_count": null,
   "metadata": {},
   "outputs": [],
   "source": []
  },
  {
   "cell_type": "code",
   "execution_count": null,
   "metadata": {},
   "outputs": [],
   "source": []
  },
  {
   "cell_type": "code",
   "execution_count": null,
   "metadata": {},
   "outputs": [],
   "source": []
  },
  {
   "cell_type": "markdown",
   "metadata": {},
   "source": [
    "# 马尔可夫链/CRF解决时序问题"
   ]
  },
  {
   "cell_type": "code",
   "execution_count": null,
   "metadata": {
    "scrolled": true
   },
   "outputs": [],
   "source": [
    "catelabel=label.iloc[:,:].groupby(['user_id','a_date'])[\"cate\"].unique().reset_index()"
   ]
  },
  {
   "cell_type": "code",
   "execution_count": null,
   "metadata": {},
   "outputs": [],
   "source": [
    "tmp[:5]"
   ]
  },
  {
   "cell_type": "code",
   "execution_count": null,
   "metadata": {
    "scrolled": false
   },
   "outputs": [],
   "source": [
    "catelabel.head()"
   ]
  },
  {
   "cell_type": "code",
   "execution_count": null,
   "metadata": {},
   "outputs": [],
   "source": [
    "train.head()"
   ]
  },
  {
   "cell_type": "code",
   "execution_count": null,
   "metadata": {},
   "outputs": [],
   "source": [
    "train_sample_list"
   ]
  }
 ],
 "metadata": {
  "kernelspec": {
   "display_name": "Python 3",
   "language": "python",
   "name": "python3"
  },
  "language_info": {
   "codemirror_mode": {
    "name": "ipython",
    "version": 3
   },
   "file_extension": ".py",
   "mimetype": "text/x-python",
   "name": "python",
   "nbconvert_exporter": "python",
   "pygments_lexer": "ipython3",
   "version": "3.7.2"
  }
 },
 "nbformat": 4,
 "nbformat_minor": 2
}
