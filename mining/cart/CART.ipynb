{
 "cells": [
  {
   "cell_type": "code",
   "execution_count": 1,
   "metadata": {},
   "outputs": [
    {
     "name": "stdout",
     "output_type": "stream",
     "text": [
      "importing numpy on engine(s)\n"
     ]
    }
   ],
   "source": [
    "import os\n",
    "import ipyparallel as ipp\n",
    "\n",
    "rc = ipp.Client()\n",
    "r = rc[:]\n",
    "with rc[:].sync_imports():\n",
    "    import numpy as np"
   ]
  },
  {
   "cell_type": "code",
   "execution_count": 2,
   "metadata": {},
   "outputs": [],
   "source": [
    "def entropy(labels):\n",
    "    labels_arr = labels.reshape(-1)\n",
    "    classes = np.unique(labels_arr)\n",
    "    n_class = len(classes)\n",
    "    gain = 0\n",
    "    for cl in classes:\n",
    "        cl_items = (labels_arr == cl).sum()\n",
    "        proportion = cl_items / len(labels_arr)\n",
    "        gain += proportion * np.log2(proportion)\n",
    "    return -gain\n",
    "\n",
    "def gini(labels):\n",
    "    labels_arr = labels.reshape(-1)\n",
    "    classes = np.unique(labels_arr)\n",
    "    n_class = len(classes)\n",
    "    gain = 0\n",
    "    for cl in classes:\n",
    "        cl_items = (labels_arr == cl).sum()\n",
    "        proportion = cl_items / len(labels_arr)\n",
    "        gain += proportion * proportion\n",
    "    return 1 - gain\n",
    "\n",
    "def mse(A, B):\n",
    "    Aarr = A.reshape(-1, 1)\n",
    "    Barr = B.reshape(-1, 1)\n",
    "    return ((Aarr - Barr)**2).mean()\n",
    "\n",
    "def variance(labels):\n",
    "    labels_arr = labels.reshape(-1)\n",
    "    return ((labels_arr - np.mean(labels_arr)) ** 2).sum() / len(labels_arr)"
   ]
  },
  {
   "cell_type": "code",
   "execution_count": 5,
   "metadata": {},
   "outputs": [
    {
     "data": {
      "text/plain": [
       "0.25"
      ]
     },
     "execution_count": 5,
     "metadata": {},
     "output_type": "execute_result"
    }
   ],
   "source": [
    "variance(np.array([0,1,0,1]))"
   ]
  },
  {
   "cell_type": "code",
   "execution_count": 47,
   "metadata": {},
   "outputs": [],
   "source": [
    "class Node:\n",
    "    def __init__(self, feat, thresh, impurity, samples, weighted_samples):\n",
    "        self.left = None\n",
    "        self.right = None\n",
    "        self.feature_col = feat\n",
    "        self.threshold = thresh\n",
    "        self.impurity = impurity\n",
    "        self.n_samples = samples\n",
    "        self.weighted_samples = weighted_samples\n",
    "        \n",
    "class tree:\n",
    "    def __init__(self):\n",
    "        self.root = None\n",
    "        self.nodes = []\n",
    "        "
   ]
  },
  {
   "cell_type": "code",
   "execution_count": 40,
   "metadata": {},
   "outputs": [
    {
     "data": {
      "text/plain": [
       "0.0"
      ]
     },
     "execution_count": 40,
     "metadata": {},
     "output_type": "execute_result"
    }
   ],
   "source": [
    "def Splitter:\n",
    "    def __init__(self, root):\n",
    "        self.root = root\n",
    "        \n",
    "    def split(self, samples):\n",
    "        features = samples.shape[1]\n",
    "        "
   ]
  },
  {
   "cell_type": "code",
   "execution_count": null,
   "metadata": {},
   "outputs": [],
   "source": []
  },
  {
   "cell_type": "code",
   "execution_count": null,
   "metadata": {},
   "outputs": [],
   "source": [
    "class CART:\n",
    "    def __init__(self):\n",
    "        \n",
    "        \n",
    "    def fit(self, X):\n",
    "        \n",
    "    def train(self, X, y):"
   ]
  },
  {
   "cell_type": "code",
   "execution_count": null,
   "metadata": {},
   "outputs": [],
   "source": []
  },
  {
   "cell_type": "code",
   "execution_count": 25,
   "metadata": {},
   "outputs": [],
   "source": []
  },
  {
   "cell_type": "code",
   "execution_count": 41,
   "metadata": {},
   "outputs": [],
   "source": [
    "import sklearn.model_selection\n",
    "def cv(x, y, classifier, params={}, splits=5):\n",
    "    clf = classifier(params)\n",
    "    kfold = sklearn.model_selection.StratifiedKFold(splits, shuffle=True)\n",
    "    cv_score = sklearn.model_selection.cross_validate(clf, x, y, cv=kfold, scoring={\n",
    "        'accuracy': 'accuracy',\n",
    "        'f1': 'f1_micro',\n",
    "        'roc_auc': 'roc_auc'\n",
    "    }, return_train_score=True)\n",
    "    return cv_score"
   ]
  },
  {
   "cell_type": "code",
   "execution_count": null,
   "metadata": {},
   "outputs": [],
   "source": []
  }
 ],
 "metadata": {
  "kernelspec": {
   "display_name": "Python 3",
   "language": "python",
   "name": "python3"
  },
  "language_info": {
   "codemirror_mode": {
    "name": "ipython",
    "version": 3
   },
   "file_extension": ".py",
   "mimetype": "text/x-python",
   "name": "python",
   "nbconvert_exporter": "python",
   "pygments_lexer": "ipython3",
   "version": "3.7.2"
  }
 },
 "nbformat": 4,
 "nbformat_minor": 2
}
