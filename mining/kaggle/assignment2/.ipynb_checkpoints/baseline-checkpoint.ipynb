{
 "cells": [
  {
   "cell_type": "code",
   "execution_count": 1,
   "metadata": {},
   "outputs": [
    {
     "name": "stderr",
     "output_type": "stream",
     "text": [
      "/usr/local/lib/python3.7/site-packages/lightgbm/__init__.py:46: UserWarning: Starting from version 2.2.1, the library file in distribution wheels for macOS is built by the Apple Clang (Xcode_8.3.3) compiler.\n",
      "This means that in case of installing LightGBM from PyPI via the ``pip install lightgbm`` command, you don't need to install the gcc compiler anymore.\n",
      "Instead of that, you need to install the OpenMP library, which is required for running LightGBM on the system with the Apple Clang compiler.\n",
      "You can install the OpenMP library by the following command: ``brew install libomp``.\n",
      "  \"You can install the OpenMP library by the following command: ``brew install libomp``.\", UserWarning)\n",
      "/usr/local/lib/python3.7/site-packages/tqdm/autonotebook/__init__.py:14: TqdmExperimentalWarning: Using `tqdm.autonotebook.tqdm` in notebook mode. Use `tqdm.tqdm` instead to force console mode (e.g. in jupyter console)\n",
      "  \" (e.g. in jupyter console)\", TqdmExperimentalWarning)\n"
     ]
    }
   ],
   "source": [
    "import sklearn\n",
    "import lightgbm as lgb\n",
    "import pandas as pd \n",
    "from tqdm.autonotebook import tqdm\n",
    "import numpy as np\n",
    "import gc\n",
    "data_dir = './data/'"
   ]
  },
  {
   "cell_type": "code",
   "execution_count": 2,
   "metadata": {},
   "outputs": [
    {
     "data": {
      "application/vnd.jupyter.widget-view+json": {
       "model_id": "dc540bdb55634a0f8e5bd42442f22ed5",
       "version_major": 2,
       "version_minor": 0
      },
      "text/plain": [
       "HBox(children=(IntProgress(value=0, max=5), HTML(value='')))"
      ]
     },
     "metadata": {},
     "output_type": "display_data"
    },
    {
     "name": "stdout",
     "output_type": "stream",
     "text": [
      "\n"
     ]
    }
   ],
   "source": [
    "labels = pd.DataFrame()\n",
    "trains = pd.DataFrame()\n",
    "tests = pd.DataFrame()\n",
    "gc.collect()\n",
    "for i in tqdm(range(1, 6)):\n",
    "    trains = trains.append(pd.read_csv(data_dir+'train%d.csv'%i, header=None))\n",
    "    labels = labels.append(pd.read_csv(data_dir+'label%d.csv'%i, header=None))\n",
    "    tests = tests.append(pd.read_csv(data_dir+'test%i.csv'%i, header=None))\n",
    "tests = tests.append(pd.read_csv(data_dir+'test6.csv', header=None))"
   ]
  },
  {
   "cell_type": "code",
   "execution_count": null,
   "metadata": {},
   "outputs": [],
   "source": []
  },
  {
   "cell_type": "code",
   "execution_count": 3,
   "metadata": {},
   "outputs": [],
   "source": [
    "import sklearn.model_selection\n",
    "def cv(x, y, model, params={}, splits=5):\n",
    "    clf = model(**params)\n",
    "    kfold = sklearn.model_selection.KFold(splits, shuffle=True)\n",
    "    cv_score = sklearn.model_selection.cross_validate(clf, x, y, cv=kfold, scoring={\n",
    "        'mse': 'neg_mean_squared_error',\n",
    "        'r2': 'r2'\n",
    "    }, return_train_score=True)\n",
    "    return cv_score"
   ]
  },
  {
   "cell_type": "code",
   "execution_count": null,
   "metadata": {},
   "outputs": [],
   "source": []
  },
  {
   "cell_type": "code",
   "execution_count": 4,
   "metadata": {},
   "outputs": [],
   "source": [
    "def run_cross_validation(x, y, model, params={}):\n",
    "    cv_result = cv(x, y, model, params=params, splits=3)\n",
    "    for scorer, score in cv_result.items():\n",
    "        print('%s: %s' % (scorer, score))\n",
    "        print('Average %s: %f' % (scorer, score.mean()))"
   ]
  },
  {
   "cell_type": "code",
   "execution_count": null,
   "metadata": {},
   "outputs": [],
   "source": [
    "params = {\n",
    "        'boosting_type': 'gbdt',\n",
    "    \n",
    "        'n_estimators': 2000,\n",
    "        \"num_leaves\": 120,\n",
    "        \"subsample_for_bin\": 100000,\n",
    "        'max_bin': 1500,\n",
    "    \n",
    "        'feature_fraction': 0.4,\n",
    "        'bagging_fraction': 0.7,\n",
    "        'bagging_freq': 5,\n",
    "        'reg_alpha': 4,\n",
    "        'reg_lambda': 8,\n",
    "    \n",
    "        \n",
    "        \"max_depth\": -1,\n",
    "        'min_child_samples': 100,\n",
    "        'learning_rate': 0.05,\n",
    "        'n_jobs': -1,\n",
    "}"
   ]
  },
  {
   "cell_type": "code",
   "execution_count": null,
   "metadata": {},
   "outputs": [],
   "source": [
    "run_cross_validation(trains, labels, lgb.LGBMRegressor, params)"
   ]
  },
  {
   "cell_type": "code",
   "execution_count": 9,
   "metadata": {},
   "outputs": [],
   "source": [
    "model = lgb.LGBMRegressor()\n",
    "model.fit(trains, labels)\n",
    "result = model.predict(tests)"
   ]
  },
  {
   "cell_type": "code",
   "execution_count": 10,
   "metadata": {},
   "outputs": [],
   "source": [
    "res_frame = pd.DataFrame()\n",
    "res_frame[\"Id\"] = [e for e in range(1, tests.shape[0]+1)]"
   ]
  },
  {
   "cell_type": "code",
   "execution_count": 11,
   "metadata": {},
   "outputs": [],
   "source": [
    "res_frame[\"Predicted\"] = result\n",
    "res_frame.to_csv(\"lgb.csv\", index=False)"
   ]
  },
  {
   "cell_type": "code",
   "execution_count": null,
   "metadata": {},
   "outputs": [],
   "source": []
  }
 ],
 "metadata": {
  "kernelspec": {
   "display_name": "Python 3",
   "language": "python",
   "name": "python3"
  },
  "language_info": {
   "codemirror_mode": {
    "name": "ipython",
    "version": 3
   },
   "file_extension": ".py",
   "mimetype": "text/x-python",
   "name": "python",
   "nbconvert_exporter": "python",
   "pygments_lexer": "ipython3",
   "version": "3.7.2"
  }
 },
 "nbformat": 4,
 "nbformat_minor": 2
}
