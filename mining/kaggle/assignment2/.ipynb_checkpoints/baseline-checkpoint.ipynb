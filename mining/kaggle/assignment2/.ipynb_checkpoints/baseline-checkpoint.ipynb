{
 "cells": [
  {
   "cell_type": "code",
   "execution_count": 14,
   "metadata": {},
   "outputs": [],
   "source": [
    "import sklearn\n",
    "import lightgbm as lgb\n",
    "import pandas as pd \n",
    "from tqdm.autonotebook import tqdm\n",
    "import numpy as np\n",
    "import gc\n",
    "data_dir = './data/'"
   ]
  },
  {
   "cell_type": "code",
   "execution_count": 22,
   "metadata": {},
   "outputs": [
    {
     "data": {
      "application/vnd.jupyter.widget-view+json": {
       "model_id": "0525e50e533c4431a4c0d7bde3af8345",
       "version_major": 2,
       "version_minor": 0
      },
      "text/plain": [
       "HBox(children=(IntProgress(value=0, max=5), HTML(value='')))"
      ]
     },
     "metadata": {},
     "output_type": "display_data"
    },
    {
     "name": "stdout",
     "output_type": "stream",
     "text": [
      "\n"
     ]
    }
   ],
   "source": [
    "labels = []\n",
    "trains = []\n",
    "tests = []\n",
    "gc.collect()\n",
    "for i in tqdm(range(1, 6)):\n",
    "    trains.append(pd.read_csv(data_dir+'train%d.csv'%i, header=None))\n",
    "    labels.append(pd.read_csv(data_dir+'label%d.csv'%i, header=None))\n",
    "    tests.append(pd.read_csv(data_dir+'test%i.csv'%i, header=None))"
   ]
  },
  {
   "cell_type": "code",
   "execution_count": null,
   "metadata": {},
   "outputs": [],
   "source": []
  },
  {
   "cell_type": "code",
   "execution_count": 28,
   "metadata": {},
   "outputs": [],
   "source": [
    "import sklearn.model_selection\n",
    "def cv(x, y, model, params={}, splits=5):\n",
    "    clf = model(**params)\n",
    "    kfold = sklearn.model_selection.KFold(splits, shuffle=True)\n",
    "    cv_score = sklearn.model_selection.cross_validate(clf, x, y, cv=kfold, scoring={\n",
    "        'mse': 'neg_mean_squared_error',\n",
    "        'r2': 'r2'\n",
    "    }, return_train_score=True)\n",
    "    return cv_score"
   ]
  },
  {
   "cell_type": "code",
   "execution_count": null,
   "metadata": {},
   "outputs": [],
   "source": []
  },
  {
   "cell_type": "code",
   "execution_count": 32,
   "metadata": {},
   "outputs": [],
   "source": [
    "def run_cross_validation(x, y, model, params={}):\n",
    "    cv_result = cv(x, y, model, params=params, splits=5)\n",
    "    for scorer, score in cv_result.items():\n",
    "        print('%s: %s' % (scorer, score))\n",
    "        print('Average %s: %f' % (scorer, score.mean()))"
   ]
  },
  {
   "cell_type": "code",
   "execution_count": 33,
   "metadata": {},
   "outputs": [
    {
     "name": "stdout",
     "output_type": "stream",
     "text": [
      "fit_time: [6.31895876 5.35991907 6.00495601 5.97954011 5.52671003]\n",
      "Average fit_time: 5.838017\n",
      "score_time: [0.87817526 0.8179841  1.09421206 1.03709197 0.9368782 ]\n",
      "Average score_time: 0.952868\n",
      "test_mse: [-0.34445751 -0.35132641 -0.34438373 -0.34332565 -0.34654097]\n",
      "Average test_mse: -0.346007\n",
      "train_mse: [-0.3416227  -0.33990703 -0.34183058 -0.3418772  -0.34095872]\n",
      "Average train_mse: -0.341239\n",
      "test_r2: [0.15003845 0.15008568 0.14831233 0.15232556 0.1504275 ]\n",
      "Average test_r2: 0.150238\n",
      "train_r2: [0.1619924  0.16203763 0.16195044 0.1614936  0.1622672 ]\n",
      "Average train_r2: 0.161948\n"
     ]
    }
   ],
   "source": [
    "run_cross_validation(trains[0], labels[0], lgb.LGBMRegressor)"
   ]
  },
  {
   "cell_type": "code",
   "execution_count": null,
   "metadata": {},
   "outputs": [],
   "source": []
  },
  {
   "cell_type": "code",
   "execution_count": null,
   "metadata": {},
   "outputs": [],
   "source": []
  }
 ],
 "metadata": {
  "kernelspec": {
   "display_name": "Python 3",
   "language": "python",
   "name": "python3"
  },
  "language_info": {
   "codemirror_mode": {
    "name": "ipython",
    "version": 3
   },
   "file_extension": ".py",
   "mimetype": "text/x-python",
   "name": "python",
   "nbconvert_exporter": "python",
   "pygments_lexer": "ipython3",
   "version": "3.7.2"
  }
 },
 "nbformat": 4,
 "nbformat_minor": 2
}
