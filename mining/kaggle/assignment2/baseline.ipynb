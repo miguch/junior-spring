{
 "cells": [
  {
   "cell_type": "code",
   "execution_count": 1,
   "metadata": {},
   "outputs": [
    {
     "name": "stderr",
     "output_type": "stream",
     "text": [
      "/usr/local/lib/python3.7/site-packages/lightgbm/__init__.py:46: UserWarning: Starting from version 2.2.1, the library file in distribution wheels for macOS is built by the Apple Clang (Xcode_8.3.3) compiler.\n",
      "This means that in case of installing LightGBM from PyPI via the ``pip install lightgbm`` command, you don't need to install the gcc compiler anymore.\n",
      "Instead of that, you need to install the OpenMP library, which is required for running LightGBM on the system with the Apple Clang compiler.\n",
      "You can install the OpenMP library by the following command: ``brew install libomp``.\n",
      "  \"You can install the OpenMP library by the following command: ``brew install libomp``.\", UserWarning)\n",
      "/usr/local/lib/python3.7/site-packages/tqdm/autonotebook/__init__.py:14: TqdmExperimentalWarning: Using `tqdm.autonotebook.tqdm` in notebook mode. Use `tqdm.tqdm` instead to force console mode (e.g. in jupyter console)\n",
      "  \" (e.g. in jupyter console)\", TqdmExperimentalWarning)\n"
     ]
    }
   ],
   "source": [
    "import sklearn\n",
    "import lightgbm as lgb\n",
    "import pandas as pd \n",
    "from tqdm.autonotebook import tqdm\n",
    "import numpy as np\n",
    "import gc\n",
    "data_dir = './data/'"
   ]
  },
  {
   "cell_type": "code",
   "execution_count": 2,
   "metadata": {},
   "outputs": [
    {
     "data": {
      "application/vnd.jupyter.widget-view+json": {
       "model_id": "d52d322926e947f8a55fde3d6c3f4417",
       "version_major": 2,
       "version_minor": 0
      },
      "text/plain": [
       "HBox(children=(IntProgress(value=0, max=5), HTML(value='')))"
      ]
     },
     "metadata": {},
     "output_type": "display_data"
    },
    {
     "name": "stdout",
     "output_type": "stream",
     "text": [
      "\n"
     ]
    }
   ],
   "source": [
    "labels = pd.DataFrame()\n",
    "trains = pd.DataFrame()\n",
    "tests = pd.DataFrame()\n",
    "gc.collect()\n",
    "for i in tqdm(range(1, 6)):\n",
    "    trains = trains.append(pd.read_csv(data_dir+'train%d.csv'%i, header=None))\n",
    "    labels = labels.append(pd.read_csv(data_dir+'label%d.csv'%i, header=None))\n",
    "    tests = tests.append(pd.read_csv(data_dir+'test%i.csv'%i, header=None))\n",
    "tests = tests.append(pd.read_csv(data_dir+'test6.csv', header=None))"
   ]
  },
  {
   "cell_type": "code",
   "execution_count": null,
   "metadata": {},
   "outputs": [],
   "source": []
  },
  {
   "cell_type": "code",
   "execution_count": 3,
   "metadata": {},
   "outputs": [],
   "source": [
    "import sklearn.model_selection\n",
    "def cv(x, y, model, params={}, splits=5):\n",
    "    clf = model(**params)\n",
    "    kfold = sklearn.model_selection.KFold(splits, shuffle=True)\n",
    "    cv_score = sklearn.model_selection.cross_validate(clf, x, y, cv=kfold, scoring={\n",
    "        'mse': 'neg_mean_squared_error',\n",
    "        'r2': 'r2'\n",
    "    }, return_train_score=True)\n",
    "    return cv_score"
   ]
  },
  {
   "cell_type": "code",
   "execution_count": null,
   "metadata": {},
   "outputs": [],
   "source": []
  },
  {
   "cell_type": "code",
   "execution_count": 4,
   "metadata": {},
   "outputs": [],
   "source": [
    "def run_cross_validation(x, y, model, params={}):\n",
    "    cv_result = cv(x, y, model, params=params, splits=5)\n",
    "    for scorer, score in cv_result.items():\n",
    "        print('%s: %s' % (scorer, score))\n",
    "        print('Average %s: %f' % (scorer, score.mean()))"
   ]
  },
  {
   "cell_type": "code",
   "execution_count": 5,
   "metadata": {},
   "outputs": [],
   "source": [
    "params = {\n",
    "#         'boosting_type': 'gbdt',\n",
    "#         \"num_leaves\": 200,\n",
    "#         \"max_depth\": -1,\n",
    "#         \"learning_rate\": 0.1,\n",
    "#         'min_child_samples': 100,\n",
    "#         'n_estimators': 200,\n",
    "#         'learning_rate': 0.05,\n",
    "#         'boost_from_average': True,\n",
    "#         'min_child_weight': 1e-3,\n",
    "#         \"subsample_for_bin\": 20000,\n",
    "#         'max_bin': 512,\n",
    "#         'reg_alpha': 3,\n",
    "#         'reg_lambda': 5,\n",
    "#         'subsample': 0.9,\n",
    "#         'colsample_bytree':0.7, \n",
    "#         'subsample_freq': 1,\n",
    "#         'n_jobs': -1,\n",
    "}"
   ]
  },
  {
   "cell_type": "code",
   "execution_count": 6,
   "metadata": {},
   "outputs": [
    {
     "name": "stdout",
     "output_type": "stream",
     "text": [
      "fit_time: [ 30.77630401  27.62138534 161.10954428  25.75708294  25.99972391]\n",
      "Average fit_time: 54.252808\n",
      "score_time: [5.21686196 4.5267868  4.49338889 4.8902638  4.75400782]\n",
      "Average score_time: 4.776262\n",
      "test_mse: [-0.33999266 -0.33278701 -0.33501415 -0.33678097 -0.33627152]\n",
      "Average test_mse: -0.336169\n",
      "train_mse: [-0.33380626 -0.3358412  -0.33500716 -0.33485157 -0.33461279]\n",
      "Average train_mse: -0.334824\n",
      "test_r2: [0.15380684 0.15673228 0.15432648 0.15521003 0.15490938]\n",
      "Average test_r2: 0.154997\n",
      "train_r2: [0.1588387  0.15750627 0.15880141 0.15786735 0.15886183]\n",
      "Average train_r2: 0.158375\n"
     ]
    }
   ],
   "source": [
    "run_cross_validation(trains, labels, lgb.LGBMRegressor, params)"
   ]
  },
  {
   "cell_type": "code",
   "execution_count": null,
   "metadata": {},
   "outputs": [],
   "source": []
  },
  {
   "cell_type": "code",
   "execution_count": null,
   "metadata": {},
   "outputs": [],
   "source": []
  },
  {
   "cell_type": "code",
   "execution_count": null,
   "metadata": {},
   "outputs": [],
   "source": []
  }
 ],
 "metadata": {
  "kernelspec": {
   "display_name": "Python 3",
   "language": "python",
   "name": "python3"
  },
  "language_info": {
   "codemirror_mode": {
    "name": "ipython",
    "version": 3
   },
   "file_extension": ".py",
   "mimetype": "text/x-python",
   "name": "python",
   "nbconvert_exporter": "python",
   "pygments_lexer": "ipython3",
   "version": "3.7.2"
  }
 },
 "nbformat": 4,
 "nbformat_minor": 2
}
