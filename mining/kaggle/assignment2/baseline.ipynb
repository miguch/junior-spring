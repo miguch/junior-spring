{
 "cells": [
  {
   "cell_type": "code",
   "execution_count": 3,
   "metadata": {},
   "outputs": [],
   "source": [
    "import sklearn\n",
    "import lightgbm as lgb\n",
    "import pandas as pd \n",
    "from tqdm.autonotebook import tqdm\n",
    "import numpy as np\n",
    "import gc\n",
    "data_dir = './data/'"
   ]
  },
  {
   "cell_type": "code",
   "execution_count": 4,
   "metadata": {},
   "outputs": [
    {
     "data": {
      "application/vnd.jupyter.widget-view+json": {
       "model_id": "68bd5b4923244a45a1b7511950cfe8ad",
       "version_major": 2,
       "version_minor": 0
      },
      "text/plain": [
       "HBox(children=(IntProgress(value=0, max=5), HTML(value='')))"
      ]
     },
     "metadata": {},
     "output_type": "display_data"
    },
    {
     "name": "stdout",
     "output_type": "stream",
     "text": [
      "\n"
     ]
    }
   ],
   "source": [
    "labels = pd.DataFrame()\n",
    "trains = pd.DataFrame()\n",
    "tests = pd.DataFrame()\n",
    "gc.collect()\n",
    "for i in tqdm(range(1, 6)):\n",
    "    trains = trains.append(pd.read_csv(data_dir+'train%d.csv'%i, header=None))\n",
    "    labels = labels.append(pd.read_csv(data_dir+'label%d.csv'%i, header=None))\n",
    "    tests = tests.append(pd.read_csv(data_dir+'test%i.csv'%i, header=None))\n",
    "tests = tests.append(pd.read_csv(data_dir+'test6.csv', header=None))"
   ]
  },
  {
   "cell_type": "code",
   "execution_count": null,
   "metadata": {},
   "outputs": [],
   "source": []
  },
  {
   "cell_type": "code",
   "execution_count": 5,
   "metadata": {},
   "outputs": [],
   "source": [
    "import sklearn.model_selection\n",
    "def cv(x, y, model, params={}, splits=5):\n",
    "    clf = model(**params)\n",
    "    kfold = sklearn.model_selection.KFold(splits, shuffle=True)\n",
    "    cv_score = sklearn.model_selection.cross_validate(clf, x, y, cv=kfold, scoring={\n",
    "        'mse': 'neg_mean_squared_error',\n",
    "        'r2': 'r2'\n",
    "    }, return_train_score=True, verbose=5)\n",
    "    return cv_score"
   ]
  },
  {
   "cell_type": "code",
   "execution_count": null,
   "metadata": {},
   "outputs": [],
   "source": []
  },
  {
   "cell_type": "code",
   "execution_count": 6,
   "metadata": {},
   "outputs": [],
   "source": [
    "def run_cross_validation(x, y, model, params={}):\n",
    "    cv_result = cv(x, y, model, params=params, splits=3)\n",
    "    for scorer, score in cv_result.items():\n",
    "        print('%s: %s' % (scorer, score))\n",
    "        print('Average %s: %f' % (scorer, score.mean()))"
   ]
  },
  {
   "cell_type": "code",
   "execution_count": 7,
   "metadata": {},
   "outputs": [],
   "source": [
    "params = {\n",
    "        'boosting_type': 'gbdt',\n",
    "    \n",
    "#         'n_estimators': 3000,\n",
    "#         \"num_leaves\": 800,\n",
    "#         \"subsample_for_bin\": 100000,\n",
    "#         'max_bin': 1500,\n",
    "    \n",
    "        'n_estimators': 600,\n",
    "        \"num_leaves\": 80,\n",
    "        \"subsample_for_bin\": 50000,\n",
    "        'max_bin': 1000,\n",
    "    \n",
    "        'feature_fraction': 0.4,\n",
    "        'bagging_fraction': 0.8,\n",
    "        'bagging_freq': 5,\n",
    "        'reg_alpha': 4,\n",
    "        'reg_lambda': 8,\n",
    "        \n",
    "        \"max_depth\": -1,\n",
    "        'min_child_samples': 100,\n",
    "        'learning_rate': 0.05,\n",
    "        'n_jobs': -1,\n",
    "        'verbose': 5\n",
    "}"
   ]
  },
  {
   "cell_type": "code",
   "execution_count": null,
   "metadata": {},
   "outputs": [],
   "source": [
    "run_cross_validation(trains, labels, lgb.LGBMRegressor, params)"
   ]
  },
  {
   "cell_type": "code",
   "execution_count": 8,
   "metadata": {},
   "outputs": [],
   "source": [
    "model = lgb.LGBMRegressor(**params)\n",
    "model.fit(trains, labels)\n",
    "result = model.predict(tests)"
   ]
  },
  {
   "cell_type": "code",
   "execution_count": 9,
   "metadata": {},
   "outputs": [],
   "source": [
    "res_frame = pd.DataFrame()\n",
    "res_frame[\"Id\"] = [e for e in range(1, tests.shape[0]+1)]"
   ]
  },
  {
   "cell_type": "code",
   "execution_count": 10,
   "metadata": {},
   "outputs": [],
   "source": [
    "res_frame[\"Predicted\"] = result\n",
    "res_frame.to_csv(\"lgb.csv\", index=False)"
   ]
  },
  {
   "cell_type": "code",
   "execution_count": null,
   "metadata": {},
   "outputs": [],
   "source": []
  }
 ],
 "metadata": {
  "kernelspec": {
   "display_name": "Python 3",
   "language": "python",
   "name": "python3"
  },
  "language_info": {
   "codemirror_mode": {
    "name": "ipython",
    "version": 3
   },
   "file_extension": ".py",
   "mimetype": "text/x-python",
   "name": "python",
   "nbconvert_exporter": "python",
   "pygments_lexer": "ipython3",
   "version": "3.7.2"
  }
 },
 "nbformat": 4,
 "nbformat_minor": 2
}
