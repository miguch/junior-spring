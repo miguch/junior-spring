{
 "cells": [
  {
   "cell_type": "code",
   "execution_count": 1,
   "metadata": {},
   "outputs": [],
   "source": [
    "import pandas as pd\n",
    "import preprocess\n",
    "import regression\n",
    "import numpy as np"
   ]
  },
  {
   "cell_type": "code",
   "execution_count": 2,
   "metadata": {},
   "outputs": [],
   "source": [
    "test_data = pd.read_csv('./data/test set.csv')\n",
    "train_data = pd.read_csv('./data/trainSet.csv')"
   ]
  },
  {
   "cell_type": "code",
   "execution_count": 3,
   "metadata": {},
   "outputs": [
    {
     "data": {
      "text/plain": [
       "(['F1',\n",
       "  'F2',\n",
       "  'F3',\n",
       "  'F4',\n",
       "  'F5',\n",
       "  'F6',\n",
       "  'F7',\n",
       "  'F8',\n",
       "  'F9',\n",
       "  'F10',\n",
       "  'F11',\n",
       "  'F12',\n",
       "  'F13',\n",
       "  'F14',\n",
       "  'F15',\n",
       "  'F16',\n",
       "  'F17',\n",
       "  'F18',\n",
       "  'F19',\n",
       "  'F20',\n",
       "  'F21',\n",
       "  'F22',\n",
       "  'F23',\n",
       "  'F24',\n",
       "  'F25',\n",
       "  'F26',\n",
       "  'F27',\n",
       "  'F28',\n",
       "  'F29',\n",
       "  'F30',\n",
       "  'F31',\n",
       "  'F32'],\n",
       " 183267)"
      ]
     },
     "execution_count": 3,
     "metadata": {},
     "output_type": "execute_result"
    }
   ],
   "source": [
    "list(test_data), len(test_data)"
   ]
  },
  {
   "cell_type": "code",
   "execution_count": 4,
   "metadata": {},
   "outputs": [
    {
     "data": {
      "text/plain": [
       "(['F1',\n",
       "  'F2',\n",
       "  'F3',\n",
       "  'F4',\n",
       "  'F5',\n",
       "  'F6',\n",
       "  'F7',\n",
       "  'F8',\n",
       "  'F9',\n",
       "  'F10',\n",
       "  'F11',\n",
       "  'F12',\n",
       "  'F13',\n",
       "  'F14',\n",
       "  'F15',\n",
       "  'F16',\n",
       "  'F17',\n",
       "  'F18',\n",
       "  'F19',\n",
       "  'F20',\n",
       "  'F21',\n",
       "  'F22',\n",
       "  'F23',\n",
       "  'F24',\n",
       "  'F25',\n",
       "  'F26',\n",
       "  'F27',\n",
       "  'F28',\n",
       "  'F29',\n",
       "  'F30',\n",
       "  'F31',\n",
       "  'F32',\n",
       "  'label'],\n",
       " 200000)"
      ]
     },
     "execution_count": 4,
     "metadata": {},
     "output_type": "execute_result"
    }
   ],
   "source": [
    "list(train_data), len(train_data)"
   ]
  },
  {
   "cell_type": "code",
   "execution_count": 5,
   "metadata": {},
   "outputs": [],
   "source": [
    "train_x = train_data.values[:, :-1]\n",
    "train_target = train_data.values[:, -1].reshape(-1, 1)"
   ]
  },
  {
   "cell_type": "code",
   "execution_count": 41,
   "metadata": {},
   "outputs": [],
   "source": [
    "z_scale_processed_x, mean, std = preprocess.z_score_scaling(train_x)\n",
    "min_max_scaled_x = preprocess.min_max_scaling(train_x)\n",
    "processed_test, _, _ = preprocess.z_score_scaling(test_data.values, mean, std)\n"
   ]
  },
  {
   "cell_type": "code",
   "execution_count": null,
   "metadata": {},
   "outputs": [],
   "source": [
    "# Feature Discretization with kmeans"
   ]
  },
  {
   "cell_type": "code",
   "execution_count": null,
   "metadata": {},
   "outputs": [],
   "source": []
  },
  {
   "cell_type": "code",
   "execution_count": null,
   "metadata": {},
   "outputs": [],
   "source": []
  },
  {
   "cell_type": "code",
   "execution_count": 8,
   "metadata": {},
   "outputs": [],
   "source": [
    "# trainer is used for training and should return the trained parameters,\n",
    "# tester should receive x and the parameters and return the predicted item\n",
    "# args and kwargs are extra parameters to pass to the trainer.\n",
    "def k_fold(k, trainer, tester, x, target, *args, **kwargs):\n",
    "    samples, features = x.shape\n",
    "    fold_size = int(samples / k)\n",
    "    shuffled = np.hstack((x, target))\n",
    "    np.random.shuffle(shuffled)\n",
    "    shuffled_x = shuffled[:, :-1]\n",
    "    shuffled_target = shuffled[:, -1].reshape(-1, 1)\n",
    "    x_sets = np.array([shuffled_x[i * fold_size : (i+1) * fold_size] for i in range(k)])\n",
    "    target_sets = np.array([shuffled_target[i * fold_size: (i+1) * fold_size] for i in range(k)])\n",
    "    precisions_sum = 0\n",
    "    for i in range(k):\n",
    "        training_set = np.empty(shape=(0, features))\n",
    "        training_targets = np.empty(shape=(0, 1))\n",
    "        test_set = x_sets[i]\n",
    "        test_targets = target_sets[i]\n",
    "        for j in range(k):\n",
    "            if j != i:\n",
    "                training_set = np.concatenate((training_set, x_sets[j]))\n",
    "                training_targets = np.concatenate((training_targets, target_sets[j]))\n",
    "        the = trainer(training_set, training_targets, *args, **kwargs)\n",
    "        predicted = tester(test_set, the)\n",
    "        predicted = [1 if e > 0.5 else 0 for e in predicted]\n",
    "        corrects = 0\n",
    "        for j in range(fold_size):\n",
    "            if predicted[j] == test_targets[j]:\n",
    "                corrects += 1\n",
    "        print('%f at k=%d' % (corrects / fold_size, i))\n",
    "        precisions_sum += corrects / fold_size\n",
    "    result = precisions_sum / k\n",
    "    print('Average: %f' % result)\n",
    "    return result"
   ]
  },
  {
   "cell_type": "code",
   "execution_count": 43,
   "metadata": {},
   "outputs": [
    {
     "name": "stdout",
     "output_type": "stream",
     "text": [
      "2.7527275255038584\n",
      "0.6638893206855518\n",
      "0.6612073162483364\n",
      "0.6607079106337724\n",
      "0.608950 at k=0\n",
      "3.149816251970812\n",
      "0.6645556303203741\n",
      "0.6601965682863565\n",
      "0.6596383002253249\n",
      "0.606525 at k=1\n",
      "2.733415425865455\n",
      "0.6650308376778666\n",
      "0.6610839430332004\n",
      "0.6604200562860225\n",
      "0.606775 at k=2\n",
      "2.734035519649418\n",
      "0.6678951741369885\n",
      "0.6610448210937401\n",
      "0.6603694250840146\n",
      "0.611200 at k=3\n",
      "2.957042688412527\n",
      "0.6665823017294774\n",
      "0.6610789340522618\n",
      "0.6598974979143948\n",
      "0.603100 at k=4\n",
      "Average: 0.607310\n"
     ]
    },
    {
     "data": {
      "text/plain": [
       "0.6073099999999999"
      ]
     },
     "execution_count": 43,
     "metadata": {},
     "output_type": "execute_result"
    }
   ],
   "source": [
    "iters = 500\n",
    "lr = 0.2\n",
    "k_fold(5, regression.regression, regression.logistic_h, z_scale_processed_x, train_target, \n",
    "       regression.logistic_h, iters, lr, lbd=5.0, log=True, logInterval=125)"
   ]
  },
  {
   "cell_type": "code",
   "execution_count": 10,
   "metadata": {},
   "outputs": [],
   "source": [
    "def shuffle(x, label):\n",
    "    shuffled = np.hstack((x, label))\n",
    "    np.random.shuffle(shuffled)\n",
    "    shuffled_x = shuffled[:, :-1]\n",
    "    shuffled_target = shuffled[:, -1].reshape(-1, 1)\n",
    "    return shuffled_x, shuffled_target"
   ]
  },
  {
   "cell_type": "code",
   "execution_count": 11,
   "metadata": {},
   "outputs": [
    {
     "name": "stdout",
     "output_type": "stream",
     "text": [
      "2.6239971200185224\n",
      "0.6660982703355481\n",
      "0.6611997658892804\n",
      "0.6604064398202419\n",
      "0.6601171238307323\n"
     ]
    }
   ],
   "source": [
    "iters = 500\n",
    "lr = 0.2\n",
    "shuffled_x, shuffled_label = shuffle(z_scale_processed_x, train_target)\n",
    "the = regression.regression(z_scale_processed_x, train_target, regression.logistic_h, iters, lr, lbd=5.0, log=True)"
   ]
  },
  {
   "cell_type": "code",
   "execution_count": 12,
   "metadata": {},
   "outputs": [],
   "source": [
    "result = regression.logistic_h(z_scale_processed_x, the)"
   ]
  },
  {
   "cell_type": "code",
   "execution_count": 13,
   "metadata": {},
   "outputs": [],
   "source": [
    "result = [1 if e > 0.5 else 0 for e in result]"
   ]
  },
  {
   "cell_type": "code",
   "execution_count": 14,
   "metadata": {},
   "outputs": [
    {
     "data": {
      "text/plain": [
       "121488"
      ]
     },
     "execution_count": 14,
     "metadata": {},
     "output_type": "execute_result"
    }
   ],
   "source": [
    "accurate = 0\n",
    "for i in range(len(result)):\n",
    "    if result[i] == train_target[i]:\n",
    "        accurate += 1\n",
    "accurate"
   ]
  },
  {
   "cell_type": "code",
   "execution_count": 15,
   "metadata": {},
   "outputs": [],
   "source": [
    "result = regression.logistic_h(processed_test, the)\n",
    "pd.DataFrame([[i+1, 1 if result[i] > 0.5 else 0] for i in range(len(result))]).to_csv('result.csv', header=['Id', 'Predicted'], index=False)"
   ]
  },
  {
   "cell_type": "code",
   "execution_count": null,
   "metadata": {},
   "outputs": [],
   "source": []
  },
  {
   "cell_type": "code",
   "execution_count": null,
   "metadata": {},
   "outputs": [],
   "source": []
  },
  {
   "cell_type": "code",
   "execution_count": 16,
   "metadata": {},
   "outputs": [],
   "source": [
    "import torch\n",
    "from torch import functional as F"
   ]
  },
  {
   "cell_type": "code",
   "execution_count": 70,
   "metadata": {},
   "outputs": [],
   "source": [
    "class Net(torch.nn.Module):\n",
    "    def __init__(self, features, hidden1, hidden2, out):\n",
    "        super(Net, self).__init__()\n",
    "        self.layer1 = torch.nn.Linear(features, hidden1)\n",
    "        self.layer2 = torch.nn.Linear(hidden1, hidden2)\n",
    "        self.layer3 = torch.nn.Linear(hidden2, out)\n",
    "        \n",
    "    def forward(self, x):\n",
    "        o1 = self.layer1(x)\n",
    "        o2 = self.layer2(o1)\n",
    "        return self.layer3(o2)\n",
    "    "
   ]
  },
  {
   "cell_type": "code",
   "execution_count": 71,
   "metadata": {},
   "outputs": [
    {
     "data": {
      "text/plain": [
       "Net(\n",
       "  (layer1): Linear(in_features=32, out_features=260, bias=True)\n",
       "  (layer2): Linear(in_features=260, out_features=127, bias=True)\n",
       "  (layer3): Linear(in_features=127, out_features=2, bias=True)\n",
       ")"
      ]
     },
     "execution_count": 71,
     "metadata": {},
     "output_type": "execute_result"
    }
   ],
   "source": [
    "net = Net(z_scale_processed_x.shape[1], 260, 127, 2)\n",
    "net"
   ]
  },
  {
   "cell_type": "code",
   "execution_count": 72,
   "metadata": {},
   "outputs": [],
   "source": [
    "optimizer = torch.optim.Adam(net.parameters())\n",
    "loss_func = torch.nn.CrossEntropyLoss()"
   ]
  },
  {
   "cell_type": "code",
   "execution_count": 73,
   "metadata": {},
   "outputs": [],
   "source": [
    "epoch = 20\n",
    "def trainer(x, target):\n",
    "    for i in range(epoch):\n",
    "        o = net(torch.Tensor(x))\n",
    "        loss = loss_func(o, torch.Tensor(target).long().squeeze(1))\n",
    "        optimizer.zero_grad()\n",
    "        loss.backward()\n",
    "        optimizer.step()\n",
    "\n",
    "def tester(x, *args):\n",
    "    o = net(torch.Tensor(x))\n",
    "    return torch.max(o, 1)[1].numpy().reshape(-1, 1)"
   ]
  },
  {
   "cell_type": "code",
   "execution_count": 74,
   "metadata": {},
   "outputs": [
    {
     "name": "stdout",
     "output_type": "stream",
     "text": [
      "0.607600 at k=0\n",
      "0.606700 at k=1\n",
      "0.606775 at k=2\n",
      "0.606200 at k=3\n",
      "0.607800 at k=4\n",
      "Average: 0.607015\n"
     ]
    },
    {
     "data": {
      "text/plain": [
       "0.607015"
      ]
     },
     "execution_count": 74,
     "metadata": {},
     "output_type": "execute_result"
    }
   ],
   "source": [
    "k_fold(5, trainer, tester, z_scale_processed_x, train_target)"
   ]
  },
  {
   "cell_type": "code",
   "execution_count": null,
   "metadata": {},
   "outputs": [],
   "source": []
  }
 ],
 "metadata": {
  "kernelspec": {
   "display_name": "Python 3",
   "language": "python",
   "name": "python3"
  },
  "language_info": {
   "codemirror_mode": {
    "name": "ipython",
    "version": 3
   },
   "file_extension": ".py",
   "mimetype": "text/x-python",
   "name": "python",
   "nbconvert_exporter": "python",
   "pygments_lexer": "ipython3",
   "version": "3.7.2"
  }
 },
 "nbformat": 4,
 "nbformat_minor": 2
}
