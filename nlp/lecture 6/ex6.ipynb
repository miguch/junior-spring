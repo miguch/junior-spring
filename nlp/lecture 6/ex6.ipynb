{
 "cells": [
  {
   "cell_type": "code",
   "execution_count": 1,
   "metadata": {},
   "outputs": [],
   "source": [
    "import nltk"
   ]
  },
  {
   "cell_type": "code",
   "execution_count": 2,
   "metadata": {},
   "outputs": [],
   "source": [
    "SENTENCE = 'the lawyer questioned the witness about the revolver'"
   ]
  },
  {
   "cell_type": "code",
   "execution_count": 3,
   "metadata": {},
   "outputs": [],
   "source": [
    "def getGrammar(tags):\n",
    "    DTs = '|'.join(['\"%s\"'%e[0] for e in tags if e[1] == 'DT'])\n",
    "    NNs = '|'.join(['\"%s\"'%e[0] for e in tags if e[1] == 'NN'])\n",
    "    VBDs = '|'.join(['\"%s\"'%e[0] for e in tags if e[1] == 'VBD'])\n",
    "    INs = '|'.join(['\"%s\"'%e[0] for e in tags if e[1] == 'IN'])\n",
    "    grammar = nltk.CFG.fromstring('''\n",
    "    S -> NP VP \n",
    "    VP -> VBD NP | VBD NP PP \n",
    "    PP -> IN NP \n",
    "    NP -> DT NN \n",
    "    DT -> %s\n",
    "    NN -> %s\n",
    "    VBD -> %s\n",
    "    IN -> %s\n",
    "    ''' % (DTs, NNs, VBDs, INs))\n",
    "    return grammar"
   ]
  },
  {
   "cell_type": "code",
   "execution_count": 4,
   "metadata": {},
   "outputs": [],
   "source": [
    "def topDown(sentence):\n",
    "    words = nltk.word_tokenize(sentence)\n",
    "    tags = nltk.pos_tag(words)\n",
    "    tags = set(tags)\n",
    "    grammar = getGrammar(tags)\n",
    "    rd_parser = nltk.RecursiveDescentParser(grammar)\n",
    "    for tree in rd_parser.parse(words):\n",
    "        print(tree)"
   ]
  },
  {
   "cell_type": "code",
   "execution_count": 5,
   "metadata": {},
   "outputs": [
    {
     "name": "stdout",
     "output_type": "stream",
     "text": [
      "(S\n",
      "  (NP (DT the) (NN lawyer))\n",
      "  (VP\n",
      "    (VBD questioned)\n",
      "    (NP (DT the) (NN witness))\n",
      "    (PP (IN about) (NP (DT the) (NN revolver)))))\n"
     ]
    }
   ],
   "source": [
    "topDown(SENTENCE)"
   ]
  },
  {
   "cell_type": "code",
   "execution_count": 6,
   "metadata": {},
   "outputs": [],
   "source": [
    "def bottomUp(sentence):\n",
    "    words = nltk.word_tokenize(sentence)\n",
    "    tags = nltk.pos_tag(words)\n",
    "    tags = set(tags)\n",
    "    grammar = getGrammar(tags)\n",
    "    parser = nltk.ShiftReduceParser(grammar, trace=2)\n",
    "    for tree in parser.parse(words):\n",
    "        print(tree)"
   ]
  },
  {
   "cell_type": "code",
   "execution_count": 7,
   "metadata": {},
   "outputs": [
    {
     "name": "stdout",
     "output_type": "stream",
     "text": [
      "Parsing 'the lawyer questioned the witness about the revolver'\n",
      "    [ * the lawyer questioned the witness about the revolver]\n",
      "  S [ 'the' * lawyer questioned the witness about the revolver]\n",
      "  R [ DT * lawyer questioned the witness about the revolver]\n",
      "  S [ DT 'lawyer' * questioned the witness about the revolver]\n",
      "  R [ DT NN * questioned the witness about the revolver]\n",
      "  R [ NP * questioned the witness about the revolver]\n",
      "  S [ NP 'questioned' * the witness about the revolver]\n",
      "  R [ NP VBD * the witness about the revolver]\n",
      "  S [ NP VBD 'the' * witness about the revolver]\n",
      "  R [ NP VBD DT * witness about the revolver]\n",
      "  S [ NP VBD DT 'witness' * about the revolver]\n",
      "  R [ NP VBD DT NN * about the revolver]\n",
      "  R [ NP VBD NP * about the revolver]\n",
      "  R [ NP VP * about the revolver]\n",
      "  R [ S * about the revolver]\n",
      "  S [ S 'about' * the revolver]\n",
      "  R [ S IN * the revolver]\n",
      "  S [ S IN 'the' * revolver]\n",
      "  R [ S IN DT * revolver]\n",
      "  S [ S IN DT 'revolver' * ]\n",
      "  R [ S IN DT NN * ]\n",
      "  R [ S IN NP * ]\n",
      "  R [ S PP * ]\n"
     ]
    }
   ],
   "source": [
    "# failed to find a parse because there is no backtracking\n",
    "bottomUp(SENTENCE)"
   ]
  },
  {
   "cell_type": "code",
   "execution_count": null,
   "metadata": {},
   "outputs": [],
   "source": []
  }
 ],
 "metadata": {
  "kernelspec": {
   "display_name": "Python 3",
   "language": "python",
   "name": "python3"
  },
  "language_info": {
   "codemirror_mode": {
    "name": "ipython",
    "version": 3
   },
   "file_extension": ".py",
   "mimetype": "text/x-python",
   "name": "python",
   "nbconvert_exporter": "python",
   "pygments_lexer": "ipython3",
   "version": "3.7.2"
  }
 },
 "nbformat": 4,
 "nbformat_minor": 2
}
