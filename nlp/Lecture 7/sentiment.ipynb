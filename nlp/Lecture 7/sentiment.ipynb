{
 "cells": [
  {
   "cell_type": "code",
   "execution_count": 1,
   "metadata": {},
   "outputs": [],
   "source": [
    "training_set = [\n",
    "    'just plain boring',\n",
    "    'entirely predictable and lacks energy',\n",
    "    'no surprises and very few laughs',\n",
    "    'very powerful',\n",
    "    'the most fun film of the summer'\n",
    "]\n",
    "labels = [0, 0, 0, 1, 1]\n",
    "test = 'predictable with no originality'"
   ]
  },
  {
   "cell_type": "code",
   "execution_count": 2,
   "metadata": {},
   "outputs": [],
   "source": [
    "words_set = [[word for word in sentence.split()] for sentence in training_set]"
   ]
  },
  {
   "cell_type": "code",
   "execution_count": 3,
   "metadata": {},
   "outputs": [],
   "source": [
    "dictionary = set([word for seq in words_set for word in seq ])"
   ]
  },
  {
   "cell_type": "code",
   "execution_count": 4,
   "metadata": {},
   "outputs": [],
   "source": [
    "pos_word_count = sum([len(words_set[i]) for i in range(len(words_set)) if labels[i] == 1])\n",
    "neg_word_count = sum([len(words_set[i]) for i in range(len(words_set)) if labels[i] == 0])"
   ]
  },
  {
   "cell_type": "code",
   "execution_count": 5,
   "metadata": {},
   "outputs": [],
   "source": [
    "pos_count = sum(labels)\n",
    "neg_count = len(labels) - pos_count"
   ]
  },
  {
   "cell_type": "code",
   "execution_count": null,
   "metadata": {},
   "outputs": [],
   "source": []
  },
  {
   "cell_type": "markdown",
   "metadata": {},
   "source": [
    "1.Compute the prior for the two classes + and -, and the\n",
    "likelihoods for each word given the class (leave in the form of fractions)."
   ]
  },
  {
   "cell_type": "code",
   "execution_count": 6,
   "metadata": {},
   "outputs": [],
   "source": [
    "V = len(dictionary)\n",
    "pos_word_count = sum([len(words_set[i]) for i in range(len(words_set)) if labels[i] == 1])\n",
    "neg_word_count = sum([len(words_set[i]) for i in range(len(words_set)) if labels[i] == 0])\n",
    "word_counts = [neg_word_count, pos_word_count]"
   ]
  },
  {
   "cell_type": "code",
   "execution_count": 7,
   "metadata": {},
   "outputs": [],
   "source": [
    "def getWordLikelihoodFraction(word, cls):\n",
    "    wordCount = sum([words_set[i].count(word) for i in range(len(words_set)) if labels[i] == cls])\n",
    "    return '%d / %d' % (wordCount+1, word_counts[cls] + V)"
   ]
  },
  {
   "cell_type": "code",
   "execution_count": 8,
   "metadata": {},
   "outputs": [
    {
     "name": "stdout",
     "output_type": "stream",
     "text": [
      "P('energy'|-) = 2 / 34\n",
      "P('energy'|+) = 1 / 29\n",
      "P('fun'|-) = 1 / 34\n",
      "P('fun'|+) = 2 / 29\n",
      "P('film'|-) = 1 / 34\n",
      "P('film'|+) = 2 / 29\n",
      "P('entirely'|-) = 2 / 34\n",
      "P('entirely'|+) = 1 / 29\n",
      "P('boring'|-) = 2 / 34\n",
      "P('boring'|+) = 1 / 29\n",
      "P('the'|-) = 1 / 34\n",
      "P('the'|+) = 3 / 29\n",
      "P('and'|-) = 3 / 34\n",
      "P('and'|+) = 1 / 29\n",
      "P('plain'|-) = 2 / 34\n",
      "P('plain'|+) = 1 / 29\n",
      "P('laughs'|-) = 2 / 34\n",
      "P('laughs'|+) = 1 / 29\n",
      "P('powerful'|-) = 1 / 34\n",
      "P('powerful'|+) = 2 / 29\n",
      "P('most'|-) = 1 / 34\n",
      "P('most'|+) = 2 / 29\n",
      "P('very'|-) = 2 / 34\n",
      "P('very'|+) = 2 / 29\n",
      "P('surprises'|-) = 2 / 34\n",
      "P('surprises'|+) = 1 / 29\n",
      "P('of'|-) = 1 / 34\n",
      "P('of'|+) = 2 / 29\n",
      "P('summer'|-) = 1 / 34\n",
      "P('summer'|+) = 2 / 29\n",
      "P('few'|-) = 2 / 34\n",
      "P('few'|+) = 1 / 29\n",
      "P('predictable'|-) = 2 / 34\n",
      "P('predictable'|+) = 1 / 29\n",
      "P('just'|-) = 2 / 34\n",
      "P('just'|+) = 1 / 29\n",
      "P('no'|-) = 2 / 34\n",
      "P('no'|+) = 1 / 29\n",
      "P('lacks'|-) = 2 / 34\n",
      "P('lacks'|+) = 1 / 29\n"
     ]
    }
   ],
   "source": [
    "for word in dictionary:\n",
    "    print(\"P('%s'|-) = %s\" % (word, getWordLikelihoodFraction(word, 0)))\n",
    "    print(\"P('%s'|+) = %s\" % (word, getWordLikelihoodFraction(word, 1)))"
   ]
  },
  {
   "cell_type": "markdown",
   "metadata": {},
   "source": [
    "2.\n",
    "\n",
    "Then compute whether the sentence in the test set is of class positive or negative (you may need a computer for this final computation)."
   ]
  },
  {
   "cell_type": "code",
   "execution_count": 9,
   "metadata": {},
   "outputs": [],
   "source": [
    "def getWordLikelihood(word, cls):\n",
    "    if word not in dictionary:\n",
    "        return 1\n",
    "    wordCount = sum([words_set[i].count(word) for i in range(len(words_set)) if labels[i] == cls])\n",
    "    return (wordCount + 1) / (word_counts[cls] + V)"
   ]
  },
  {
   "cell_type": "code",
   "execution_count": 10,
   "metadata": {},
   "outputs": [],
   "source": [
    "pos_proba = pos_count / len(training_set)\n",
    "neg_proba = neg_count / len(training_set)"
   ]
  },
  {
   "cell_type": "code",
   "execution_count": 11,
   "metadata": {},
   "outputs": [],
   "source": [
    "for word in test.split():\n",
    "    neg_proba *= getWordLikelihood(word, 0)\n",
    "    pos_proba *= getWordLikelihood(word, 1)"
   ]
  },
  {
   "cell_type": "code",
   "execution_count": 12,
   "metadata": {},
   "outputs": [
    {
     "name": "stdout",
     "output_type": "stream",
     "text": [
      "Negative: 0.002076\n",
      "Positive: 0.000476\n",
      "Result: Negative\n"
     ]
    }
   ],
   "source": [
    "print('Negative: %f' % neg_proba)\n",
    "print('Positive: %f' % pos_proba)\n",
    "print('Result: %s' % ('Positive' if pos_proba > neg_proba else 'Negative'))"
   ]
  },
  {
   "cell_type": "markdown",
   "metadata": {},
   "source": [
    "5.\n",
    "\n",
    "What would the answer to question 2 be without add smoothing?"
   ]
  },
  {
   "cell_type": "code",
   "execution_count": 13,
   "metadata": {},
   "outputs": [],
   "source": [
    "def getWordLikelihoodWithoutSmoothing(word, cls):\n",
    "    if word not in dictionary:\n",
    "        return 1\n",
    "    wordCount = sum([words_set[i].count(word) for i in range(len(words_set)) if labels[i] == cls])\n",
    "    return (wordCount) / (word_counts[cls])"
   ]
  },
  {
   "cell_type": "code",
   "execution_count": 14,
   "metadata": {},
   "outputs": [],
   "source": [
    "pos_proba = pos_count / len(training_set)\n",
    "neg_proba = neg_count / len(training_set)\n",
    "for word in test.split():\n",
    "    neg_proba *= getWordLikelihoodWithoutSmoothing(word, 0)\n",
    "    pos_proba *= getWordLikelihoodWithoutSmoothing(word, 1)"
   ]
  },
  {
   "cell_type": "code",
   "execution_count": 15,
   "metadata": {},
   "outputs": [
    {
     "name": "stdout",
     "output_type": "stream",
     "text": [
      "Negative: 0.003061\n",
      "Positive: 0.000000\n"
     ]
    }
   ],
   "source": [
    "print('Negative: %f' % neg_proba)\n",
    "print('Positive: %f' % pos_proba)"
   ]
  },
  {
   "cell_type": "code",
   "execution_count": null,
   "metadata": {},
   "outputs": [],
   "source": []
  },
  {
   "cell_type": "code",
   "execution_count": null,
   "metadata": {},
   "outputs": [],
   "source": []
  },
  {
   "cell_type": "code",
   "execution_count": null,
   "metadata": {},
   "outputs": [],
   "source": []
  }
 ],
 "metadata": {
  "kernelspec": {
   "display_name": "Python 3",
   "language": "python",
   "name": "python3"
  },
  "language_info": {
   "codemirror_mode": {
    "name": "ipython",
    "version": 3
   },
   "file_extension": ".py",
   "mimetype": "text/x-python",
   "name": "python",
   "nbconvert_exporter": "python",
   "pygments_lexer": "ipython3",
   "version": "3.7.2"
  }
 },
 "nbformat": 4,
 "nbformat_minor": 2
}
