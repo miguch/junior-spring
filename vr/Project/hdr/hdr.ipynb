{
 "cells": [
  {
   "cell_type": "code",
   "execution_count": 5,
   "metadata": {},
   "outputs": [],
   "source": [
    "from PIL import Image\n",
    "import numpy as np"
   ]
  },
  {
   "cell_type": "code",
   "execution_count": 6,
   "metadata": {},
   "outputs": [],
   "source": [
    "source = Image.open('resources/test.png')"
   ]
  },
  {
   "cell_type": "code",
   "execution_count": 7,
   "metadata": {},
   "outputs": [],
   "source": [
    "row, col, _ = np.asarray(source).shape"
   ]
  },
  {
   "cell_type": "code",
   "execution_count": 8,
   "metadata": {},
   "outputs": [],
   "source": [
    "grey = np.empty(shape=(row, col))"
   ]
  },
  {
   "cell_type": "code",
   "execution_count": 9,
   "metadata": {},
   "outputs": [],
   "source": [
    "rgb = np.asarray(source)\n",
    "for i in range(row):\n",
    "    for k in  range(col):\n",
    "        grey[i][k] = rgb[i][k][0]"
   ]
  },
  {
   "cell_type": "code",
   "execution_count": 4,
   "metadata": {},
   "outputs": [],
   "source": [
    "import numpy\n",
    "import math\n",
    "import scipy.signal, scipy.interpolate\n",
    "\n",
    "def bilateral_approximation(data, edge, sigmaS, sigmaR, samplingS=None, samplingR=None, edgeMin=None, edgeMax=None):\n",
    "\t# This function implements Durand and Dorsey's Signal Processing Bilateral Filter Approximation (2006)\n",
    "\t# It is derived from Jiawen Chen's matlab implementation\n",
    "\t# The original papers and matlab code are available at http://people.csail.mit.edu/sparis/bf/\n",
    "\n",
    "\tinputHeight = data.shape[0]\n",
    "\tinputWidth = data.shape[1]\n",
    "\tsamplingS = sigmaS if (samplingS is None) else samplingS\n",
    "\tsamplingR = sigmaR if (samplingR is None) else samplingR\n",
    "\tedgeMax = numpy.amax(edge) if (edgeMax is None) else edgeMax\n",
    "\tedgeMin = numpy.amin(edge) if (edgeMin is None) else edgeMin\n",
    "\tedgeDelta = edgeMax - edgeMin\n",
    "\tderivedSigmaS = sigmaS / samplingS;\n",
    "\tderivedSigmaR = sigmaR / samplingR;\n",
    "\n",
    "\tpaddingXY = math.floor( 2 * derivedSigmaS ) + 1\n",
    "\tpaddingZ = math.floor( 2 * derivedSigmaR ) + 1\n",
    "\n",
    "\t# allocate 3D grid\n",
    "\tdownsampledWidth = math.floor( ( inputWidth - 1 ) / samplingS ) + 1 + 2 * paddingXY\n",
    "\tdownsampledHeight = math.floor( ( inputHeight - 1 ) / samplingS ) + 1 + 2 * paddingXY\n",
    "\tdownsampledDepth = math.floor( edgeDelta / samplingR ) + 1 + 2 * paddingZ\n",
    "\n",
    "\tgridData = numpy.zeros( (downsampledHeight, downsampledWidth, downsampledDepth) )\n",
    "\tgridWeights = numpy.zeros( (downsampledHeight, downsampledWidth, downsampledDepth) )\n",
    "\n",
    "\t# compute downsampled indices\n",
    "\t(jj, ii) = numpy.meshgrid( range(inputWidth), range(inputHeight) )\n",
    "\n",
    "\tdi = numpy.around( ii / samplingS ) + paddingXY\n",
    "\tdj = numpy.around( jj / samplingS ) + paddingXY\n",
    "\tdz = numpy.around( ( edge - edgeMin ) / samplingR ) + paddingZ\n",
    "\n",
    "\t# perform scatter (there's probably a faster way than this)\n",
    "\t# normally would do downsampledWeights( di, dj, dk ) = 1, but we have to\n",
    "\t# perform a summation to do box downsampling\n",
    "\tfor k in range(dz.size):\n",
    "\t\n",
    "\t\tdataZ = data.flat[k]\n",
    "\t\tif (not math.isnan( dataZ  )):\n",
    "\t\t\t\n",
    "\t\t\tdik = di.flat[k]\n",
    "\t\t\tdjk = dj.flat[k]\n",
    "\t\t\tdzk = dz.flat[k]\n",
    "\n",
    "\t\t\tgridData[ dik, djk, dzk ] += dataZ\n",
    "\t\t\tgridWeights[ dik, djk, dzk ] += 1\n",
    "\n",
    "\t# make gaussian kernel\n",
    "\tkernelWidth = 2 * derivedSigmaS + 1\n",
    "\tkernelHeight = kernelWidth\n",
    "\tkernelDepth = 2 * derivedSigmaR + 1\n",
    "\t\n",
    "\thalfKernelWidth = math.floor( kernelWidth / 2 )\n",
    "\thalfKernelHeight = math.floor( kernelHeight / 2 )\n",
    "\thalfKernelDepth = math.floor( kernelDepth / 2 )\n",
    "\n",
    "\t(gridX, gridY, gridZ) = numpy.meshgrid( range( int(kernelWidth) ), range( int(kernelHeight) ), range( int(kernelDepth) ) )\n",
    "\tgridX -= halfKernelWidth\n",
    "\tgridY -= halfKernelHeight\n",
    "\tgridZ -= halfKernelDepth\n",
    "\tgridRSquared = (( gridX * gridX + gridY * gridY ) / ( derivedSigmaS * derivedSigmaS )) + (( gridZ * gridZ ) / ( derivedSigmaR * derivedSigmaR ))\n",
    "\tkernel = numpy.exp( -0.5 * gridRSquared )\n",
    "\t\n",
    "\t# convolve\n",
    "\tblurredGridData = scipy.signal.fftconvolve( gridData, kernel, mode='same' )\n",
    "\tblurredGridWeights = scipy.signal.fftconvolve( gridWeights, kernel, mode='same' )\n",
    "\n",
    "\t# divide\n",
    "\tblurredGridWeights = numpy.where( blurredGridWeights == 0 , -2, blurredGridWeights) # avoid divide by 0, won't read there anyway\n",
    "\tnormalizedBlurredGrid = blurredGridData / blurredGridWeights;\n",
    "\tnormalizedBlurredGrid = numpy.where( blurredGridWeights < -1, 0, normalizedBlurredGrid ) # put 0s where it's undefined\n",
    "\n",
    "\t# upsample\n",
    "\t( jj, ii ) = numpy.meshgrid( range( inputWidth ), range( inputHeight ) )\n",
    "\t# no rounding\n",
    "\tdi = ( ii / samplingS ) + paddingXY\n",
    "\tdj = ( jj / samplingS ) + paddingXY\n",
    "\tdz = ( edge - edgeMin ) / samplingR + paddingZ \n",
    "\n",
    "\treturn scipy.interpolate.interpn( (range(normalizedBlurredGrid.shape[0]),range(normalizedBlurredGrid.shape[1]),range(normalizedBlurredGrid.shape[2])), normalizedBlurredGrid, (di, dj, dz) )"
   ]
  },
  {
   "cell_type": "code",
   "execution_count": 14,
   "metadata": {},
   "outputs": [
    {
     "ename": "IndexError",
     "evalue": "only integers, slices (`:`), ellipsis (`...`), numpy.newaxis (`None`) and integer or boolean arrays are valid indices",
     "output_type": "error",
     "traceback": [
      "\u001b[0;31m---------------------------------------------------------------------------\u001b[0m",
      "\u001b[0;31mIndexError\u001b[0m                                Traceback (most recent call last)",
      "\u001b[0;32m<ipython-input-14-592ed72887f8>\u001b[0m in \u001b[0;36m<module>\u001b[0;34m\u001b[0m\n\u001b[0;32m----> 1\u001b[0;31m \u001b[0mbilateral_approximation\u001b[0m\u001b[0;34m(\u001b[0m\u001b[0mgrey\u001b[0m\u001b[0;34m,\u001b[0m \u001b[0;34m[\u001b[0m\u001b[0;36m1\u001b[0m\u001b[0;34m]\u001b[0m\u001b[0;34m,\u001b[0m \u001b[0;36m1\u001b[0m\u001b[0;34m,\u001b[0m \u001b[0;36m1\u001b[0m\u001b[0;34m)\u001b[0m\u001b[0;34m\u001b[0m\u001b[0;34m\u001b[0m\u001b[0m\n\u001b[0m",
      "\u001b[0;32m<ipython-input-4-3d84b0a0444f>\u001b[0m in \u001b[0;36mbilateral_approximation\u001b[0;34m(data, edge, sigmaS, sigmaR, samplingS, samplingR, edgeMin, edgeMax)\u001b[0m\n\u001b[1;32m     48\u001b[0m                         \u001b[0mdzk\u001b[0m \u001b[0;34m=\u001b[0m \u001b[0mdz\u001b[0m\u001b[0;34m.\u001b[0m\u001b[0mflat\u001b[0m\u001b[0;34m[\u001b[0m\u001b[0mk\u001b[0m\u001b[0;34m]\u001b[0m\u001b[0;34m\u001b[0m\u001b[0;34m\u001b[0m\u001b[0m\n\u001b[1;32m     49\u001b[0m \u001b[0;34m\u001b[0m\u001b[0m\n\u001b[0;32m---> 50\u001b[0;31m                         \u001b[0mgridData\u001b[0m\u001b[0;34m[\u001b[0m \u001b[0mdik\u001b[0m\u001b[0;34m,\u001b[0m \u001b[0mdjk\u001b[0m\u001b[0;34m,\u001b[0m \u001b[0mdzk\u001b[0m \u001b[0;34m]\u001b[0m \u001b[0;34m+=\u001b[0m \u001b[0mdataZ\u001b[0m\u001b[0;34m\u001b[0m\u001b[0;34m\u001b[0m\u001b[0m\n\u001b[0m\u001b[1;32m     51\u001b[0m                         \u001b[0mgridWeights\u001b[0m\u001b[0;34m[\u001b[0m \u001b[0mdik\u001b[0m\u001b[0;34m,\u001b[0m \u001b[0mdjk\u001b[0m\u001b[0;34m,\u001b[0m \u001b[0mdzk\u001b[0m \u001b[0;34m]\u001b[0m \u001b[0;34m+=\u001b[0m \u001b[0;36m1\u001b[0m\u001b[0;34m\u001b[0m\u001b[0;34m\u001b[0m\u001b[0m\n\u001b[1;32m     52\u001b[0m \u001b[0;34m\u001b[0m\u001b[0m\n",
      "\u001b[0;31mIndexError\u001b[0m: only integers, slices (`:`), ellipsis (`...`), numpy.newaxis (`None`) and integer or boolean arrays are valid indices"
     ]
    }
   ],
   "source": [
    "bilateral_approximation(grey, [1], 1, 1)"
   ]
  },
  {
   "cell_type": "code",
   "execution_count": null,
   "metadata": {},
   "outputs": [],
   "source": []
  },
  {
   "cell_type": "code",
   "execution_count": null,
   "metadata": {},
   "outputs": [],
   "source": []
  },
  {
   "cell_type": "code",
   "execution_count": null,
   "metadata": {},
   "outputs": [],
   "source": []
  },
  {
   "cell_type": "code",
   "execution_count": null,
   "metadata": {},
   "outputs": [],
   "source": []
  }
 ],
 "metadata": {
  "kernelspec": {
   "display_name": "Python 3",
   "language": "python",
   "name": "python3"
  },
  "language_info": {
   "codemirror_mode": {
    "name": "ipython",
    "version": 3
   },
   "file_extension": ".py",
   "mimetype": "text/x-python",
   "name": "python",
   "nbconvert_exporter": "python",
   "pygments_lexer": "ipython3",
   "version": "3.7.2"
  }
 },
 "nbformat": 4,
 "nbformat_minor": 2
}
